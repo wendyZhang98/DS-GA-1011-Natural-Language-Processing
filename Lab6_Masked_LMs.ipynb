{
  "nbformat": 4,
  "nbformat_minor": 0,
  "metadata": {
    "kernelspec": {
      "display_name": "Python 3",
      "language": "python",
      "name": "python3"
    },
    "language_info": {
      "codemirror_mode": {
        "name": "ipython",
        "version": 3
      },
      "file_extension": ".py",
      "mimetype": "text/x-python",
      "name": "python",
      "nbconvert_exporter": "python",
      "pygments_lexer": "ipython3",
      "version": "3.7.3"
    },
    "colab": {
      "name": "Lab6_Masked_LMs.ipynb",
      "provenance": [],
      "collapsed_sections": [
        "E6NUbwAwqAko"
      ]
    },
    "widgets": {
      "application/vnd.jupyter.widget-state+json": {
        "643d500b6ef34fcd9e7bd91c918b81b8": {
          "model_module": "@jupyter-widgets/controls",
          "model_name": "VBoxModel",
          "model_module_version": "1.5.0",
          "state": {
            "_view_name": "VBoxView",
            "_dom_classes": [
              "widget-interact"
            ],
            "_model_name": "VBoxModel",
            "_view_module": "@jupyter-widgets/controls",
            "_model_module_version": "1.5.0",
            "_view_count": null,
            "_view_module_version": "1.5.0",
            "box_style": "",
            "layout": "IPY_MODEL_4f14b7c168734fb3a1e8820e3aa2f2d1",
            "_model_module": "@jupyter-widgets/controls",
            "children": [
              "IPY_MODEL_718e6995abae49559af38e306f92c2db",
              "IPY_MODEL_e6206151ab1843cabf4627280d627563",
              "IPY_MODEL_1c992cedd3d84495bb63d0c6468a69e0",
              "IPY_MODEL_2dec000a73c3459f94f560c80cbc9334"
            ]
          }
        },
        "4f14b7c168734fb3a1e8820e3aa2f2d1": {
          "model_module": "@jupyter-widgets/base",
          "model_name": "LayoutModel",
          "model_module_version": "1.2.0",
          "state": {
            "_view_name": "LayoutView",
            "grid_template_rows": null,
            "right": null,
            "justify_content": null,
            "_view_module": "@jupyter-widgets/base",
            "overflow": null,
            "_model_module_version": "1.2.0",
            "_view_count": null,
            "flex_flow": null,
            "width": null,
            "min_width": null,
            "border": null,
            "align_items": null,
            "bottom": null,
            "_model_module": "@jupyter-widgets/base",
            "top": null,
            "grid_column": null,
            "overflow_y": null,
            "overflow_x": null,
            "grid_auto_flow": null,
            "grid_area": null,
            "grid_template_columns": null,
            "flex": null,
            "_model_name": "LayoutModel",
            "justify_items": null,
            "grid_row": null,
            "max_height": null,
            "align_content": null,
            "visibility": null,
            "align_self": null,
            "height": null,
            "min_height": null,
            "padding": null,
            "grid_auto_rows": null,
            "grid_gap": null,
            "max_width": null,
            "order": null,
            "_view_module_version": "1.2.0",
            "grid_template_areas": null,
            "object_position": null,
            "object_fit": null,
            "grid_auto_columns": null,
            "margin": null,
            "display": null,
            "left": null
          }
        },
        "718e6995abae49559af38e306f92c2db": {
          "model_module": "@jupyter-widgets/controls",
          "model_name": "IntSliderModel",
          "model_module_version": "1.5.0",
          "state": {
            "_view_name": "IntSliderView",
            "style": "IPY_MODEL_4384d9daf8d44d77a28c762937a6cb78",
            "_dom_classes": [],
            "description": "idx",
            "step": 1,
            "_model_name": "IntSliderModel",
            "orientation": "horizontal",
            "max": 38,
            "_view_module": "@jupyter-widgets/controls",
            "_model_module_version": "1.5.0",
            "value": 25,
            "_view_count": null,
            "disabled": false,
            "_view_module_version": "1.5.0",
            "min": 0,
            "continuous_update": true,
            "readout_format": "d",
            "description_tooltip": null,
            "readout": true,
            "_model_module": "@jupyter-widgets/controls",
            "layout": "IPY_MODEL_c6cc1842f3c341528134fa61dc8b5105"
          }
        },
        "e6206151ab1843cabf4627280d627563": {
          "model_module": "@jupyter-widgets/controls",
          "model_name": "DropdownModel",
          "model_module_version": "1.5.0",
          "state": {
            "_options_labels": [
              "0",
              "1",
              "2",
              "3",
              "4",
              "5",
              "6",
              "7",
              "8",
              "9",
              "10",
              "11"
            ],
            "_view_name": "DropdownView",
            "style": "IPY_MODEL_71556918ee27422a93a48fac01244e7a",
            "_dom_classes": [],
            "description": "attn_layer",
            "_model_name": "DropdownModel",
            "index": 0,
            "_view_module": "@jupyter-widgets/controls",
            "_model_module_version": "1.5.0",
            "_view_count": null,
            "disabled": false,
            "_view_module_version": "1.5.0",
            "description_tooltip": null,
            "_model_module": "@jupyter-widgets/controls",
            "layout": "IPY_MODEL_d62487a2a11b4fc38a1f8f12dcfaa98c"
          }
        },
        "1c992cedd3d84495bb63d0c6468a69e0": {
          "model_module": "@jupyter-widgets/controls",
          "model_name": "CheckboxModel",
          "model_module_version": "1.5.0",
          "state": {
            "_view_name": "CheckboxView",
            "style": "IPY_MODEL_391cec4d159f4f6d89c3ebc10d1a37e4",
            "_dom_classes": [],
            "description": "is_correct",
            "_model_name": "CheckboxModel",
            "_view_module": "@jupyter-widgets/controls",
            "_model_module_version": "1.5.0",
            "value": true,
            "_view_count": null,
            "disabled": false,
            "_view_module_version": "1.5.0",
            "indent": true,
            "description_tooltip": null,
            "_model_module": "@jupyter-widgets/controls",
            "layout": "IPY_MODEL_8d114a336260465ca12eb7e18d57b8a1"
          }
        },
        "2dec000a73c3459f94f560c80cbc9334": {
          "model_module": "@jupyter-widgets/output",
          "model_name": "OutputModel",
          "model_module_version": "1.0.0",
          "state": {
            "_view_name": "OutputView",
            "msg_id": "",
            "_dom_classes": [],
            "_model_name": "OutputModel",
            "outputs": [
              {
                "output_type": "stream",
                "name": "stdout",
                "text": [
                  "The top 400 richest Americans have more than half of the [MASK] of all Americans combined.\n",
                  "    \tlabel:\twealth\n",
                  "\n",
                  "    \ttop:\n",
                  "\twealth\t(0.7103)\n",
                  "\t\tincome\t(0.1293)\n",
                  "\t\tearnings\t(0.0297)\n",
                  "\t\tGDP\t(0.0239)\n",
                  "\t\tpopulation\t(0.0117)\n",
                  "\t\tassets\t(0.0104)\n",
                  "\t\tvotes\t(0.0053)\n",
                  "\t\tsavings\t(0.0037)\n",
                  "\t\tsalaries\t(0.0037)\n",
                  "\t\twages\t(0.0021)\n",
                  "    \n",
                  "Attention weights (12 heads) from layer 0:\n"
                ]
              },
              {
                "output_type": "display_data",
                "data": {
                  "image/png": "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\n",
                  "text/plain": "<Figure size 1296x864 with 12 Axes>"
                },
                "metadata": {
                  "needs_background": "light"
                }
              }
            ],
            "_view_module": "@jupyter-widgets/output",
            "_model_module_version": "1.0.0",
            "_view_count": null,
            "_view_module_version": "1.0.0",
            "layout": "IPY_MODEL_81c3b5bf0df146acb3e7ff9707396ca9",
            "_model_module": "@jupyter-widgets/output"
          }
        },
        "4384d9daf8d44d77a28c762937a6cb78": {
          "model_module": "@jupyter-widgets/controls",
          "model_name": "SliderStyleModel",
          "model_module_version": "1.5.0",
          "state": {
            "_view_name": "StyleView",
            "handle_color": null,
            "_model_name": "SliderStyleModel",
            "description_width": "",
            "_view_module": "@jupyter-widgets/base",
            "_model_module_version": "1.5.0",
            "_view_count": null,
            "_view_module_version": "1.2.0",
            "_model_module": "@jupyter-widgets/controls"
          }
        },
        "c6cc1842f3c341528134fa61dc8b5105": {
          "model_module": "@jupyter-widgets/base",
          "model_name": "LayoutModel",
          "model_module_version": "1.2.0",
          "state": {
            "_view_name": "LayoutView",
            "grid_template_rows": null,
            "right": null,
            "justify_content": null,
            "_view_module": "@jupyter-widgets/base",
            "overflow": null,
            "_model_module_version": "1.2.0",
            "_view_count": null,
            "flex_flow": null,
            "width": null,
            "min_width": null,
            "border": null,
            "align_items": null,
            "bottom": null,
            "_model_module": "@jupyter-widgets/base",
            "top": null,
            "grid_column": null,
            "overflow_y": null,
            "overflow_x": null,
            "grid_auto_flow": null,
            "grid_area": null,
            "grid_template_columns": null,
            "flex": null,
            "_model_name": "LayoutModel",
            "justify_items": null,
            "grid_row": null,
            "max_height": null,
            "align_content": null,
            "visibility": null,
            "align_self": null,
            "height": null,
            "min_height": null,
            "padding": null,
            "grid_auto_rows": null,
            "grid_gap": null,
            "max_width": null,
            "order": null,
            "_view_module_version": "1.2.0",
            "grid_template_areas": null,
            "object_position": null,
            "object_fit": null,
            "grid_auto_columns": null,
            "margin": null,
            "display": null,
            "left": null
          }
        },
        "71556918ee27422a93a48fac01244e7a": {
          "model_module": "@jupyter-widgets/controls",
          "model_name": "DescriptionStyleModel",
          "model_module_version": "1.5.0",
          "state": {
            "_view_name": "StyleView",
            "_model_name": "DescriptionStyleModel",
            "description_width": "",
            "_view_module": "@jupyter-widgets/base",
            "_model_module_version": "1.5.0",
            "_view_count": null,
            "_view_module_version": "1.2.0",
            "_model_module": "@jupyter-widgets/controls"
          }
        },
        "d62487a2a11b4fc38a1f8f12dcfaa98c": {
          "model_module": "@jupyter-widgets/base",
          "model_name": "LayoutModel",
          "model_module_version": "1.2.0",
          "state": {
            "_view_name": "LayoutView",
            "grid_template_rows": null,
            "right": null,
            "justify_content": null,
            "_view_module": "@jupyter-widgets/base",
            "overflow": null,
            "_model_module_version": "1.2.0",
            "_view_count": null,
            "flex_flow": null,
            "width": null,
            "min_width": null,
            "border": null,
            "align_items": null,
            "bottom": null,
            "_model_module": "@jupyter-widgets/base",
            "top": null,
            "grid_column": null,
            "overflow_y": null,
            "overflow_x": null,
            "grid_auto_flow": null,
            "grid_area": null,
            "grid_template_columns": null,
            "flex": null,
            "_model_name": "LayoutModel",
            "justify_items": null,
            "grid_row": null,
            "max_height": null,
            "align_content": null,
            "visibility": null,
            "align_self": null,
            "height": null,
            "min_height": null,
            "padding": null,
            "grid_auto_rows": null,
            "grid_gap": null,
            "max_width": null,
            "order": null,
            "_view_module_version": "1.2.0",
            "grid_template_areas": null,
            "object_position": null,
            "object_fit": null,
            "grid_auto_columns": null,
            "margin": null,
            "display": null,
            "left": null
          }
        },
        "391cec4d159f4f6d89c3ebc10d1a37e4": {
          "model_module": "@jupyter-widgets/controls",
          "model_name": "DescriptionStyleModel",
          "model_module_version": "1.5.0",
          "state": {
            "_view_name": "StyleView",
            "_model_name": "DescriptionStyleModel",
            "description_width": "",
            "_view_module": "@jupyter-widgets/base",
            "_model_module_version": "1.5.0",
            "_view_count": null,
            "_view_module_version": "1.2.0",
            "_model_module": "@jupyter-widgets/controls"
          }
        },
        "8d114a336260465ca12eb7e18d57b8a1": {
          "model_module": "@jupyter-widgets/base",
          "model_name": "LayoutModel",
          "model_module_version": "1.2.0",
          "state": {
            "_view_name": "LayoutView",
            "grid_template_rows": null,
            "right": null,
            "justify_content": null,
            "_view_module": "@jupyter-widgets/base",
            "overflow": null,
            "_model_module_version": "1.2.0",
            "_view_count": null,
            "flex_flow": null,
            "width": null,
            "min_width": null,
            "border": null,
            "align_items": null,
            "bottom": null,
            "_model_module": "@jupyter-widgets/base",
            "top": null,
            "grid_column": null,
            "overflow_y": null,
            "overflow_x": null,
            "grid_auto_flow": null,
            "grid_area": null,
            "grid_template_columns": null,
            "flex": null,
            "_model_name": "LayoutModel",
            "justify_items": null,
            "grid_row": null,
            "max_height": null,
            "align_content": null,
            "visibility": null,
            "align_self": null,
            "height": null,
            "min_height": null,
            "padding": null,
            "grid_auto_rows": null,
            "grid_gap": null,
            "max_width": null,
            "order": null,
            "_view_module_version": "1.2.0",
            "grid_template_areas": null,
            "object_position": null,
            "object_fit": null,
            "grid_auto_columns": null,
            "margin": null,
            "display": null,
            "left": null
          }
        },
        "81c3b5bf0df146acb3e7ff9707396ca9": {
          "model_module": "@jupyter-widgets/base",
          "model_name": "LayoutModel",
          "model_module_version": "1.2.0",
          "state": {
            "_view_name": "LayoutView",
            "grid_template_rows": null,
            "right": null,
            "justify_content": null,
            "_view_module": "@jupyter-widgets/base",
            "overflow": null,
            "_model_module_version": "1.2.0",
            "_view_count": null,
            "flex_flow": null,
            "width": null,
            "min_width": null,
            "border": null,
            "align_items": null,
            "bottom": null,
            "_model_module": "@jupyter-widgets/base",
            "top": null,
            "grid_column": null,
            "overflow_y": null,
            "overflow_x": null,
            "grid_auto_flow": null,
            "grid_area": null,
            "grid_template_columns": null,
            "flex": null,
            "_model_name": "LayoutModel",
            "justify_items": null,
            "grid_row": null,
            "max_height": null,
            "align_content": null,
            "visibility": null,
            "align_self": null,
            "height": null,
            "min_height": null,
            "padding": null,
            "grid_auto_rows": null,
            "grid_gap": null,
            "max_width": null,
            "order": null,
            "_view_module_version": "1.2.0",
            "grid_template_areas": null,
            "object_position": null,
            "object_fit": null,
            "grid_auto_columns": null,
            "margin": null,
            "display": null,
            "left": null
          }
        }
      }
    }
  },
  "cells": [
    {
      "cell_type": "markdown",
      "metadata": {
        "id": "ATtRfWcZqAkD"
      },
      "source": [
        "# Masked Language Modeling\n",
        "\n",
        "In this lab, we will overview the **masked language modeling** objective, and a popular model architecture called the **Transformer** used for large-scale masked language modeling.\n"
      ]
    },
    {
      "cell_type": "code",
      "metadata": {
        "colab": {
          "base_uri": "https://localhost:8080/"
        },
        "id": "-wXqldK_qAkJ",
        "outputId": "02be458d-0be5-4610-f65c-7c03865a7b9a"
      },
      "source": [
        "%pylab inline\n",
        "import os, sys, glob, json, math\n",
        "import pandas as pd\n",
        "from tqdm import tqdm\n",
        "from pprint import pprint\n",
        "from collections import defaultdict\n",
        "import torch\n",
        "import torch.nn as nn\n",
        "\n",
        "%load_ext autoreload\n",
        "%autoreload 2\n",
        "pd.set_option('display.max_colwidth', -1)"
      ],
      "execution_count": null,
      "outputs": [
        {
          "output_type": "stream",
          "name": "stdout",
          "text": [
            "Populating the interactive namespace from numpy and matplotlib\n"
          ]
        },
        {
          "output_type": "stream",
          "name": "stderr",
          "text": [
            "/usr/local/lib/python3.7/dist-packages/ipykernel_launcher.py:12: FutureWarning: Passing a negative integer is deprecated in version 1.0 and will not be supported in future version. Instead, use None to not limit the column width.\n",
            "  if sys.path[0] == '':\n"
          ]
        }
      ]
    },
    {
      "cell_type": "markdown",
      "metadata": {
        "id": "APog-4CrqAkN"
      },
      "source": [
        "## Background\n",
        "\n",
        "Recently, Devlin et al. published [BERT: Pre-training of Deep Bidirectional Transformers for\n",
        "Language Understanding](https://arxiv.org/pdf/1810.04805.pdf).\n",
        "\n",
        "\n",
        "**B**idirectional\n",
        "\n",
        "**E**ncoder\n",
        "\n",
        "**R**epresentations from\n",
        "\n",
        "**T**ransformers\n",
        "\n",
        "\n",
        "#### Goal: \n",
        "1. **pre-train** a model that produces language representations. (*this week's lab*)\n",
        "2. **fine-tune** the model on a task. (*next week's lab*)\n",
        "    \n"
      ]
    },
    {
      "cell_type": "markdown",
      "metadata": {
        "id": "d4aeJj2rqAkP"
      },
      "source": [
        "## Masked Language Model Objective\n",
        "\n",
        "Randomly mask some of the tokens from the input, predict original vocabulary id of each masked token.\n",
        "\n",
        "- Given sequence $\\mathbf{x} = x_1,\\ldots,x_T$.\n",
        "\n",
        "- Form **mask** $m_1,\\ldots,m_T$ where $m_i\\in \\{0,1\\}$.\n",
        "    - E.g. $m_i=1$ with probability 0.15\n",
        "    \n",
        "- Form **masked sequence** $\\tilde{x}_1,\\ldots,\\tilde{x}_T$.\n",
        "    \n",
        "    $\\tilde{x}_i = $\n",
        "\n",
        "    \\begin{cases} x_i & m_i=0 \\\\ \\texttt{[MASK]} & m_i=1 \\end{cases}\n",
        "\n",
        "\n",
        "$\\mathcal{L}_{\\text{MLM}}=-\\sum_{\\underbrace{i | m_i=1}_{\\text{MASKED POSITIONS}}}\\log p_{\\theta}(\\underbrace{x_i}_{\\text{TRUE TOKEN}}|\\underbrace{\\tilde{x}_1,\\ldots,\\tilde{x}_T}_{\\text{MASKED SEQUENCE}})$\n",
        "\n",
        "\n",
        "<!-- Below, we will discuss the exact form of $\\tilde{x}_i$ that the BERT authors used. -->\n",
        "\n",
        "\n",
        "<!-- #### Diagram of BERT Implementation -->\n",
        "<!-- ![](bert_overview.png) -->"
      ]
    },
    {
      "cell_type": "markdown",
      "metadata": {
        "id": "CLKGpU4tqAkQ"
      },
      "source": [
        "## Transformers\n",
        "\n",
        "So far we have modeled a sequence by factorizing the joint distribution into conditionals, and **parameterizing each conditional with a recurrent network**:\n",
        "\n",
        "\n",
        "#### $$p_{\\theta}(x_1,\\ldots,x_T)=\\prod_{t=1}^T p_{\\theta}(x_t | x_{<t})$$\n",
        "\\begin{align}\n",
        "h_t &= RNNCell(x_{t}, h_{t-1}) \\quad \\text{We need T calls to process a sequence!}\\\\\n",
        "p_{\\theta}(x_t | x_{<t}) &=\\text{softmax}\\left(Wh_t+b\\right),\n",
        "\\end{align}\n",
        "\n",
        "where $\\theta$ are the model parameters (RNN parameters, $W, b$, embedding matrix).\n",
        "\n",
        "\n",
        "#### Alternative\n",
        "\n",
        "An alternative proposed in [[Vaswani et al 2017](https://arxiv.org/pdf/1706.03762.pdf)] is to parameterize each conditional with a **particular feed-forward architecture** called the **Transformer**. With this model, it is possible to compute all conditionals with a **single feed-forward pass**:\n",
        "\\begin{align}\n",
        "(h_1,\\ldots,h_T) &= Transformer(x) \\quad \\text{No need to call transformer t times!} \\\\\n",
        "p_{\\theta}(x_t | x_{<t}) &= \\text{softmax}\\left(Wh_t + b\\right)\n",
        "\\end{align}\n",
        "\n",
        "We will discuss briefly the key ideas, the overall Transformer architecture (encoder only), and how they are used in Pytorch."
      ]
    },
    {
      "cell_type": "markdown",
      "metadata": {
        "id": "OuTLUz5TqAkS"
      },
      "source": [
        "### High-Level View\n",
        "\n",
        "We can view the Transformer encoder as mapping a sequence to a sequence of vectors.\n",
        "\n",
        "![Drawing](https://drive.google.com/uc?export=view&id=1ru2nIDNxZ-A4xEtUAJFs8h_IMiMydjjk)"
      ]
    },
    {
      "cell_type": "markdown",
      "metadata": {
        "id": "a-CmDlj4qAkT"
      },
      "source": [
        "Let's step through the key ideas of how this mapping is designed, and discuss some of its resulting properties."
      ]
    },
    {
      "cell_type": "markdown",
      "metadata": {
        "id": "h2rOyMx6qAkT"
      },
      "source": [
        "### Key Idea 1: Position Embeddings\n",
        "\n",
        "Unlike RNNs which can learn positional information via the hidden state over time, the Transformer has no notion of time (**similar to the bag-of-words model you implemented**).\n",
        "\n",
        "Thus we encode inputs with **position** as well as **token** embeddings:\n",
        "\n",
        "![Drawing](https://drive.google.com/uc?export=view&id=1MXvjtVmTqaNImOaQqDBGru-HqXSjV8tm)\n",
        "\n",
        "Positional embeddings usually have the same dimensionality as token embeddings. Here we learn positional embeddings similarly to tokens embeddings starting from random initialization. However, there exist approaches which do not require training e.g. sinusoidal PE https://medium.com/nlp-trend-and-review-en/positional-embeddings-7b168da36605).\n",
        "\n"
      ]
    },
    {
      "cell_type": "code",
      "metadata": {
        "id": "r2g5y_naqAkV"
      },
      "source": [
        "input_sequence = ['<s>', 'my', 'pet', '[M]', '<s>']\n",
        "\n",
        "max_len = 10\n",
        "\n",
        "vocab = {'<s>': 0, 'my': 1, 'pet': 2, 'dog': 3, 'cat': 4, 'lion': 5, '[M]': 6, '<pad>': 7}\n",
        "\n",
        "pad_idx = 7\n",
        "dim = 6\n",
        "\n",
        "token_embed = nn.Embedding(len(vocab), embedding_dim=dim)\n",
        "position_embed = nn.Embedding(max_len, embedding_dim=dim)"
      ],
      "execution_count": null,
      "outputs": []
    },
    {
      "cell_type": "code",
      "metadata": {
        "colab": {
          "base_uri": "https://localhost:8080/"
        },
        "id": "mkIyY194qAkX",
        "outputId": "3ec080fd-ad6f-420f-b07e-0a33819ad262"
      },
      "source": [
        "input_vector = torch.tensor([vocab[x] for x in input_sequence]).unsqueeze(1)\n",
        "\n",
        "input_embeddings = token_embed(input_vector) + position_embed(torch.arange(len(input_vector)).unsqueeze(1))\n",
        "input_embeddings.size()"
      ],
      "execution_count": null,
      "outputs": [
        {
          "output_type": "execute_result",
          "data": {
            "text/plain": [
              "torch.Size([5, 1, 6])"
            ]
          },
          "metadata": {},
          "execution_count": 3
        }
      ]
    },
    {
      "cell_type": "markdown",
      "metadata": {
        "id": "uSmQsgvwqAkX"
      },
      "source": [
        "**Warning!!** The pytorch Transformer classes accept input shaped as `Length x Batch x Dim`"
      ]
    },
    {
      "cell_type": "markdown",
      "metadata": {
        "id": "kJsM49CVqAkY"
      },
      "source": [
        "#### Key Idea 2: Modularity\n",
        "The Transformer (encoder) is composed of a stack of **N identical layers**.\n",
        "\n",
        "![Drawing](https://drive.google.com/uc?export=view&id=1yO6VcQzhhk0iMK1bUu_ke_orXvFw7y3l)"
      ]
    },
    {
      "cell_type": "code",
      "metadata": {
        "id": "B3-PWAw8qAkZ"
      },
      "source": [
        "import torch.nn as nn\n",
        "nn.TransformerEncoder?"
      ],
      "execution_count": null,
      "outputs": []
    },
    {
      "cell_type": "markdown",
      "metadata": {
        "id": "J4PkDs9uqAkZ"
      },
      "source": [
        "#### The `forward` passes the input through the N layers, then normalizes it:\n",
        "\n",
        "**Warning!!** The forward function accepts input as `Length x Batch x Dim`"
      ]
    },
    {
      "cell_type": "code",
      "metadata": {
        "id": "Xw_TGleAqAka"
      },
      "source": [
        "nn.TransformerEncoder.forward??"
      ],
      "execution_count": null,
      "outputs": []
    },
    {
      "cell_type": "code",
      "metadata": {
        "id": "TP5wstcwqAka"
      },
      "source": [
        "encoder_layer = nn.TransformerEncoderLayer(d_model=dim, nhead=2, dim_feedforward=64, dropout=0.1)\n",
        "\n",
        "encoder = nn.TransformerEncoder(encoder_layer, num_layers=4)"
      ],
      "execution_count": null,
      "outputs": []
    },
    {
      "cell_type": "code",
      "metadata": {
        "colab": {
          "base_uri": "https://localhost:8080/"
        },
        "id": "QkJE4clbqAkb",
        "outputId": "f5bc0297-fe12-4dde-ce39-d99f861b8311"
      },
      "source": [
        "outputs = encoder(input_embeddings)\n",
        "\n",
        "print(\"input size: \\t%s\" % str(tuple(input_embeddings.shape)))\n",
        "print(\"output size:\\t%s\" % str(tuple(outputs.shape)))\n",
        "outputs"
      ],
      "execution_count": null,
      "outputs": [
        {
          "output_type": "stream",
          "name": "stdout",
          "text": [
            "input size: \t(5, 1, 6)\n",
            "output size:\t(5, 1, 6)\n"
          ]
        },
        {
          "output_type": "execute_result",
          "data": {
            "text/plain": [
              "tensor([[[ 1.5190, -0.1116,  0.4945, -1.4319,  0.5633, -1.0334]],\n",
              "\n",
              "        [[ 0.3832, -1.5494, -0.7756, -0.3796,  1.2404,  1.0809]],\n",
              "\n",
              "        [[-0.7320,  1.2635,  0.4798, -1.7963,  0.6191,  0.1658]],\n",
              "\n",
              "        [[-1.7166,  1.3516,  0.4973,  0.6291, -0.7639,  0.0026]],\n",
              "\n",
              "        [[ 1.3709,  0.3752,  0.6588, -1.5671,  0.1889, -1.0268]]],\n",
              "       grad_fn=<NativeLayerNormBackward>)"
            ]
          },
          "metadata": {},
          "execution_count": 7
        }
      ]
    },
    {
      "cell_type": "markdown",
      "metadata": {
        "id": "9AAVRV-kqAkc"
      },
      "source": [
        "#### Each layer has two parts, **self-attention** and a feed-forward transformation:\n",
        "\n",
        "![Drawing](https://drive.google.com/uc?export=view&id=1yO6VcQzhhk0iMK1bUu_ke_orXvFw7y3l)"
      ]
    },
    {
      "cell_type": "code",
      "metadata": {
        "id": "VxdsAb1gqAkc"
      },
      "source": [
        "nn.TransformerEncoderLayer??"
      ],
      "execution_count": null,
      "outputs": []
    },
    {
      "cell_type": "code",
      "metadata": {
        "id": "QuI3aN07qAkc"
      },
      "source": [
        "nn.TransformerEncoderLayer.forward??"
      ],
      "execution_count": null,
      "outputs": []
    },
    {
      "cell_type": "markdown",
      "metadata": {
        "id": "1PaZS5UXqAkd"
      },
      "source": [
        "### Key Idea 3: Self-Attention\n",
        "\n",
        "In the RNN, the hidden state contains information about previous tokens.\n",
        "The Transformer instead performs **attention** over all inputs at a given layer. 'Attention' computes an output vector by taking a weighted sum of input vectors. The weights are 'attention weights'. The Transformer uses **scaled dot-product attention**:\n",
        "#### $$\\text{Attention}(Q,K,V)=\\text{softmax}\\left(\\frac{QK^\\top}{\\sqrt{d_k}}\\right)V$$\n",
        "\n",
        "and 'Multi-head Attention' refers to applying several of these operations in parallel ($Q, K, V \\in \\mathbf{R}^{d_\\text{model} \\times d_k}$ refer to the query, key, and value matrices respectively). \n",
        "Attention scores from different heads are then concatenated and compressed into a single attention vector by applying an additional linear layer.\n",
        "\n",
        "![Drawing](https://drive.google.com/uc?export=view&id=1U8X3jQko0ydDe2PVHe7cxf4XqhfJ-M6I)\n",
        "\n",
        "Above image is from [Illustrated Transformer](http://jalammar.github.io/illustrated-transformer/).\n",
        "\n",
        "#### *Key Property*: Each output vector of a layer $n$ can use information from **all** inputs to the layer $n$.\n",
        "\n",
        "Thus each **final output vector** can incorporate information from **all input words**.\n",
        "\n",
        "(If we want to prevent information flow such as in left-to-right language modeling, we can use masking)."
      ]
    },
    {
      "cell_type": "code",
      "metadata": {
        "colab": {
          "base_uri": "https://localhost:8080/"
        },
        "id": "QBcAaZbmqAke",
        "outputId": "a8e5a643-a4ec-4e0c-96b7-8981c25a6559"
      },
      "source": [
        "attn = nn.MultiheadAttention(embed_dim=dim, num_heads=2, dropout=0.0)\n",
        "\n",
        "attn_outputs, attn_weights = attn.forward(query=outputs, key=outputs, value=outputs)\n",
        "\n",
        "print(\"input shape: %s\" % (str(tuple(outputs.size()))))\n",
        "print(\"output shape: %s\" % (str(tuple(attn_outputs.size()))))\n",
        "print(outputs)\n",
        "\n",
        "print(\"\\nattn weights shape: %s\" % (str(tuple(attn_weights.size()))))\n",
        "print(attn_weights)"
      ],
      "execution_count": null,
      "outputs": [
        {
          "output_type": "stream",
          "name": "stdout",
          "text": [
            "input shape: (5, 1, 6)\n",
            "output shape: (5, 1, 6)\n",
            "tensor([[[ 1.5190, -0.1116,  0.4945, -1.4319,  0.5633, -1.0334]],\n",
            "\n",
            "        [[ 0.3832, -1.5494, -0.7756, -0.3796,  1.2404,  1.0809]],\n",
            "\n",
            "        [[-0.7320,  1.2635,  0.4798, -1.7963,  0.6191,  0.1658]],\n",
            "\n",
            "        [[-1.7166,  1.3516,  0.4973,  0.6291, -0.7639,  0.0026]],\n",
            "\n",
            "        [[ 1.3709,  0.3752,  0.6588, -1.5671,  0.1889, -1.0268]]],\n",
            "       grad_fn=<NativeLayerNormBackward>)\n",
            "\n",
            "attn weights shape: (1, 5, 5)\n",
            "tensor([[[0.2475, 0.1575, 0.1896, 0.1661, 0.2392],\n",
            "         [0.1866, 0.2408, 0.1360, 0.2386, 0.1981],\n",
            "         [0.2551, 0.1334, 0.2261, 0.1380, 0.2475],\n",
            "         [0.1880, 0.1689, 0.2610, 0.1980, 0.1841],\n",
            "         [0.2521, 0.1464, 0.2026, 0.1576, 0.2414]]], grad_fn=<DivBackward0>)\n"
          ]
        }
      ]
    },
    {
      "cell_type": "markdown",
      "metadata": {
        "id": "y8OQM_10vt33"
      },
      "source": [
        "## Attention masks: \n",
        "\n",
        "Pytorch provides interface for 2 kinds of masking:\n",
        "\n",
        "1. Masking padding tokens (argument `key_padding_mask`): model should never attend to padding tokens!\n",
        "2. Masking arbitrary positions from keys (argument `attn_mask`): this allows to exclude some positions from attention. This is used for e.g. left-to-right causal masking.\n",
        "\n",
        "Check this doc for more details: https://pytorch.org/docs/stable/generated/torch.nn.MultiheadAttention.html?highlight=multiheadattention#torch.nn.MultiheadAttention\n"
      ]
    },
    {
      "cell_type": "code",
      "metadata": {
        "colab": {
          "base_uri": "https://localhost:8080/"
        },
        "id": "SETIgqiivSZB",
        "outputId": "cc3e5056-348a-4356-976d-7f1d13551dab"
      },
      "source": [
        "# adding causal mask\n",
        "mask = (1-torch.tril(torch.ones(outputs.size(0), outputs.size(0)))).bool()\n",
        "print(\"Attn mask:\\n\")\n",
        "print(mask)\n",
        "print()\n",
        "\n",
        "attn_outputs, attn_weights = attn.forward(query=outputs, key=outputs, value=outputs, attn_mask=mask)\n",
        "\n",
        "print(\"input shape: %s\" % (str(tuple(outputs.size()))))\n",
        "print(\"output shape: %s\" % (str(tuple(attn_outputs.size()))))\n",
        "print(outputs)\n",
        "\n",
        "print(\"\\nattn weights shape: %s\" % (str(tuple(attn_weights.size()))))\n",
        "print(attn_weights)"
      ],
      "execution_count": null,
      "outputs": [
        {
          "output_type": "stream",
          "name": "stdout",
          "text": [
            "Attn mask:\n",
            "\n",
            "tensor([[False,  True,  True,  True,  True],\n",
            "        [False, False,  True,  True,  True],\n",
            "        [False, False, False,  True,  True],\n",
            "        [False, False, False, False,  True],\n",
            "        [False, False, False, False, False]])\n",
            "\n",
            "input shape: (5, 1, 6)\n",
            "output shape: (5, 1, 6)\n",
            "tensor([[[ 1.5190, -0.1116,  0.4945, -1.4319,  0.5633, -1.0334]],\n",
            "\n",
            "        [[ 0.3832, -1.5494, -0.7756, -0.3796,  1.2404,  1.0809]],\n",
            "\n",
            "        [[-0.7320,  1.2635,  0.4798, -1.7963,  0.6191,  0.1658]],\n",
            "\n",
            "        [[-1.7166,  1.3516,  0.4973,  0.6291, -0.7639,  0.0026]],\n",
            "\n",
            "        [[ 1.3709,  0.3752,  0.6588, -1.5671,  0.1889, -1.0268]]],\n",
            "       grad_fn=<NativeLayerNormBackward>)\n",
            "\n",
            "attn weights shape: (1, 5, 5)\n",
            "tensor([[[1.0000, 0.0000, 0.0000, 0.0000, 0.0000],\n",
            "         [0.4493, 0.5507, 0.0000, 0.0000, 0.0000],\n",
            "         [0.4086, 0.2093, 0.3821, 0.0000, 0.0000],\n",
            "         [0.2305, 0.2068, 0.3209, 0.2418, 0.0000],\n",
            "         [0.2521, 0.1464, 0.2026, 0.1576, 0.2414]]], grad_fn=<DivBackward0>)\n"
          ]
        }
      ]
    },
    {
      "cell_type": "markdown",
      "metadata": {
        "id": "ysofAznJqAkf"
      },
      "source": [
        "#### Summary"
      ]
    },
    {
      "cell_type": "code",
      "metadata": {
        "id": "FIoyPhLVqAkf"
      },
      "source": [
        "class Transformer(nn.Module):\n",
        "    def __init__(self, vocab_size, max_len, pad_idx, dim=8, num_layers=4, nhead=2):\n",
        "        super().__init__()\n",
        "        self.token_embed = nn.Embedding(vocab_size, dim)\n",
        "        self.position_embed = nn.Embedding(max_len, dim)\n",
        "        encoder_layer = nn.TransformerEncoderLayer(d_model=dim, nhead=nhead, dim_feedforward=64, dropout=0.0)\n",
        "        self.encoder = nn.TransformerEncoder(encoder_layer, num_layers=num_layers)\n",
        "\n",
        "        # projection tansforms hidden representations into logits for each token in the vocabulary\n",
        "        self.projection = nn.Linear(dim, vocab_size)\n",
        "        self.pad_idx = pad_idx\n",
        "    \n",
        "    def features(self, token_indices):\n",
        "        pos = torch.arange(len(token_indices), device=token_indices.device).unsqueeze(1) # shape: [seq_len x 1]\n",
        "        x = self.token_embed(token_indices) + self.position_embed(pos) # shape: [seq_len x batch_size x hidden_size]\n",
        "\n",
        "        # we use 'attention mask' to ignore <pad> tokens during processing\n",
        "        # attention mask is a binary vector having 1 on positions correspoding to <pad> tokens, and 0 otherwise\n",
        "        attn_mask = ~token_indices.ne(self.pad_idx).transpose(0, 1) # shape: [batch_size x seq_len]\n",
        "\n",
        "        x = self.encoder(x, src_key_padding_mask=attn_mask) # shape: [seq_len x batch_size x hidden_size]\n",
        "        return x\n",
        "    \n",
        "    def forward(self, token_indices):\n",
        "        x = self.features(token_indices) # shape: [seq_len x batch_size x hidden_size]\n",
        "        x = self.projection(x) # shape: [seq_len x batch_size x vocab_size]\n",
        "        return x"
      ],
      "execution_count": null,
      "outputs": []
    },
    {
      "cell_type": "code",
      "metadata": {
        "colab": {
          "base_uri": "https://localhost:8080/"
        },
        "id": "CTHlKQScqAkf",
        "outputId": "380bc905-bf46-40b9-f3d9-4387583159e4"
      },
      "source": [
        "model = Transformer(len(vocab), max_len=100, pad_idx=pad_idx)\n",
        "\n",
        "model.features(input_vector)"
      ],
      "execution_count": null,
      "outputs": [
        {
          "output_type": "execute_result",
          "data": {
            "text/plain": [
              "tensor([[[-0.3334,  1.6998,  0.0668, -1.5477, -0.9966, -0.4759,  1.0390,\n",
              "           0.5480]],\n",
              "\n",
              "        [[ 0.0634,  1.8216, -0.2919, -1.7535, -0.8763, -0.1555,  0.5098,\n",
              "           0.6824]],\n",
              "\n",
              "        [[-1.0470,  1.7331,  0.5718, -0.8491, -0.7864, -0.5778,  1.3273,\n",
              "          -0.3717]],\n",
              "\n",
              "        [[-0.2668,  1.2357,  0.1098, -0.8498, -1.1265, -0.7275,  1.9415,\n",
              "          -0.3163]],\n",
              "\n",
              "        [[-0.1503,  1.7762, -0.3093, -0.9540, -1.0494, -0.9841,  1.2543,\n",
              "           0.4166]]], grad_fn=<NativeLayerNormBackward>)"
            ]
          },
          "metadata": {},
          "execution_count": 12
        }
      ]
    },
    {
      "cell_type": "markdown",
      "metadata": {
        "id": "nZgthb_zqAkh"
      },
      "source": [
        "## Back to Masked Language Modeling\n",
        "\n",
        "Recall the **key property** of Transformers: due to self-attention, each output vector can incorporate information from *all* input tokens.\n",
        "\n",
        "![Drawing](https://drive.google.com/uc?export=view&id=1RMGwljcEnedShwAjg811rPH50ZBnuFSo)\n",
        "\n",
        "This is useful for masked language modeling, where we want to use information from the entire context when predicting the masked token(s)."
      ]
    },
    {
      "cell_type": "markdown",
      "metadata": {
        "id": "jgLxATGGqAko"
      },
      "source": [
        "## *BERT*\n",
        "\n",
        "**B**idirectional\n",
        "\n",
        "**E**ncoder\n",
        "\n",
        "**R**epresentations from\n",
        "\n",
        "**T**ransformers"
      ]
    },
    {
      "cell_type": "markdown",
      "metadata": {
        "id": "E6NUbwAwqAko"
      },
      "source": [
        "#### - Masked Language Modeling at scale\n",
        "\n",
        "#### - Learned representations are useful for downstream tasks"
      ]
    },
    {
      "cell_type": "markdown",
      "metadata": {
        "id": "ziNcD4NlqAko"
      },
      "source": [
        "#### Great implementation in [transformers](https://github.com/huggingface/transformers):\n",
        "\n",
        "    pip install transformers"
      ]
    },
    {
      "cell_type": "code",
      "metadata": {
        "colab": {
          "base_uri": "https://localhost:8080/"
        },
        "id": "gb4w16xYyb8_",
        "outputId": "ba6d61b1-d403-4652-e141-e4c44e7174f5"
      },
      "source": [
        "! pip install transformers"
      ],
      "execution_count": null,
      "outputs": [
        {
          "output_type": "stream",
          "name": "stdout",
          "text": [
            "Collecting transformers\n",
            "  Downloading transformers-4.11.3-py3-none-any.whl (2.9 MB)\n",
            "\u001b[K     |████████████████████████████████| 2.9 MB 8.4 MB/s \n",
            "\u001b[?25hRequirement already satisfied: packaging>=20.0 in /usr/local/lib/python3.7/dist-packages (from transformers) (21.0)\n",
            "Requirement already satisfied: regex!=2019.12.17 in /usr/local/lib/python3.7/dist-packages (from transformers) (2019.12.20)\n",
            "Requirement already satisfied: tqdm>=4.27 in /usr/local/lib/python3.7/dist-packages (from transformers) (4.62.3)\n",
            "Collecting pyyaml>=5.1\n",
            "  Downloading PyYAML-6.0-cp37-cp37m-manylinux_2_5_x86_64.manylinux1_x86_64.manylinux_2_12_x86_64.manylinux2010_x86_64.whl (596 kB)\n",
            "\u001b[K     |████████████████████████████████| 596 kB 51.5 MB/s \n",
            "\u001b[?25hCollecting sacremoses\n",
            "  Downloading sacremoses-0.0.46-py3-none-any.whl (895 kB)\n",
            "\u001b[K     |████████████████████████████████| 895 kB 50.2 MB/s \n",
            "\u001b[?25hRequirement already satisfied: importlib-metadata in /usr/local/lib/python3.7/dist-packages (from transformers) (4.8.1)\n",
            "Requirement already satisfied: requests in /usr/local/lib/python3.7/dist-packages (from transformers) (2.23.0)\n",
            "Collecting huggingface-hub>=0.0.17\n",
            "  Downloading huggingface_hub-0.0.19-py3-none-any.whl (56 kB)\n",
            "\u001b[K     |████████████████████████████████| 56 kB 5.3 MB/s \n",
            "\u001b[?25hRequirement already satisfied: filelock in /usr/local/lib/python3.7/dist-packages (from transformers) (3.3.0)\n",
            "Requirement already satisfied: numpy>=1.17 in /usr/local/lib/python3.7/dist-packages (from transformers) (1.19.5)\n",
            "Collecting tokenizers<0.11,>=0.10.1\n",
            "  Downloading tokenizers-0.10.3-cp37-cp37m-manylinux_2_5_x86_64.manylinux1_x86_64.manylinux_2_12_x86_64.manylinux2010_x86_64.whl (3.3 MB)\n",
            "\u001b[K     |████████████████████████████████| 3.3 MB 53.6 MB/s \n",
            "\u001b[?25hRequirement already satisfied: typing-extensions in /usr/local/lib/python3.7/dist-packages (from huggingface-hub>=0.0.17->transformers) (3.7.4.3)\n",
            "Requirement already satisfied: pyparsing>=2.0.2 in /usr/local/lib/python3.7/dist-packages (from packaging>=20.0->transformers) (2.4.7)\n",
            "Requirement already satisfied: zipp>=0.5 in /usr/local/lib/python3.7/dist-packages (from importlib-metadata->transformers) (3.6.0)\n",
            "Requirement already satisfied: urllib3!=1.25.0,!=1.25.1,<1.26,>=1.21.1 in /usr/local/lib/python3.7/dist-packages (from requests->transformers) (1.24.3)\n",
            "Requirement already satisfied: certifi>=2017.4.17 in /usr/local/lib/python3.7/dist-packages (from requests->transformers) (2021.5.30)\n",
            "Requirement already satisfied: chardet<4,>=3.0.2 in /usr/local/lib/python3.7/dist-packages (from requests->transformers) (3.0.4)\n",
            "Requirement already satisfied: idna<3,>=2.5 in /usr/local/lib/python3.7/dist-packages (from requests->transformers) (2.10)\n",
            "Requirement already satisfied: click in /usr/local/lib/python3.7/dist-packages (from sacremoses->transformers) (7.1.2)\n",
            "Requirement already satisfied: six in /usr/local/lib/python3.7/dist-packages (from sacremoses->transformers) (1.15.0)\n",
            "Requirement already satisfied: joblib in /usr/local/lib/python3.7/dist-packages (from sacremoses->transformers) (1.0.1)\n",
            "Installing collected packages: pyyaml, tokenizers, sacremoses, huggingface-hub, transformers\n",
            "  Attempting uninstall: pyyaml\n",
            "    Found existing installation: PyYAML 3.13\n",
            "    Uninstalling PyYAML-3.13:\n",
            "      Successfully uninstalled PyYAML-3.13\n",
            "Successfully installed huggingface-hub-0.0.19 pyyaml-6.0 sacremoses-0.0.46 tokenizers-0.10.3 transformers-4.11.3\n"
          ]
        }
      ]
    },
    {
      "cell_type": "code",
      "metadata": {
        "id": "GArU7pjkqAkp"
      },
      "source": [
        "import torch\n",
        "from transformers import (\n",
        "    BertForMaskedLM,\n",
        "    BertTokenizer\n",
        ")"
      ],
      "execution_count": null,
      "outputs": []
    },
    {
      "cell_type": "markdown",
      "metadata": {
        "id": "g-kJR0N1qAkp"
      },
      "source": [
        "### Details -- Model Variants"
      ]
    },
    {
      "cell_type": "markdown",
      "metadata": {
        "id": "UAawmLfVqAkq"
      },
      "source": [
        "- $\\text{BERT}_{\\text{BASE}}$: 12 layers, hidden dimension 768, 12 attention heads (**110 million parameters**)\n",
        "- $\\text{BERT}_{\\text{LARGE}}$: 24 layers, hidden dimension 1024, 16 attention heads (**340 million parameters**)"
      ]
    },
    {
      "cell_type": "markdown",
      "metadata": {
        "id": "IqyWCsWHws21"
      },
      "source": [
        "In `transformers` framework each BERT model comes in two modes: `uncased` and `cased`: the former version the training data was lowercased before tokenization, while in the latter version it was kept intact. "
      ]
    },
    {
      "cell_type": "code",
      "metadata": {
        "colab": {
          "base_uri": "https://localhost:8080/",
          "height": 252,
          "referenced_widgets": [
            "830830d69b7648a08db1093c35bbce47",
            "1060f3486dea46c89f138098dfe73804",
            "1757428908954b73b979ba11e1efcecb",
            "ba86bbe598f84eaab04ee7402e31c92c",
            "d2c7bef32ddc4ee890f6d1392906ff48"
          ]
        },
        "id": "q3G2sHUKqAkq",
        "outputId": "72e2fe4b-ccd0-4d79-c8c5-6b4344b9af1a"
      },
      "source": [
        "tokenizer = BertTokenizer.from_pretrained('bert-base-cased', do_lower_case=False)\n",
        "model = BertForMaskedLM.from_pretrained('bert-base-cased', output_attentions=True)"
      ],
      "execution_count": null,
      "outputs": [
        {
          "output_type": "display_data",
          "data": {
            "application/vnd.jupyter.widget-view+json": {
              "model_id": "830830d69b7648a08db1093c35bbce47",
              "version_minor": 0,
              "version_major": 2
            },
            "text/plain": [
              "Downloading:   0%|          | 0.00/208k [00:00<?, ?B/s]"
            ]
          },
          "metadata": {}
        },
        {
          "output_type": "display_data",
          "data": {
            "application/vnd.jupyter.widget-view+json": {
              "model_id": "1060f3486dea46c89f138098dfe73804",
              "version_minor": 0,
              "version_major": 2
            },
            "text/plain": [
              "Downloading:   0%|          | 0.00/29.0 [00:00<?, ?B/s]"
            ]
          },
          "metadata": {}
        },
        {
          "output_type": "display_data",
          "data": {
            "application/vnd.jupyter.widget-view+json": {
              "model_id": "1757428908954b73b979ba11e1efcecb",
              "version_minor": 0,
              "version_major": 2
            },
            "text/plain": [
              "Downloading:   0%|          | 0.00/426k [00:00<?, ?B/s]"
            ]
          },
          "metadata": {}
        },
        {
          "output_type": "display_data",
          "data": {
            "application/vnd.jupyter.widget-view+json": {
              "model_id": "ba86bbe598f84eaab04ee7402e31c92c",
              "version_minor": 0,
              "version_major": 2
            },
            "text/plain": [
              "Downloading:   0%|          | 0.00/570 [00:00<?, ?B/s]"
            ]
          },
          "metadata": {}
        },
        {
          "output_type": "display_data",
          "data": {
            "application/vnd.jupyter.widget-view+json": {
              "model_id": "d2c7bef32ddc4ee890f6d1392906ff48",
              "version_minor": 0,
              "version_major": 2
            },
            "text/plain": [
              "Downloading:   0%|          | 0.00/416M [00:00<?, ?B/s]"
            ]
          },
          "metadata": {}
        },
        {
          "output_type": "stream",
          "name": "stderr",
          "text": [
            "Some weights of the model checkpoint at bert-base-cased were not used when initializing BertForMaskedLM: ['cls.seq_relationship.weight', 'cls.seq_relationship.bias']\n",
            "- This IS expected if you are initializing BertForMaskedLM from the checkpoint of a model trained on another task or with another architecture (e.g. initializing a BertForSequenceClassification model from a BertForPreTraining model).\n",
            "- This IS NOT expected if you are initializing BertForMaskedLM from the checkpoint of a model that you expect to be exactly identical (initializing a BertForSequenceClassification model from a BertForSequenceClassification model).\n"
          ]
        }
      ]
    },
    {
      "cell_type": "markdown",
      "metadata": {
        "id": "7j3nW0_UqAkr"
      },
      "source": [
        "### Details -- Input Implementation\n",
        "\n",
        "\n",
        "- `[CLS]` token: starts each sequence. Used as aggregate sequence representation.\n",
        "- `[SEP]` token: separates two segments (e.g. two sentences).\n",
        "- **Segment embedding**: learned embedding for every token indicating whether it belongs\n",
        "to sentence A or sentence B.\n",
        "- **Position embedding**: learned.\n",
        "\n",
        "![Drawing](https://drive.google.com/uc?export=view&id=1UDReqHfugh4Zef3f-IlNOR2BQ4CrZkFx)\n",
        "**Exercise:** Which downstream tasks would two sequences be useful for?"
      ]
    },
    {
      "cell_type": "markdown",
      "metadata": {
        "id": "JQFUl-SsqAkr"
      },
      "source": [
        "### Tokenization\n",
        "\n",
        "#### BERT represents text using **subword** tokens with a 30k token vocabulary.  \n",
        "\n",
        "\n",
        "\n",
        "(more info [here](https://github.com/google/sentencepiece) and in the papers mentioned there)\n",
        "\n",
        "<!-- - **Token embedding**: WordPiece embeddings with 30k token vocabulary. -->"
      ]
    },
    {
      "cell_type": "code",
      "metadata": {
        "colab": {
          "base_uri": "https://localhost:8080/"
        },
        "id": "4ylwf0unqAks",
        "outputId": "f52feb6e-56b9-4269-9692-4a2de1f5d5f5"
      },
      "source": [
        "tokenizer.tokenize(\"Pretraining is cool.\")"
      ],
      "execution_count": null,
      "outputs": [
        {
          "output_type": "execute_result",
          "data": {
            "text/plain": [
              "['Pre', '##tra', '##ining', 'is', 'cool', '.']"
            ]
          },
          "metadata": {},
          "execution_count": 16
        }
      ]
    },
    {
      "cell_type": "code",
      "metadata": {
        "colab": {
          "base_uri": "https://localhost:8080/"
        },
        "id": "f7mZRQ-XqAkt",
        "outputId": "acb324dd-06c2-43c8-cd64-9f6605740120"
      },
      "source": [
        "tokenizer.tokenize(\"BERT represents text using subwords.\")"
      ],
      "execution_count": null,
      "outputs": [
        {
          "output_type": "execute_result",
          "data": {
            "text/plain": [
              "['B', '##ER', '##T', 'represents', 'text', 'using', 'sub', '##words', '.']"
            ]
          },
          "metadata": {},
          "execution_count": 18
        }
      ]
    },
    {
      "cell_type": "markdown",
      "metadata": {
        "id": "6zEHxQcqqAku"
      },
      "source": [
        "## Sampling\n",
        "\n",
        "How do we **sample** from a masked language model? Remember sampling from left-to-right autoregressive model, can that work here? Nope...\n",
        "\n",
        "This is an active area of research, but we consider a method proposed by [Wang & Cho 2019](https://arxiv.org/pdf/1902.04094.pdf).\n",
        "\n",
        "#### Core Idea\n",
        "Repeat for $t=1,\\ldots,T$:\n",
        "- Forward pass to obtain $$h_1,\\ldots, h_L$$\n",
        "- Choose an unsampled location: $$\\ell_t\\sim \\mathcal{U}(1,\\ldots,L)$$\n",
        "- Sample a word from the location: $$w_t\\sim \\texttt{softmax(project(}h_{\\ell_t}))$$\n",
        "- Repeat\n",
        "\n",
        "\n",
        "(based on the code from [Wang & Cho 2019](https://colab.research.google.com/drive/1MxKZGtQ9SSBjTK5ArsZ5LKhkztzg52RV#scrollTo=8BR0JVmlTvEQ&forceEdit=true&sandboxMode=true))"
      ]
    },
    {
      "cell_type": "code",
      "metadata": {
        "id": "q44TOvX8qAkv"
      },
      "source": [
        "def tokenize_batch(batch):\n",
        "    return [tokenizer.convert_tokens_to_ids(sent) for sent in batch]\n",
        "\n",
        "def untokenize_batch(batch):\n",
        "    return [tokenizer.convert_ids_to_tokens(sent) for sent in batch]\n",
        "\n",
        "def detokenize(sent):\n",
        "    \"\"\" Roughly detokenizes (mainly undoes wordpiece) \"\"\"\n",
        "    new_sent = []\n",
        "    for i, tok in enumerate(sent):\n",
        "        if tok.startswith(\"##\"):\n",
        "            new_sent[len(new_sent) - 1] = new_sent[len(new_sent) - 1] + tok[2:]\n",
        "        else:\n",
        "            new_sent.append(tok)\n",
        "    return new_sent"
      ],
      "execution_count": null,
      "outputs": []
    },
    {
      "cell_type": "code",
      "metadata": {
        "id": "P-aNYGZqqAkv"
      },
      "source": [
        "def generate_step(out, gen_idx, temperature=None, top_k=0, sample=False, return_list=True):\n",
        "    \"\"\" Sample a word from from out[gen_idx]\"\"\"\n",
        "    # out is a BERT output of shape [batch_size x seq_len x vocab_size]\n",
        "    # gen_idx is the position for which we want to sample a token\n",
        "\n",
        "    logits = out[:, gen_idx] # shape: [batch_size x vocab_size]\n",
        "\n",
        "    # temperature < 1 leads to the more peaky distribution after applying softmax\n",
        "    # temperature > 1 makes the output distribution more uniform\n",
        "    if temperature is not None:\n",
        "        logits = logits / temperature\n",
        "\n",
        "    dist = torch.distributions.categorical.Categorical(logits=logits)\n",
        "    idx = dist.sample().squeeze(-1)\n",
        "    return idx.tolist() if return_list else idx\n",
        "\n",
        "def get_init_text(seed_text, max_len, batch_size, tokenizer):\n",
        "    \"\"\" Get initial sentence by padding seed_text with masks to max_len \"\"\"\n",
        "    batch = [seed_text + [tokenizer.mask_token] * (max_len-len(seed_text)) + [tokenizer.sep_token] for _ in range(batch_size)]\n",
        "    return tokenize_batch(batch)\n",
        "\n",
        "def printer(tokens):\n",
        "    sent = detokenize(tokens)\n",
        "    return \" \".join(sent)"
      ],
      "execution_count": null,
      "outputs": []
    },
    {
      "cell_type": "code",
      "metadata": {
        "id": "9bPBigCvqAkw"
      },
      "source": [
        "import math\n",
        "import time\n",
        "\n",
        "def uniform_sequential_generation(model, tokenizer, seed_text, batch_size=10, max_len=15, temperature=1.0, max_iter=300,\n",
        "                                  device='cpu', print_every=20, verbose=True, temperature_decay=0.95):\n",
        "    \"\"\" Generate for one uniformly-sampled position at a timestep\"\"\"\n",
        "    seed_len = len(seed_text)\n",
        "    batch = get_init_text(seed_text, max_len, batch_size, tokenizer)\n",
        "    \n",
        "    for iter_num in range(max_iter):\n",
        "        # New permutation\n",
        "        if iter_num % (max_len - seed_len) == 0:\n",
        "            # applying temperature decay: we want more peaky distributions when we are close to the convergence point\n",
        "            if iter_num > 0:\n",
        "                temperature = temperature * temperature_decay\n",
        "            positions = np.random.permutation(max_len - seed_len)\n",
        "        \n",
        "        position = positions[iter_num % len(positions)] # e.g., for permutation (3, 1, 2):  3, 1, 2, 3, 1, 2, ....\n",
        "        # mask out the token for current position\n",
        "        for batch_idx in range(batch_size):\n",
        "            batch[batch_idx][seed_len + position] = tokenizer.mask_token_id\n",
        "        \n",
        "        # predict the distribution for the masked token\n",
        "        inp = torch.tensor(batch, device=device)\n",
        "        out = model(inp)[0] # BERT returns a tuple (logits, attention_scores), we need only logits here\n",
        "\n",
        "        # sample from the predicted distribution\n",
        "        idxs = generate_step(out, gen_idx=seed_len + position, temperature=temperature)\n",
        "        \n",
        "        # update the selected position with the sampled token\n",
        "        for batch_idx in range(batch_size):\n",
        "            batch[batch_idx][seed_len + position] = idxs[batch_idx]\n",
        "            \n",
        "        if iter_num == 0 or (verbose and np.mod(iter_num + 1, print_every) == 0):\n",
        "            for_print = tokenizer.convert_ids_to_tokens(batch[0])\n",
        "            print(\"iter %d  \\t(temp %.2f)\\t%s\" % (iter_num + 1, temperature, printer(for_print)))\n",
        "            \n",
        "    return untokenize_batch(batch)"
      ],
      "execution_count": null,
      "outputs": []
    },
    {
      "cell_type": "code",
      "metadata": {
        "id": "gYbqeV7dqAkw"
      },
      "source": [
        "def generate(model, tokenizer, n_samples, seed_text=\"[CLS]\", batch_size=10, max_len=25, \n",
        "             temperature=1.0, max_iter=500,\n",
        "             device='cpu', print_every=20, verbose=True):\n",
        "    sentences = []\n",
        "    n_batches = math.ceil(n_samples / batch_size)\n",
        "    start_time = time.time()\n",
        "    for batch_n in range(n_batches):\n",
        "        batch = uniform_sequential_generation(model, tokenizer, seed_text, batch_size=batch_size, max_len=max_len,\n",
        "                                              temperature=temperature, max_iter=max_iter, \n",
        "                                              device=device, verbose=verbose)\n",
        "        if (batch_n + 1) % print_every == 0:\n",
        "            print(\"Finished batch %d in %.3fs\" % (batch_n + 1, time.time() - start_time))\n",
        "            start_time = time.time()\n",
        "        \n",
        "        sentences += batch\n",
        "    return sentences"
      ],
      "execution_count": null,
      "outputs": []
    },
    {
      "cell_type": "code",
      "metadata": {
        "colab": {
          "base_uri": "https://localhost:8080/",
          "height": 490
        },
        "id": "KPnXQDlmqAkx",
        "outputId": "56030f7c-d8d3-4c5a-c7da-12d2e6afb423"
      },
      "source": [
        "device = 'cuda' if torch.cuda.is_available() else 'cpu'\n",
        "\n",
        "model.to(device)\n",
        "\n",
        "n_samples = 5\n",
        "batch_size = 5\n",
        "max_len = 20\n",
        "temperature = 0.7\n",
        "max_iter = 300\n",
        "\n",
        "# Choose the prefix context\n",
        "seed_text = \"[CLS]\".split()\n",
        "seed_text = \"[CLS] My favorite class is\".split()\n",
        "bert_sents = generate(model, tokenizer, n_samples, seed_text=seed_text, batch_size=batch_size, max_len=max_len,\n",
        "                      temperature=temperature, max_iter=max_iter,\n",
        "                      device=device)"
      ],
      "execution_count": null,
      "outputs": [
        {
          "output_type": "stream",
          "name": "stdout",
          "text": [
            "iter 1  \t(temp 0.70)\t[CLS] My favorite class is [MASK] [MASK] [MASK] [MASK] [MASK] [MASK] [MASK] [MASK] t [MASK] [MASK] [MASK] [MASK] [MASK] [MASK] [SEP]\n",
            "iter 20  \t(temp 0.66)\t[CLS] My favorite class is in the field . I don don ' t need it out for them . [SEP]\n",
            "iter 40  \t(temp 0.63)\t[CLS] My favorite class is in the morning but I just don ' t like it because of it . [SEP]\n",
            "iter 60  \t(temp 0.60)\t[CLS] My favorite class is in the library and I really don ' t want any part of it . [SEP]\n",
            "iter 80  \t(temp 0.54)\t[CLS] My favorite class is in the library . I really don ' t want any part of it . [SEP]\n",
            "iter 100  \t(temp 0.51)\t[CLS] My favorite class is in the library but I really don ' t want any part of it . [SEP]\n"
          ]
        },
        {
          "output_type": "error",
          "ename": "KeyboardInterrupt",
          "evalue": "ignored",
          "traceback": [
            "\u001b[0;31m---------------------------------------------------------------------------\u001b[0m",
            "\u001b[0;31mKeyboardInterrupt\u001b[0m                         Traceback (most recent call last)",
            "\u001b[0;32m<ipython-input-21-d7c49da2f868>\u001b[0m in \u001b[0;36m<module>\u001b[0;34m()\u001b[0m\n\u001b[1;32m     14\u001b[0m bert_sents = generate(model, tokenizer, n_samples, seed_text=seed_text, batch_size=batch_size, max_len=max_len,\n\u001b[1;32m     15\u001b[0m                       \u001b[0mtemperature\u001b[0m\u001b[0;34m=\u001b[0m\u001b[0mtemperature\u001b[0m\u001b[0;34m,\u001b[0m \u001b[0mmax_iter\u001b[0m\u001b[0;34m=\u001b[0m\u001b[0mmax_iter\u001b[0m\u001b[0;34m,\u001b[0m\u001b[0;34m\u001b[0m\u001b[0;34m\u001b[0m\u001b[0m\n\u001b[0;32m---> 16\u001b[0;31m                       device=device)\n\u001b[0m",
            "\u001b[0;32m<ipython-input-20-8b06fa497f01>\u001b[0m in \u001b[0;36mgenerate\u001b[0;34m(model, tokenizer, n_samples, seed_text, batch_size, max_len, temperature, max_iter, device, print_every, verbose)\u001b[0m\n\u001b[1;32m      8\u001b[0m         batch = uniform_sequential_generation(model, tokenizer, seed_text, batch_size=batch_size, max_len=max_len,\n\u001b[1;32m      9\u001b[0m                                               \u001b[0mtemperature\u001b[0m\u001b[0;34m=\u001b[0m\u001b[0mtemperature\u001b[0m\u001b[0;34m,\u001b[0m \u001b[0mmax_iter\u001b[0m\u001b[0;34m=\u001b[0m\u001b[0mmax_iter\u001b[0m\u001b[0;34m,\u001b[0m\u001b[0;34m\u001b[0m\u001b[0;34m\u001b[0m\u001b[0m\n\u001b[0;32m---> 10\u001b[0;31m                                               device=device, verbose=verbose)\n\u001b[0m\u001b[1;32m     11\u001b[0m         \u001b[0;32mif\u001b[0m \u001b[0;34m(\u001b[0m\u001b[0mbatch_n\u001b[0m \u001b[0;34m+\u001b[0m \u001b[0;36m1\u001b[0m\u001b[0;34m)\u001b[0m \u001b[0;34m%\u001b[0m \u001b[0mprint_every\u001b[0m \u001b[0;34m==\u001b[0m \u001b[0;36m0\u001b[0m\u001b[0;34m:\u001b[0m\u001b[0;34m\u001b[0m\u001b[0;34m\u001b[0m\u001b[0m\n\u001b[1;32m     12\u001b[0m             \u001b[0mprint\u001b[0m\u001b[0;34m(\u001b[0m\u001b[0;34m\"Finished batch %d in %.3fs\"\u001b[0m \u001b[0;34m%\u001b[0m \u001b[0;34m(\u001b[0m\u001b[0mbatch_n\u001b[0m \u001b[0;34m+\u001b[0m \u001b[0;36m1\u001b[0m\u001b[0;34m,\u001b[0m \u001b[0mtime\u001b[0m\u001b[0;34m.\u001b[0m\u001b[0mtime\u001b[0m\u001b[0;34m(\u001b[0m\u001b[0;34m)\u001b[0m \u001b[0;34m-\u001b[0m \u001b[0mstart_time\u001b[0m\u001b[0;34m)\u001b[0m\u001b[0;34m)\u001b[0m\u001b[0;34m\u001b[0m\u001b[0;34m\u001b[0m\u001b[0m\n",
            "\u001b[0;32m<ipython-input-19-91f9912135a2>\u001b[0m in \u001b[0;36muniform_sequential_generation\u001b[0;34m(model, tokenizer, seed_text, batch_size, max_len, temperature, max_iter, device, print_every, verbose, temperature_decay)\u001b[0m\n\u001b[1;32m     23\u001b[0m         \u001b[0;31m# predict the distribution for the masked token\u001b[0m\u001b[0;34m\u001b[0m\u001b[0;34m\u001b[0m\u001b[0;34m\u001b[0m\u001b[0m\n\u001b[1;32m     24\u001b[0m         \u001b[0minp\u001b[0m \u001b[0;34m=\u001b[0m \u001b[0mtorch\u001b[0m\u001b[0;34m.\u001b[0m\u001b[0mtensor\u001b[0m\u001b[0;34m(\u001b[0m\u001b[0mbatch\u001b[0m\u001b[0;34m,\u001b[0m \u001b[0mdevice\u001b[0m\u001b[0;34m=\u001b[0m\u001b[0mdevice\u001b[0m\u001b[0;34m)\u001b[0m\u001b[0;34m\u001b[0m\u001b[0;34m\u001b[0m\u001b[0m\n\u001b[0;32m---> 25\u001b[0;31m         \u001b[0mout\u001b[0m \u001b[0;34m=\u001b[0m \u001b[0mmodel\u001b[0m\u001b[0;34m(\u001b[0m\u001b[0minp\u001b[0m\u001b[0;34m)\u001b[0m\u001b[0;34m[\u001b[0m\u001b[0;36m0\u001b[0m\u001b[0;34m]\u001b[0m \u001b[0;31m# BERT returns a tuple (logits, attention_scores), we need only logits here\u001b[0m\u001b[0;34m\u001b[0m\u001b[0;34m\u001b[0m\u001b[0m\n\u001b[0m\u001b[1;32m     26\u001b[0m \u001b[0;34m\u001b[0m\u001b[0m\n\u001b[1;32m     27\u001b[0m         \u001b[0;31m# sample from the predicted distribution\u001b[0m\u001b[0;34m\u001b[0m\u001b[0;34m\u001b[0m\u001b[0;34m\u001b[0m\u001b[0m\n",
            "\u001b[0;32m/usr/local/lib/python3.7/dist-packages/torch/nn/modules/module.py\u001b[0m in \u001b[0;36m_call_impl\u001b[0;34m(self, *input, **kwargs)\u001b[0m\n\u001b[1;32m   1049\u001b[0m         if not (self._backward_hooks or self._forward_hooks or self._forward_pre_hooks or _global_backward_hooks\n\u001b[1;32m   1050\u001b[0m                 or _global_forward_hooks or _global_forward_pre_hooks):\n\u001b[0;32m-> 1051\u001b[0;31m             \u001b[0;32mreturn\u001b[0m \u001b[0mforward_call\u001b[0m\u001b[0;34m(\u001b[0m\u001b[0;34m*\u001b[0m\u001b[0minput\u001b[0m\u001b[0;34m,\u001b[0m \u001b[0;34m**\u001b[0m\u001b[0mkwargs\u001b[0m\u001b[0;34m)\u001b[0m\u001b[0;34m\u001b[0m\u001b[0;34m\u001b[0m\u001b[0m\n\u001b[0m\u001b[1;32m   1052\u001b[0m         \u001b[0;31m# Do not call functions when jit is used\u001b[0m\u001b[0;34m\u001b[0m\u001b[0;34m\u001b[0m\u001b[0;34m\u001b[0m\u001b[0m\n\u001b[1;32m   1053\u001b[0m         \u001b[0mfull_backward_hooks\u001b[0m\u001b[0;34m,\u001b[0m \u001b[0mnon_full_backward_hooks\u001b[0m \u001b[0;34m=\u001b[0m \u001b[0;34m[\u001b[0m\u001b[0;34m]\u001b[0m\u001b[0;34m,\u001b[0m \u001b[0;34m[\u001b[0m\u001b[0;34m]\u001b[0m\u001b[0;34m\u001b[0m\u001b[0;34m\u001b[0m\u001b[0m\n",
            "\u001b[0;32m/usr/local/lib/python3.7/dist-packages/transformers/models/bert/modeling_bert.py\u001b[0m in \u001b[0;36mforward\u001b[0;34m(self, input_ids, attention_mask, token_type_ids, position_ids, head_mask, inputs_embeds, encoder_hidden_states, encoder_attention_mask, labels, output_attentions, output_hidden_states, return_dict)\u001b[0m\n\u001b[1;32m   1342\u001b[0m             \u001b[0moutput_attentions\u001b[0m\u001b[0;34m=\u001b[0m\u001b[0moutput_attentions\u001b[0m\u001b[0;34m,\u001b[0m\u001b[0;34m\u001b[0m\u001b[0;34m\u001b[0m\u001b[0m\n\u001b[1;32m   1343\u001b[0m             \u001b[0moutput_hidden_states\u001b[0m\u001b[0;34m=\u001b[0m\u001b[0moutput_hidden_states\u001b[0m\u001b[0;34m,\u001b[0m\u001b[0;34m\u001b[0m\u001b[0;34m\u001b[0m\u001b[0m\n\u001b[0;32m-> 1344\u001b[0;31m             \u001b[0mreturn_dict\u001b[0m\u001b[0;34m=\u001b[0m\u001b[0mreturn_dict\u001b[0m\u001b[0;34m,\u001b[0m\u001b[0;34m\u001b[0m\u001b[0;34m\u001b[0m\u001b[0m\n\u001b[0m\u001b[1;32m   1345\u001b[0m         )\n\u001b[1;32m   1346\u001b[0m \u001b[0;34m\u001b[0m\u001b[0m\n",
            "\u001b[0;32m/usr/local/lib/python3.7/dist-packages/torch/nn/modules/module.py\u001b[0m in \u001b[0;36m_call_impl\u001b[0;34m(self, *input, **kwargs)\u001b[0m\n\u001b[1;32m   1049\u001b[0m         if not (self._backward_hooks or self._forward_hooks or self._forward_pre_hooks or _global_backward_hooks\n\u001b[1;32m   1050\u001b[0m                 or _global_forward_hooks or _global_forward_pre_hooks):\n\u001b[0;32m-> 1051\u001b[0;31m             \u001b[0;32mreturn\u001b[0m \u001b[0mforward_call\u001b[0m\u001b[0;34m(\u001b[0m\u001b[0;34m*\u001b[0m\u001b[0minput\u001b[0m\u001b[0;34m,\u001b[0m \u001b[0;34m**\u001b[0m\u001b[0mkwargs\u001b[0m\u001b[0;34m)\u001b[0m\u001b[0;34m\u001b[0m\u001b[0;34m\u001b[0m\u001b[0m\n\u001b[0m\u001b[1;32m   1052\u001b[0m         \u001b[0;31m# Do not call functions when jit is used\u001b[0m\u001b[0;34m\u001b[0m\u001b[0;34m\u001b[0m\u001b[0;34m\u001b[0m\u001b[0m\n\u001b[1;32m   1053\u001b[0m         \u001b[0mfull_backward_hooks\u001b[0m\u001b[0;34m,\u001b[0m \u001b[0mnon_full_backward_hooks\u001b[0m \u001b[0;34m=\u001b[0m \u001b[0;34m[\u001b[0m\u001b[0;34m]\u001b[0m\u001b[0;34m,\u001b[0m \u001b[0;34m[\u001b[0m\u001b[0;34m]\u001b[0m\u001b[0;34m\u001b[0m\u001b[0;34m\u001b[0m\u001b[0m\n",
            "\u001b[0;32m/usr/local/lib/python3.7/dist-packages/transformers/models/bert/modeling_bert.py\u001b[0m in \u001b[0;36mforward\u001b[0;34m(self, input_ids, attention_mask, token_type_ids, position_ids, head_mask, inputs_embeds, encoder_hidden_states, encoder_attention_mask, past_key_values, use_cache, output_attentions, output_hidden_states, return_dict)\u001b[0m\n\u001b[1;32m   1003\u001b[0m             \u001b[0moutput_attentions\u001b[0m\u001b[0;34m=\u001b[0m\u001b[0moutput_attentions\u001b[0m\u001b[0;34m,\u001b[0m\u001b[0;34m\u001b[0m\u001b[0;34m\u001b[0m\u001b[0m\n\u001b[1;32m   1004\u001b[0m             \u001b[0moutput_hidden_states\u001b[0m\u001b[0;34m=\u001b[0m\u001b[0moutput_hidden_states\u001b[0m\u001b[0;34m,\u001b[0m\u001b[0;34m\u001b[0m\u001b[0;34m\u001b[0m\u001b[0m\n\u001b[0;32m-> 1005\u001b[0;31m             \u001b[0mreturn_dict\u001b[0m\u001b[0;34m=\u001b[0m\u001b[0mreturn_dict\u001b[0m\u001b[0;34m,\u001b[0m\u001b[0;34m\u001b[0m\u001b[0;34m\u001b[0m\u001b[0m\n\u001b[0m\u001b[1;32m   1006\u001b[0m         )\n\u001b[1;32m   1007\u001b[0m         \u001b[0msequence_output\u001b[0m \u001b[0;34m=\u001b[0m \u001b[0mencoder_outputs\u001b[0m\u001b[0;34m[\u001b[0m\u001b[0;36m0\u001b[0m\u001b[0;34m]\u001b[0m\u001b[0;34m\u001b[0m\u001b[0;34m\u001b[0m\u001b[0m\n",
            "\u001b[0;32m/usr/local/lib/python3.7/dist-packages/torch/nn/modules/module.py\u001b[0m in \u001b[0;36m_call_impl\u001b[0;34m(self, *input, **kwargs)\u001b[0m\n\u001b[1;32m   1049\u001b[0m         if not (self._backward_hooks or self._forward_hooks or self._forward_pre_hooks or _global_backward_hooks\n\u001b[1;32m   1050\u001b[0m                 or _global_forward_hooks or _global_forward_pre_hooks):\n\u001b[0;32m-> 1051\u001b[0;31m             \u001b[0;32mreturn\u001b[0m \u001b[0mforward_call\u001b[0m\u001b[0;34m(\u001b[0m\u001b[0;34m*\u001b[0m\u001b[0minput\u001b[0m\u001b[0;34m,\u001b[0m \u001b[0;34m**\u001b[0m\u001b[0mkwargs\u001b[0m\u001b[0;34m)\u001b[0m\u001b[0;34m\u001b[0m\u001b[0;34m\u001b[0m\u001b[0m\n\u001b[0m\u001b[1;32m   1052\u001b[0m         \u001b[0;31m# Do not call functions when jit is used\u001b[0m\u001b[0;34m\u001b[0m\u001b[0;34m\u001b[0m\u001b[0;34m\u001b[0m\u001b[0m\n\u001b[1;32m   1053\u001b[0m         \u001b[0mfull_backward_hooks\u001b[0m\u001b[0;34m,\u001b[0m \u001b[0mnon_full_backward_hooks\u001b[0m \u001b[0;34m=\u001b[0m \u001b[0;34m[\u001b[0m\u001b[0;34m]\u001b[0m\u001b[0;34m,\u001b[0m \u001b[0;34m[\u001b[0m\u001b[0;34m]\u001b[0m\u001b[0;34m\u001b[0m\u001b[0;34m\u001b[0m\u001b[0m\n",
            "\u001b[0;32m/usr/local/lib/python3.7/dist-packages/transformers/models/bert/modeling_bert.py\u001b[0m in \u001b[0;36mforward\u001b[0;34m(self, hidden_states, attention_mask, head_mask, encoder_hidden_states, encoder_attention_mask, past_key_values, use_cache, output_attentions, output_hidden_states, return_dict)\u001b[0m\n\u001b[1;32m    587\u001b[0m                     \u001b[0mencoder_attention_mask\u001b[0m\u001b[0;34m,\u001b[0m\u001b[0;34m\u001b[0m\u001b[0;34m\u001b[0m\u001b[0m\n\u001b[1;32m    588\u001b[0m                     \u001b[0mpast_key_value\u001b[0m\u001b[0;34m,\u001b[0m\u001b[0;34m\u001b[0m\u001b[0;34m\u001b[0m\u001b[0m\n\u001b[0;32m--> 589\u001b[0;31m                     \u001b[0moutput_attentions\u001b[0m\u001b[0;34m,\u001b[0m\u001b[0;34m\u001b[0m\u001b[0;34m\u001b[0m\u001b[0m\n\u001b[0m\u001b[1;32m    590\u001b[0m                 )\n\u001b[1;32m    591\u001b[0m \u001b[0;34m\u001b[0m\u001b[0m\n",
            "\u001b[0;32m/usr/local/lib/python3.7/dist-packages/torch/nn/modules/module.py\u001b[0m in \u001b[0;36m_call_impl\u001b[0;34m(self, *input, **kwargs)\u001b[0m\n\u001b[1;32m   1049\u001b[0m         if not (self._backward_hooks or self._forward_hooks or self._forward_pre_hooks or _global_backward_hooks\n\u001b[1;32m   1050\u001b[0m                 or _global_forward_hooks or _global_forward_pre_hooks):\n\u001b[0;32m-> 1051\u001b[0;31m             \u001b[0;32mreturn\u001b[0m \u001b[0mforward_call\u001b[0m\u001b[0;34m(\u001b[0m\u001b[0;34m*\u001b[0m\u001b[0minput\u001b[0m\u001b[0;34m,\u001b[0m \u001b[0;34m**\u001b[0m\u001b[0mkwargs\u001b[0m\u001b[0;34m)\u001b[0m\u001b[0;34m\u001b[0m\u001b[0;34m\u001b[0m\u001b[0m\n\u001b[0m\u001b[1;32m   1052\u001b[0m         \u001b[0;31m# Do not call functions when jit is used\u001b[0m\u001b[0;34m\u001b[0m\u001b[0;34m\u001b[0m\u001b[0;34m\u001b[0m\u001b[0m\n\u001b[1;32m   1053\u001b[0m         \u001b[0mfull_backward_hooks\u001b[0m\u001b[0;34m,\u001b[0m \u001b[0mnon_full_backward_hooks\u001b[0m \u001b[0;34m=\u001b[0m \u001b[0;34m[\u001b[0m\u001b[0;34m]\u001b[0m\u001b[0;34m,\u001b[0m \u001b[0;34m[\u001b[0m\u001b[0;34m]\u001b[0m\u001b[0;34m\u001b[0m\u001b[0;34m\u001b[0m\u001b[0m\n",
            "\u001b[0;32m/usr/local/lib/python3.7/dist-packages/transformers/models/bert/modeling_bert.py\u001b[0m in \u001b[0;36mforward\u001b[0;34m(self, hidden_states, attention_mask, head_mask, encoder_hidden_states, encoder_attention_mask, past_key_value, output_attentions)\u001b[0m\n\u001b[1;32m    509\u001b[0m \u001b[0;34m\u001b[0m\u001b[0m\n\u001b[1;32m    510\u001b[0m         layer_output = apply_chunking_to_forward(\n\u001b[0;32m--> 511\u001b[0;31m             \u001b[0mself\u001b[0m\u001b[0;34m.\u001b[0m\u001b[0mfeed_forward_chunk\u001b[0m\u001b[0;34m,\u001b[0m \u001b[0mself\u001b[0m\u001b[0;34m.\u001b[0m\u001b[0mchunk_size_feed_forward\u001b[0m\u001b[0;34m,\u001b[0m \u001b[0mself\u001b[0m\u001b[0;34m.\u001b[0m\u001b[0mseq_len_dim\u001b[0m\u001b[0;34m,\u001b[0m \u001b[0mattention_output\u001b[0m\u001b[0;34m\u001b[0m\u001b[0;34m\u001b[0m\u001b[0m\n\u001b[0m\u001b[1;32m    512\u001b[0m         )\n\u001b[1;32m    513\u001b[0m         \u001b[0moutputs\u001b[0m \u001b[0;34m=\u001b[0m \u001b[0;34m(\u001b[0m\u001b[0mlayer_output\u001b[0m\u001b[0;34m,\u001b[0m\u001b[0;34m)\u001b[0m \u001b[0;34m+\u001b[0m \u001b[0moutputs\u001b[0m\u001b[0;34m\u001b[0m\u001b[0;34m\u001b[0m\u001b[0m\n",
            "\u001b[0;32m/usr/local/lib/python3.7/dist-packages/transformers/modeling_utils.py\u001b[0m in \u001b[0;36mapply_chunking_to_forward\u001b[0;34m(forward_fn, chunk_size, chunk_dim, *input_tensors)\u001b[0m\n\u001b[1;32m   2328\u001b[0m         \u001b[0;32mreturn\u001b[0m \u001b[0mtorch\u001b[0m\u001b[0;34m.\u001b[0m\u001b[0mcat\u001b[0m\u001b[0;34m(\u001b[0m\u001b[0moutput_chunks\u001b[0m\u001b[0;34m,\u001b[0m \u001b[0mdim\u001b[0m\u001b[0;34m=\u001b[0m\u001b[0mchunk_dim\u001b[0m\u001b[0;34m)\u001b[0m\u001b[0;34m\u001b[0m\u001b[0;34m\u001b[0m\u001b[0m\n\u001b[1;32m   2329\u001b[0m \u001b[0;34m\u001b[0m\u001b[0m\n\u001b[0;32m-> 2330\u001b[0;31m     \u001b[0;32mreturn\u001b[0m \u001b[0mforward_fn\u001b[0m\u001b[0;34m(\u001b[0m\u001b[0;34m*\u001b[0m\u001b[0minput_tensors\u001b[0m\u001b[0;34m)\u001b[0m\u001b[0;34m\u001b[0m\u001b[0;34m\u001b[0m\u001b[0m\n\u001b[0m",
            "\u001b[0;32m/usr/local/lib/python3.7/dist-packages/transformers/models/bert/modeling_bert.py\u001b[0m in \u001b[0;36mfeed_forward_chunk\u001b[0;34m(self, attention_output)\u001b[0m\n\u001b[1;32m    521\u001b[0m     \u001b[0;32mdef\u001b[0m \u001b[0mfeed_forward_chunk\u001b[0m\u001b[0;34m(\u001b[0m\u001b[0mself\u001b[0m\u001b[0;34m,\u001b[0m \u001b[0mattention_output\u001b[0m\u001b[0;34m)\u001b[0m\u001b[0;34m:\u001b[0m\u001b[0;34m\u001b[0m\u001b[0;34m\u001b[0m\u001b[0m\n\u001b[1;32m    522\u001b[0m         \u001b[0mintermediate_output\u001b[0m \u001b[0;34m=\u001b[0m \u001b[0mself\u001b[0m\u001b[0;34m.\u001b[0m\u001b[0mintermediate\u001b[0m\u001b[0;34m(\u001b[0m\u001b[0mattention_output\u001b[0m\u001b[0;34m)\u001b[0m\u001b[0;34m\u001b[0m\u001b[0;34m\u001b[0m\u001b[0m\n\u001b[0;32m--> 523\u001b[0;31m         \u001b[0mlayer_output\u001b[0m \u001b[0;34m=\u001b[0m \u001b[0mself\u001b[0m\u001b[0;34m.\u001b[0m\u001b[0moutput\u001b[0m\u001b[0;34m(\u001b[0m\u001b[0mintermediate_output\u001b[0m\u001b[0;34m,\u001b[0m \u001b[0mattention_output\u001b[0m\u001b[0;34m)\u001b[0m\u001b[0;34m\u001b[0m\u001b[0;34m\u001b[0m\u001b[0m\n\u001b[0m\u001b[1;32m    524\u001b[0m         \u001b[0;32mreturn\u001b[0m \u001b[0mlayer_output\u001b[0m\u001b[0;34m\u001b[0m\u001b[0;34m\u001b[0m\u001b[0m\n\u001b[1;32m    525\u001b[0m \u001b[0;34m\u001b[0m\u001b[0m\n",
            "\u001b[0;32m/usr/local/lib/python3.7/dist-packages/torch/nn/modules/module.py\u001b[0m in \u001b[0;36m_call_impl\u001b[0;34m(self, *input, **kwargs)\u001b[0m\n\u001b[1;32m   1049\u001b[0m         if not (self._backward_hooks or self._forward_hooks or self._forward_pre_hooks or _global_backward_hooks\n\u001b[1;32m   1050\u001b[0m                 or _global_forward_hooks or _global_forward_pre_hooks):\n\u001b[0;32m-> 1051\u001b[0;31m             \u001b[0;32mreturn\u001b[0m \u001b[0mforward_call\u001b[0m\u001b[0;34m(\u001b[0m\u001b[0;34m*\u001b[0m\u001b[0minput\u001b[0m\u001b[0;34m,\u001b[0m \u001b[0;34m**\u001b[0m\u001b[0mkwargs\u001b[0m\u001b[0;34m)\u001b[0m\u001b[0;34m\u001b[0m\u001b[0;34m\u001b[0m\u001b[0m\n\u001b[0m\u001b[1;32m   1052\u001b[0m         \u001b[0;31m# Do not call functions when jit is used\u001b[0m\u001b[0;34m\u001b[0m\u001b[0;34m\u001b[0m\u001b[0;34m\u001b[0m\u001b[0m\n\u001b[1;32m   1053\u001b[0m         \u001b[0mfull_backward_hooks\u001b[0m\u001b[0;34m,\u001b[0m \u001b[0mnon_full_backward_hooks\u001b[0m \u001b[0;34m=\u001b[0m \u001b[0;34m[\u001b[0m\u001b[0;34m]\u001b[0m\u001b[0;34m,\u001b[0m \u001b[0;34m[\u001b[0m\u001b[0;34m]\u001b[0m\u001b[0;34m\u001b[0m\u001b[0;34m\u001b[0m\u001b[0m\n",
            "\u001b[0;32m/usr/local/lib/python3.7/dist-packages/transformers/models/bert/modeling_bert.py\u001b[0m in \u001b[0;36mforward\u001b[0;34m(self, hidden_states, input_tensor)\u001b[0m\n\u001b[1;32m    436\u001b[0m \u001b[0;34m\u001b[0m\u001b[0m\n\u001b[1;32m    437\u001b[0m     \u001b[0;32mdef\u001b[0m \u001b[0mforward\u001b[0m\u001b[0;34m(\u001b[0m\u001b[0mself\u001b[0m\u001b[0;34m,\u001b[0m \u001b[0mhidden_states\u001b[0m\u001b[0;34m,\u001b[0m \u001b[0minput_tensor\u001b[0m\u001b[0;34m)\u001b[0m\u001b[0;34m:\u001b[0m\u001b[0;34m\u001b[0m\u001b[0;34m\u001b[0m\u001b[0m\n\u001b[0;32m--> 438\u001b[0;31m         \u001b[0mhidden_states\u001b[0m \u001b[0;34m=\u001b[0m \u001b[0mself\u001b[0m\u001b[0;34m.\u001b[0m\u001b[0mdense\u001b[0m\u001b[0;34m(\u001b[0m\u001b[0mhidden_states\u001b[0m\u001b[0;34m)\u001b[0m\u001b[0;34m\u001b[0m\u001b[0;34m\u001b[0m\u001b[0m\n\u001b[0m\u001b[1;32m    439\u001b[0m         \u001b[0mhidden_states\u001b[0m \u001b[0;34m=\u001b[0m \u001b[0mself\u001b[0m\u001b[0;34m.\u001b[0m\u001b[0mdropout\u001b[0m\u001b[0;34m(\u001b[0m\u001b[0mhidden_states\u001b[0m\u001b[0;34m)\u001b[0m\u001b[0;34m\u001b[0m\u001b[0;34m\u001b[0m\u001b[0m\n\u001b[1;32m    440\u001b[0m         \u001b[0mhidden_states\u001b[0m \u001b[0;34m=\u001b[0m \u001b[0mself\u001b[0m\u001b[0;34m.\u001b[0m\u001b[0mLayerNorm\u001b[0m\u001b[0;34m(\u001b[0m\u001b[0mhidden_states\u001b[0m \u001b[0;34m+\u001b[0m \u001b[0minput_tensor\u001b[0m\u001b[0;34m)\u001b[0m\u001b[0;34m\u001b[0m\u001b[0;34m\u001b[0m\u001b[0m\n",
            "\u001b[0;32m/usr/local/lib/python3.7/dist-packages/torch/nn/modules/module.py\u001b[0m in \u001b[0;36m_call_impl\u001b[0;34m(self, *input, **kwargs)\u001b[0m\n\u001b[1;32m   1049\u001b[0m         if not (self._backward_hooks or self._forward_hooks or self._forward_pre_hooks or _global_backward_hooks\n\u001b[1;32m   1050\u001b[0m                 or _global_forward_hooks or _global_forward_pre_hooks):\n\u001b[0;32m-> 1051\u001b[0;31m             \u001b[0;32mreturn\u001b[0m \u001b[0mforward_call\u001b[0m\u001b[0;34m(\u001b[0m\u001b[0;34m*\u001b[0m\u001b[0minput\u001b[0m\u001b[0;34m,\u001b[0m \u001b[0;34m**\u001b[0m\u001b[0mkwargs\u001b[0m\u001b[0;34m)\u001b[0m\u001b[0;34m\u001b[0m\u001b[0;34m\u001b[0m\u001b[0m\n\u001b[0m\u001b[1;32m   1052\u001b[0m         \u001b[0;31m# Do not call functions when jit is used\u001b[0m\u001b[0;34m\u001b[0m\u001b[0;34m\u001b[0m\u001b[0;34m\u001b[0m\u001b[0m\n\u001b[1;32m   1053\u001b[0m         \u001b[0mfull_backward_hooks\u001b[0m\u001b[0;34m,\u001b[0m \u001b[0mnon_full_backward_hooks\u001b[0m \u001b[0;34m=\u001b[0m \u001b[0;34m[\u001b[0m\u001b[0;34m]\u001b[0m\u001b[0;34m,\u001b[0m \u001b[0;34m[\u001b[0m\u001b[0;34m]\u001b[0m\u001b[0;34m\u001b[0m\u001b[0;34m\u001b[0m\u001b[0m\n",
            "\u001b[0;32m/usr/local/lib/python3.7/dist-packages/torch/nn/modules/linear.py\u001b[0m in \u001b[0;36mforward\u001b[0;34m(self, input)\u001b[0m\n\u001b[1;32m     94\u001b[0m \u001b[0;34m\u001b[0m\u001b[0m\n\u001b[1;32m     95\u001b[0m     \u001b[0;32mdef\u001b[0m \u001b[0mforward\u001b[0m\u001b[0;34m(\u001b[0m\u001b[0mself\u001b[0m\u001b[0;34m,\u001b[0m \u001b[0minput\u001b[0m\u001b[0;34m:\u001b[0m \u001b[0mTensor\u001b[0m\u001b[0;34m)\u001b[0m \u001b[0;34m->\u001b[0m \u001b[0mTensor\u001b[0m\u001b[0;34m:\u001b[0m\u001b[0;34m\u001b[0m\u001b[0;34m\u001b[0m\u001b[0m\n\u001b[0;32m---> 96\u001b[0;31m         \u001b[0;32mreturn\u001b[0m \u001b[0mF\u001b[0m\u001b[0;34m.\u001b[0m\u001b[0mlinear\u001b[0m\u001b[0;34m(\u001b[0m\u001b[0minput\u001b[0m\u001b[0;34m,\u001b[0m \u001b[0mself\u001b[0m\u001b[0;34m.\u001b[0m\u001b[0mweight\u001b[0m\u001b[0;34m,\u001b[0m \u001b[0mself\u001b[0m\u001b[0;34m.\u001b[0m\u001b[0mbias\u001b[0m\u001b[0;34m)\u001b[0m\u001b[0;34m\u001b[0m\u001b[0;34m\u001b[0m\u001b[0m\n\u001b[0m\u001b[1;32m     97\u001b[0m \u001b[0;34m\u001b[0m\u001b[0m\n\u001b[1;32m     98\u001b[0m     \u001b[0;32mdef\u001b[0m \u001b[0mextra_repr\u001b[0m\u001b[0;34m(\u001b[0m\u001b[0mself\u001b[0m\u001b[0;34m)\u001b[0m \u001b[0;34m->\u001b[0m \u001b[0mstr\u001b[0m\u001b[0;34m:\u001b[0m\u001b[0;34m\u001b[0m\u001b[0;34m\u001b[0m\u001b[0m\n",
            "\u001b[0;32m/usr/local/lib/python3.7/dist-packages/torch/nn/functional.py\u001b[0m in \u001b[0;36mlinear\u001b[0;34m(input, weight, bias)\u001b[0m\n\u001b[1;32m   1845\u001b[0m     \u001b[0;32mif\u001b[0m \u001b[0mhas_torch_function_variadic\u001b[0m\u001b[0;34m(\u001b[0m\u001b[0minput\u001b[0m\u001b[0;34m,\u001b[0m \u001b[0mweight\u001b[0m\u001b[0;34m)\u001b[0m\u001b[0;34m:\u001b[0m\u001b[0;34m\u001b[0m\u001b[0;34m\u001b[0m\u001b[0m\n\u001b[1;32m   1846\u001b[0m         \u001b[0;32mreturn\u001b[0m \u001b[0mhandle_torch_function\u001b[0m\u001b[0;34m(\u001b[0m\u001b[0mlinear\u001b[0m\u001b[0;34m,\u001b[0m \u001b[0;34m(\u001b[0m\u001b[0minput\u001b[0m\u001b[0;34m,\u001b[0m \u001b[0mweight\u001b[0m\u001b[0;34m)\u001b[0m\u001b[0;34m,\u001b[0m \u001b[0minput\u001b[0m\u001b[0;34m,\u001b[0m \u001b[0mweight\u001b[0m\u001b[0;34m,\u001b[0m \u001b[0mbias\u001b[0m\u001b[0;34m=\u001b[0m\u001b[0mbias\u001b[0m\u001b[0;34m)\u001b[0m\u001b[0;34m\u001b[0m\u001b[0;34m\u001b[0m\u001b[0m\n\u001b[0;32m-> 1847\u001b[0;31m     \u001b[0;32mreturn\u001b[0m \u001b[0mtorch\u001b[0m\u001b[0;34m.\u001b[0m\u001b[0m_C\u001b[0m\u001b[0;34m.\u001b[0m\u001b[0m_nn\u001b[0m\u001b[0;34m.\u001b[0m\u001b[0mlinear\u001b[0m\u001b[0;34m(\u001b[0m\u001b[0minput\u001b[0m\u001b[0;34m,\u001b[0m \u001b[0mweight\u001b[0m\u001b[0;34m,\u001b[0m \u001b[0mbias\u001b[0m\u001b[0;34m)\u001b[0m\u001b[0;34m\u001b[0m\u001b[0;34m\u001b[0m\u001b[0m\n\u001b[0m\u001b[1;32m   1848\u001b[0m \u001b[0;34m\u001b[0m\u001b[0m\n\u001b[1;32m   1849\u001b[0m \u001b[0;34m\u001b[0m\u001b[0m\n",
            "\u001b[0;31mKeyboardInterrupt\u001b[0m: "
          ]
        }
      ]
    },
    {
      "cell_type": "code",
      "metadata": {
        "id": "jgmIERMoqAky",
        "colab": {
          "base_uri": "https://localhost:8080/"
        },
        "outputId": "a5a66466-fb2c-4444-87f8-96aca7f269f1"
      },
      "source": [
        "for i, sent in enumerate(bert_sents):\n",
        "    print(\"Sample %d: \\t %s\\n\" % (i, printer(sent)))"
      ],
      "execution_count": null,
      "outputs": [
        {
          "output_type": "stream",
          "name": "stdout",
          "text": [
            "Sample 0: \t [CLS] My favorite class is Yoga , known locally as TAPA or Skully - Skully . [SEP]\n",
            "\n",
            "Sample 1: \t [CLS] My favorite class is : English , maths , the fine arts , and the performing arts . [SEP]\n",
            "\n",
            "Sample 2: \t [CLS] My favorite class is the most popular one I have . My classes were taught in high school . [SEP]\n",
            "\n",
            "Sample 3: \t [CLS] My favorite class is a crappy ice skating and rock climbing class for kids during the summer . [SEP]\n",
            "\n",
            "Sample 4: \t [CLS] My favorite class is World History . Would that be my favorite class ? No . Not really . [SEP]\n",
            "\n"
          ]
        }
      ]
    },
    {
      "cell_type": "code",
      "metadata": {
        "id": "xGZ4LQAVqAky"
      },
      "source": [
        ""
      ],
      "execution_count": null,
      "outputs": []
    },
    {
      "cell_type": "markdown",
      "metadata": {
        "id": "7cAiLUC5qAkz"
      },
      "source": [
        "### Examining Learned Conditionals (& Representations)\n",
        "\n",
        "**Probing tasks** can be used to examine aspects of what the model has learned. \n",
        "\n",
        "Following [Petroni et al 2019](https://arxiv.org/pdf/1909.01066.pdf) we probe for '**knowledge**' that the model has learned by querying for masked out objects, e.g.:\n",
        "\n",
        "![Drawing](https://drive.google.com/uc?export=view&id=1bKbTKxu8bp_mZRclpFuV8-ALhAV1Dhus)\n",
        "\n",
        "The task also illustrates some aspects of the **conditional distributions** and **contextualized representations** that the model has learned.\n",
        "\n",
        "(image from [Petroni et al 2019])\n"
      ]
    },
    {
      "cell_type": "markdown",
      "metadata": {
        "id": "xBjARMZvqAkz"
      },
      "source": [
        "#### Probing Task\n",
        "\n",
        "We use a dataset from [Petroni et al 2019](https://github.com/facebookresearch/LAMA)."
      ]
    },
    {
      "cell_type": "code",
      "metadata": {
        "colab": {
          "base_uri": "https://localhost:8080/"
        },
        "id": "vc-w5cKv5JtY",
        "outputId": "fca00fab-8b45-48b4-8375-30328eddec64"
      },
      "source": [
        "! pip install jsonlines"
      ],
      "execution_count": null,
      "outputs": [
        {
          "output_type": "stream",
          "name": "stdout",
          "text": [
            "Collecting jsonlines\n",
            "  Downloading jsonlines-2.0.0-py3-none-any.whl (6.3 kB)\n",
            "Installing collected packages: jsonlines\n",
            "Successfully installed jsonlines-2.0.0\n"
          ]
        }
      ]
    },
    {
      "cell_type": "code",
      "metadata": {
        "id": "LB1QoD0U480t"
      },
      "source": [
        "import os\n",
        "import subprocess\n",
        "import jsonlines\n",
        "\n",
        "def load_lama_squad():\n",
        "    filename = os.path.join('data', 'Squad', 'test.jsonl')\n",
        "    if not os.path.exists(filename):\n",
        "        url = \"https://dl.fbaipublicfiles.com/LAMA/data.zip\"\n",
        "        args = ['wget', url]\n",
        "        subprocess.call(args)\n",
        "        args = ['unzip', 'data.zip']\n",
        "        subprocess.call(args)\n",
        "\n",
        "    data = [line for line in jsonlines.Reader(open(filename, 'r'))]\n",
        "    return data"
      ],
      "execution_count": null,
      "outputs": []
    },
    {
      "cell_type": "code",
      "metadata": {
        "colab": {
          "base_uri": "https://localhost:8080/"
        },
        "id": "-mTLIQRFqAkz",
        "outputId": "434cb573-d23a-4d45-e976-f67d9877ef9d"
      },
      "source": [
        "data = load_lama_squad()\n",
        "data[0]"
      ],
      "execution_count": null,
      "outputs": [
        {
          "output_type": "execute_result",
          "data": {
            "text/plain": [
              "{'id': '56be4db0acb8001400a502f0_0',\n",
              " 'masked_sentences': ['To emphasize the 50th anniversary of the Super Bowl the [MASK] color was used.'],\n",
              " 'obj_label': 'gold',\n",
              " 'sub_label': 'Squad'}"
            ]
          },
          "metadata": {},
          "execution_count": 24
        }
      ]
    },
    {
      "cell_type": "code",
      "metadata": {
        "colab": {
          "base_uri": "https://localhost:8080/"
        },
        "id": "vQdzLWmBqAk0",
        "outputId": "1fb3eec4-09e6-44c0-a406-27a9992d666c"
      },
      "source": [
        "device = 'cuda' if torch.cuda.is_available() else 'cpu'\n",
        "results = []\n",
        "\n",
        "model.eval()\n",
        "for example in tqdm(data, total=len(data)):\n",
        "    sentence, label = example['masked_sentences'][0], example['obj_label']\n",
        "    inp = torch.tensor([tokenizer.encode(sentence)],\n",
        "                      device=device)\n",
        "    \n",
        "    mask = (inp == tokenizer.vocab[tokenizer.mask_token])\n",
        "\n",
        "    dict_out = model(inp)\n",
        "    out, attn = dict_out['logits'], dict_out['attentions']\n",
        "    \n",
        "    probs, ids = out[mask].softmax(1).topk(10)\n",
        "    probs = probs[0].tolist()\n",
        "    ids = ids[0].tolist()\n",
        "\n",
        "    tokens = [tokenizer.ids_to_tokens[i] for i in ids]\n",
        "\n",
        "    results.append({\n",
        "        'inp': inp,\n",
        "        'sentence': sentence,\n",
        "        'label': label,\n",
        "        'top_tokens': tokens,\n",
        "        'top_probs': probs,\n",
        "        'correct@1': tokens[0] == label,\n",
        "        'attn': attn\n",
        "    })\n",
        "\n",
        "print(\"correct@1: %.3f\" % (len([r for r in results if r['correct@1']])/len(results)))"
      ],
      "execution_count": null,
      "outputs": [
        {
          "output_type": "stream",
          "name": "stderr",
          "text": [
            "100%|██████████| 305/305 [00:38<00:00,  7.97it/s]"
          ]
        },
        {
          "output_type": "stream",
          "name": "stdout",
          "text": [
            "correct@1: 0.128\n"
          ]
        },
        {
          "output_type": "stream",
          "name": "stderr",
          "text": [
            "\n"
          ]
        }
      ]
    },
    {
      "cell_type": "code",
      "metadata": {
        "colab": {
          "base_uri": "https://localhost:8080/",
          "height": 1000,
          "referenced_widgets": [
            "643d500b6ef34fcd9e7bd91c918b81b8",
            "4f14b7c168734fb3a1e8820e3aa2f2d1",
            "718e6995abae49559af38e306f92c2db",
            "e6206151ab1843cabf4627280d627563",
            "1c992cedd3d84495bb63d0c6468a69e0",
            "2dec000a73c3459f94f560c80cbc9334",
            "4384d9daf8d44d77a28c762937a6cb78",
            "c6cc1842f3c341528134fa61dc8b5105",
            "71556918ee27422a93a48fac01244e7a",
            "d62487a2a11b4fc38a1f8f12dcfaa98c",
            "391cec4d159f4f6d89c3ebc10d1a37e4",
            "8d114a336260465ca12eb7e18d57b8a1",
            "81c3b5bf0df146acb3e7ff9707396ca9"
          ]
        },
        "id": "woBcW2oHqAk0",
        "outputId": "680dc6f4-8c48-4147-926d-4c857708fb2a"
      },
      "source": [
        "from __future__ import print_function\n",
        "from ipywidgets import interact, interactive, fixed, interact_manual\n",
        "import ipywidgets as widgets\n",
        "\n",
        "correct = [r for r in results if r['correct@1']]\n",
        "wrong = [r for r in results if not r['correct@1']]\n",
        "\n",
        "def show(idx=0, attn_layer=0, is_correct=True):\n",
        "    result = correct[idx] if is_correct else wrong[idx]\n",
        "\n",
        "    top_str = '\\n\\t'.join([('\\t%s\\t(%.4f)' % (t, p)) for t, p in zip(result['top_tokens'], result['top_probs'])])\n",
        "    print(\"\"\"%s\n",
        "    \\tlabel:\\t%s\n",
        "\n",
        "    \\ttop:\\n%s\n",
        "    \"\"\" % (result['sentence'], result['label'], top_str))\n",
        "\n",
        "    print(\"Attention weights (12 heads) from layer %d:\" % attn_layer)\n",
        "    # --- visualize attention\n",
        "    fig, axs = plt.subplots(3, 4, figsize=(18, 12))\n",
        "\n",
        "    toks = ['[CLS]'] + tokenizer.tokenize(result['sentence']) + ['[SEP]']\n",
        "    for i, ax in enumerate(axs.reshape(-1)):\n",
        "        ax.matshow(result['attn'][attn_layer][0][i].data.cpu().numpy(), cmap='gray')\n",
        "\n",
        "        ax.set_xticks(range(len(toks)))\n",
        "        ax.set_xticklabels(toks, rotation=90, fontsize=13)\n",
        "        ax.set_yticks(range(len(toks)))\n",
        "        ax.set_yticklabels(toks, fontsize=13)\n",
        "        \n",
        "    plt.tight_layout()\n",
        "    \n",
        "interactive(show, idx=(0, min(len(correct), len(wrong))-1), attn_layer=range(12), is_correct=True)"
      ],
      "execution_count": null,
      "outputs": [
        {
          "output_type": "display_data",
          "data": {
            "application/vnd.jupyter.widget-view+json": {
              "model_id": "643d500b6ef34fcd9e7bd91c918b81b8",
              "version_minor": 0,
              "version_major": 2
            },
            "text/plain": [
              "interactive(children=(IntSlider(value=0, description='idx', max=38), Dropdown(description='attn_layer', option…"
            ]
          },
          "metadata": {}
        }
      ]
    },
    {
      "cell_type": "code",
      "metadata": {
        "id": "N0dZuwv3qAk0"
      },
      "source": [
        ""
      ],
      "execution_count": null,
      "outputs": []
    },
    {
      "cell_type": "code",
      "metadata": {
        "id": "H6klOpFGqAk0"
      },
      "source": [
        ""
      ],
      "execution_count": null,
      "outputs": []
    },
    {
      "cell_type": "code",
      "metadata": {
        "id": "UMIYE2PzqAk0"
      },
      "source": [
        ""
      ],
      "execution_count": null,
      "outputs": []
    }
  ]
}