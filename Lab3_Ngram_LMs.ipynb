{
  "nbformat": 4,
  "nbformat_minor": 0,
  "metadata": {
    "colab": {
      "name": "Lab3_Ngram_LMs.ipynb",
      "provenance": [],
      "collapsed_sections": [],
      "toc_visible": true
    },
    "kernelspec": {
      "name": "python3",
      "display_name": "Python 3"
    },
    "language_info": {
      "name": "python"
    },
    "accelerator": "GPU"
  },
  "cells": [
    {
      "cell_type": "markdown",
      "metadata": {
        "id": "UFI-kbopBqHx"
      },
      "source": [
        "## Preparation\n",
        "\n",
        "First, let's download some data"
      ]
    },
    {
      "cell_type": "code",
      "metadata": {
        "id": "ryldhtVd4P3V",
        "outputId": "93ba8a48-a782-4e89-8216-7e598a616561",
        "colab": {
          "base_uri": "https://localhost:8080/"
        }
      },
      "source": [
        "! wget https://github.com/townie/PTB-dataset-from-Tomas-Mikolov-s-webpage/raw/master/data/ptb.train.txt\n",
        "! wget https://github.com/townie/PTB-dataset-from-Tomas-Mikolov-s-webpage/raw/master/data/ptb.valid.txt\n",
        "\n",
        "# KenLM doesn't support <unk>, so let's remove it\n",
        "! sed -e 's/<unk>//g' ptb.train.txt > ptb.train.nounk.txt"
      ],
      "execution_count": null,
      "outputs": [
        {
          "output_type": "stream",
          "name": "stdout",
          "text": [
            "--2021-09-25 21:40:59--  https://github.com/townie/PTB-dataset-from-Tomas-Mikolov-s-webpage/raw/master/data/ptb.train.txt\n",
            "Resolving github.com (github.com)... 140.82.112.4\n",
            "Connecting to github.com (github.com)|140.82.112.4|:443... connected.\n",
            "HTTP request sent, awaiting response... 302 Found\n",
            "Location: https://raw.githubusercontent.com/townie/PTB-dataset-from-Tomas-Mikolov-s-webpage/master/data/ptb.train.txt [following]\n",
            "--2021-09-25 21:40:59--  https://raw.githubusercontent.com/townie/PTB-dataset-from-Tomas-Mikolov-s-webpage/master/data/ptb.train.txt\n",
            "Resolving raw.githubusercontent.com (raw.githubusercontent.com)... 185.199.109.133, 185.199.108.133, 185.199.111.133, ...\n",
            "Connecting to raw.githubusercontent.com (raw.githubusercontent.com)|185.199.109.133|:443... connected.\n",
            "HTTP request sent, awaiting response... 200 OK\n",
            "Length: 5101618 (4.9M) [text/plain]\n",
            "Saving to: ‘ptb.train.txt’\n",
            "\n",
            "ptb.train.txt       100%[===================>]   4.87M  --.-KB/s    in 0.08s   \n",
            "\n",
            "2021-09-25 21:41:00 (59.4 MB/s) - ‘ptb.train.txt’ saved [5101618/5101618]\n",
            "\n",
            "--2021-09-25 21:41:00--  https://github.com/townie/PTB-dataset-from-Tomas-Mikolov-s-webpage/raw/master/data/ptb.valid.txt\n",
            "Resolving github.com (github.com)... 140.82.112.4\n",
            "Connecting to github.com (github.com)|140.82.112.4|:443... connected.\n",
            "HTTP request sent, awaiting response... 302 Found\n",
            "Location: https://raw.githubusercontent.com/townie/PTB-dataset-from-Tomas-Mikolov-s-webpage/master/data/ptb.valid.txt [following]\n",
            "--2021-09-25 21:41:00--  https://raw.githubusercontent.com/townie/PTB-dataset-from-Tomas-Mikolov-s-webpage/master/data/ptb.valid.txt\n",
            "Resolving raw.githubusercontent.com (raw.githubusercontent.com)... 185.199.108.133, 185.199.109.133, 185.199.110.133, ...\n",
            "Connecting to raw.githubusercontent.com (raw.githubusercontent.com)|185.199.108.133|:443... connected.\n",
            "HTTP request sent, awaiting response... 200 OK\n",
            "Length: 399782 (390K) [text/plain]\n",
            "Saving to: ‘ptb.valid.txt’\n",
            "\n",
            "ptb.valid.txt       100%[===================>] 390.41K  --.-KB/s    in 0.03s   \n",
            "\n",
            "2021-09-25 21:41:00 (11.2 MB/s) - ‘ptb.valid.txt’ saved [399782/399782]\n",
            "\n"
          ]
        }
      ]
    },
    {
      "cell_type": "code",
      "metadata": {
        "id": "cYvYNcFK5LBS",
        "outputId": "28622a6b-d038-4ded-b1d6-c8828f07b45a",
        "colab": {
          "base_uri": "https://localhost:8080/"
        }
      },
      "source": [
        "! head -n 5 ptb.train.nounk.txt"
      ],
      "execution_count": null,
      "outputs": [
        {
          "output_type": "stream",
          "name": "stdout",
          "text": [
            " aer banknote berlitz calloway centrust cluett fromstein gitano guterman hydro-quebec ipo kia memotec mlx nahb punts rake regatta rubens sim snack-food ssangyong swapo wachter \n",
            " pierre  N years old will join the board as a nonexecutive director nov. N \n",
            " mr.  is chairman of  n.v. the dutch publishing group \n",
            " rudolph  N years old and former chairman of consolidated gold fields plc was named a nonexecutive director of this british industrial conglomerate \n",
            " a form of asbestos once used to make kent cigarette filters has caused a high percentage of cancer deaths among a group of workers exposed to it more than N years ago researchers reported \n"
          ]
        }
      ]
    },
    {
      "cell_type": "markdown",
      "metadata": {
        "id": "LcqIaHjExQn3"
      },
      "source": [
        "## Building an N-gram language model with Tries"
      ]
    },
    {
      "cell_type": "markdown",
      "metadata": {
        "id": "uqVqrUb1xmFy"
      },
      "source": [
        "In this lab, we are going to explore N-gram language models.\n",
        "\n",
        "The idea behind N-gram language models is that we want to learn a distribution over text sequences, looking only at windows of N tokens at a time. At its core, we are concerned with learning the following distribution:\n",
        "\n",
        "$$P(x_t|x_{t-1}, \\cdots, x_{t-n+1})$$\n",
        "\n",
        "In other words, the **conditional distribution** of the next token given the last $n-1$ tokens. We can use this conditional distribution for language modeling as follows:\n",
        "\n",
        "\\begin{align}\n",
        "P(x_1 \\cdots x_T) \n",
        "  &= P(x_1)P(x_2|x_1)\\cdots P(x_T|x_{t-1}, \\cdots, x_1) \\\\\n",
        "  &\\approx P(x_1)P(x_2|x_1)\\cdots P(x_T|x_{t-1}, \\cdots, x_{t-n+1})\n",
        "\\end{align}\n",
        "\n",
        "where in the second step, we make the assumption that only the last $n-1$ tokens are relevant for predicting the next token. This is how we can use N-gram models for language modeling.\n",
        "\n",
        "(We will temporarily ignore edge cases such as \"what do you do when you have fewer than N tokens\". Those cases require some more tedious handling, such as adding padding tokens.)\n",
        "\n",
        "The simplest approach to this is a **count-based** approach, where we take a large corpus of text (our \"training corpus\"), break it up into segments of size N, and count how often we see each N-gram."
      ]
    },
    {
      "cell_type": "markdown",
      "metadata": {
        "id": "TAldOUA6yjmz"
      },
      "source": [
        "### Trie-based N-gram Language Modeling\n",
        "\n",
        "**Tries** or **Prefix Trees** are a data structure that allow for fast look-ups based on prefixes. This is particularly useful for build N-gram models, what we want is to know the distribution of the next token given a prefix of N-1 tokens.\n",
        "\n",
        "(For a simple N-gram model, you could also just use a big dictionary, but we will see below with *back-off* why a prefix tree is more useful.)\n",
        "\n",
        "(*Trie* is based on the word re**trie**val, and can be pronounced either like \"tree\" or \"try\".)\n",
        "\n",
        "It is easiest to see how a trie works by an example. Suppose we have a simple text corpus that just consists of the following 3-grams:\n",
        "\n",
        "```\n",
        "new york university\n",
        "new york university\n",
        "new york city\n",
        "new jersey transit\n",
        "one two three\n",
        "```\n",
        "\n",
        "This can be expressed with the following trie:"
      ]
    },
    {
      "cell_type": "markdown",
      "metadata": {
        "id": "evTKx2Nf5DuL"
      },
      "source": [
        "<img width=400 src=\"data:image/png;base64,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\">"
      ]
    },
    {
      "cell_type": "markdown",
      "metadata": {
        "id": "AQJ_EVm05aeW"
      },
      "source": [
        "As we can see, we start with a root node, and break down each successful token into a new branch in the tree. We are most concerned with the counts in the leaf nodes of the tree.\n",
        "\n",
        "For an N-gram language model, we only need our trie to go up to depth N.\n",
        "\n",
        "Here is some simple code to implement a trie for N-grams."
      ]
    },
    {
      "cell_type": "code",
      "metadata": {
        "id": "HDV1OTf4e5Lv"
      },
      "source": [
        "import numpy as np\n",
        "\n",
        "class Node:\n",
        "    def __init__(self):\n",
        "        self.count = 0\n",
        "        self.child_nodes = {}\n",
        "\n",
        "    def has_token(self, token):\n",
        "        return token in self.child_nodes\n",
        "\n",
        "    def create_child_node(self, token):\n",
        "        self.child_nodes[token] = Node()\n",
        "\n",
        "    def increment_count(self):\n",
        "        self.count += 1\n",
        "    \n",
        "    def get_child_node(self, token):\n",
        "        if token not in self.child_nodes:\n",
        "            raise KeyError(f\"'{token}' not found in child node\")\n",
        "        return self.child_nodes[token]\n",
        "        \n",
        "\n",
        "class NgramTrie:\n",
        "    def __init__(self, n):\n",
        "        self.n = n\n",
        "        self.root_node = Node()\n",
        "        self.vocab = set()\n",
        "    \n",
        "    def add_ngram(self, ngram):\n",
        "        if len(ngram) > self.n:\n",
        "            raise RuntimeError(f\"This NgramTrie only supports up to {n}-grams\")\n",
        "\n",
        "        # Update vocabulary\n",
        "        self.vocab.update(ngram)\n",
        "\n",
        "        # Update Trie\n",
        "        current_node = self.root_node\n",
        "        current_node.increment_count()\n",
        "        for token in ngram:\n",
        "            if not current_node.has_token(token):\n",
        "                current_node.create_child_node(token)\n",
        "            current_node = current_node.get_child_node(token)\n",
        "            current_node.increment_count()"
      ],
      "execution_count": null,
      "outputs": []
    },
    {
      "cell_type": "markdown",
      "metadata": {
        "id": "zgAi8bkr5ulj"
      },
      "source": [
        "We can express the above tree as follows."
      ]
    },
    {
      "cell_type": "code",
      "metadata": {
        "id": "1qZYuEwE5tbk"
      },
      "source": [
        "sample_trie = NgramTrie(n=3)\n",
        "sample_trie.add_ngram([\"new\", \"york\", \"university\"])\n",
        "sample_trie.add_ngram([\"new\", \"york\", \"university\"])\n",
        "sample_trie.add_ngram([\"new\", \"york\", \"city\"])\n",
        "sample_trie.add_ngram([\"new\", \"jersey\", \"transit\"])\n",
        "sample_trie.add_ngram([\"one\", \"two\", \"three\"])\n",
        "print(\"new york university\", sample_trie.root_node.get_child_node(\"new\").get_child_node(\"york\").get_child_node(\"university\").count)\n",
        "print(\"one two three\", sample_trie.root_node.get_child_node(\"one\").get_child_node(\"two\").get_child_node(\"three\").count)\n",
        "print(\"new\", sample_trie.root_node.get_child_node(\"new\").count)"
      ],
      "execution_count": null,
      "outputs": []
    },
    {
      "cell_type": "markdown",
      "metadata": {
        "id": "OToBmlKx6wyn"
      },
      "source": [
        "Now, let's train a 4-gram model on our PTB corpus"
      ]
    },
    {
      "cell_type": "code",
      "metadata": {
        "id": "xETBRLubDTfZ"
      },
      "source": [
        "# Get all lines from training corpus\n",
        "def load_lines(path):\n",
        "    with open(path, \"r\") as f:\n",
        "        lines = []\n",
        "        for line in f:\n",
        "            line = line.strip()\n",
        "            if not line: \n",
        "                continue\n",
        "            lines.append(line)\n",
        "    return lines\n",
        "lines = load_lines(\"ptb.train.nounk.txt\")\n",
        "\n",
        "# Add all data into 4-gram Trie\n",
        "n = 4\n",
        "trie_4gram = NgramTrie(n=4)\n",
        "for line in lines:\n",
        "    sequence = [\"<bos>\"] + line.split() + [\"<eos>\"]\n",
        "    # for each ngram (sliding window)\n",
        "    for i in range(len(sequence)-n+1):\n",
        "        ngram = tuple(sequence[i:i+n])\n",
        "        trie_4gram.add_ngram(ngram)"
      ],
      "execution_count": null,
      "outputs": []
    },
    {
      "cell_type": "markdown",
      "metadata": {
        "id": "WqYajm7r63OC"
      },
      "source": [
        "Now that we have a trie for storing our 4-gram counts, we can easily compute the conditional distribution. We simply need to look up to 3-nodes down the trie, and compute the distribution based on the counts of tokens with that 3-gram prefix."
      ]
    },
    {
      "cell_type": "code",
      "metadata": {
        "id": "sUIgI1zskFz5"
      },
      "source": [
        "def get_ngram_cond_dist(trie, input_ngram):\n",
        "    \"\"\"Get simple n-gram conditional distribution from trie.\n",
        "\n",
        "    Arguments:\n",
        "      trie: NgramTrie\n",
        "      input_ngram: Tuple of n-1 tokens\n",
        "\n",
        "    Returns:\n",
        "      Dictionary mapping each possible token->conditional probability\n",
        "    \"\"\"\n",
        "    current_node = trie.root_node\n",
        "    for token in input_ngram:\n",
        "        current_node = current_node.get_child_node(token)\n",
        "    # Get count for each child node\n",
        "    child_counts = {}\n",
        "    for token, node in current_node.child_nodes.items():\n",
        "        child_counts[token] = node.count\n",
        "\n",
        "    # Divide by total counts\n",
        "    total_count = sum(child_counts.values())\n",
        "    child_prob = {}\n",
        "    for token, count in child_counts.items():\n",
        "        child_prob[token] = count / total_count\n",
        "    return child_prob"
      ],
      "execution_count": null,
      "outputs": []
    },
    {
      "cell_type": "markdown",
      "metadata": {
        "id": "9YCHX2907fse"
      },
      "source": [
        "For instance, we can compute the conditional distribution of tokens with a sentence starting with \"the new\":"
      ]
    },
    {
      "cell_type": "code",
      "metadata": {
        "id": "vHPYHdiTEUIO"
      },
      "source": [
        "seed_tokens = [\"<bos>\", \"new\", \"york\"]\n",
        "dist = get_ngram_cond_dist(trie_4gram, seed_tokens)\n",
        "dist"
      ],
      "execution_count": null,
      "outputs": []
    },
    {
      "cell_type": "markdown",
      "metadata": {
        "id": "Zm0EeLJj7qUB"
      },
      "source": [
        "Now that we know how to construct a conditional distribution based on N-grams, we can repeatedly sample from that distribution, append it to our input, and generate text that way!\n",
        "\n",
        "We set two terminal conditions to stop generating more tokens.\n",
        "\n",
        "1. If we encounter an `<eos>` token\n",
        "2. If we have generated `max_length` tokens (this stops us from being trapped in a loop)\n",
        "\n",
        "You should see that the generated text may not make sense overall (globally), but looks reasonable in small (local) windows."
      ]
    },
    {
      "cell_type": "code",
      "metadata": {
        "id": "SZuk2A0mDTnq"
      },
      "source": [
        "def sample_from_distribution(dist):\n",
        "    tokens, p = zip(*dist.items())\n",
        "    return np.random.choice(tokens, p=p)\n",
        "\n",
        "def sample_from_trie(trie, seed_tokens, cond_dist_func, max_length=20):\n",
        "    all_tokens = seed_tokens.copy()\n",
        "    for i in range(max_length):\n",
        "        input_tokens = all_tokens[-(trie.n-1):]\n",
        "        dist = cond_dist_func(trie_4gram, input_tokens)\n",
        "        new_token = sample_from_distribution(dist)\n",
        "        all_tokens.append(new_token)\n",
        "        if new_token == \"<eos>\":\n",
        "            break\n",
        "    return all_tokens\n",
        "\n",
        "seed_tokens = [\"<bos>\", \"the\", \"new\"]\n",
        "generated_tokens = sample_from_trie(\n",
        "    trie=trie_4gram, \n",
        "    seed_tokens=seed_tokens,\n",
        "    cond_dist_func=get_ngram_cond_dist\n",
        ")\n",
        "print(\"Generated: \" + \" \".join(generated_tokens))"
      ],
      "execution_count": null,
      "outputs": []
    },
    {
      "cell_type": "markdown",
      "metadata": {
        "id": "0OXhOd598LAL"
      },
      "source": [
        "## Expanding our N-gram model\n",
        "\n",
        "Our count-based N-gram model suffers from the fact that it strictly adheres to the N-grams it has seen before. This can be quite restrictive, particularly if we have small training corpus. We can make two adjustments to our model."
      ]
    },
    {
      "cell_type": "markdown",
      "metadata": {
        "id": "vtYor3PG8ln4"
      },
      "source": [
        "### Back-off\n",
        "\n",
        "One approach to dealing with unseen N-grams is \"back-off\". Consider the following case: the model has never seen a sentence *starting with* \"new mexico\"."
      ]
    },
    {
      "cell_type": "code",
      "metadata": {
        "id": "YJGBqY9Trn_z"
      },
      "source": [
        "# FAILS: No sentence starting with \"New Mexico\" in the training corpus\n",
        "get_ngram_cond_dist(trie_4gram,  [\"<bos>\", \"new\", \"mexico\"])"
      ],
      "execution_count": null,
      "outputs": []
    },
    {
      "cell_type": "markdown",
      "metadata": {
        "id": "SCs8S0Sm9B7x"
      },
      "source": [
        "However, the term \"new mexico\" does appear in the training corpus - just not at the start of a sentence. In this case, when we fail to find a matching 4-gram, we can consider falling back to a 3-gram model.\n",
        "\n",
        "Here, a trie proves useful, because it is easy for us to fall back to smaller N N-grams.\n",
        "\n",
        "Hence, we can write a modified conditional distribution function that *backs off* to smaller and smaller N-grams. In the extreme, if the model is given an input with tokens it has never seen before, it will fall back to the root node and sample from a unigram model, i.e. the unconditional distribution of tokens."
      ]
    },
    {
      "cell_type": "code",
      "metadata": {
        "id": "wXD0Ji39tAZo"
      },
      "source": [
        "def get_ngram_cond_dist_backoff(trie, input_ngram):\n",
        "    # Repeatedly back-off to smaller N\n",
        "    while True:\n",
        "        current_node = trie.root_node\n",
        "        matched = True\n",
        "        for token in input_ngram:\n",
        "            # Did not find token: reduce n-gram\n",
        "            if not current_node.has_token(token):\n",
        "                input_ngram = input_ngram[1:]\n",
        "                matched = False\n",
        "                break\n",
        "            current_node = current_node.get_child_node(token)\n",
        "\n",
        "        # Successfully matched n-gram, break out of loop\n",
        "        if matched:\n",
        "          break\n",
        "\n",
        "    if len(input_ngram) != trie.n:\n",
        "        print(f\"Fell back to {len(input_ngram)+1}-gram\")\n",
        "        \n",
        "    # Get count for each child node\n",
        "    child_counts = {}\n",
        "    for token, node in current_node.child_nodes.items():\n",
        "        child_counts[token] = node.count\n",
        "\n",
        "    # Divide by total counts\n",
        "    total_count = sum(child_counts.values())\n",
        "    child_prob = {}\n",
        "    for token, count in child_counts.items():\n",
        "        child_prob[token] = count / total_count\n",
        "    return child_prob\n"
      ],
      "execution_count": null,
      "outputs": []
    },
    {
      "cell_type": "code",
      "metadata": {
        "id": "kfrPXmA9txCq"
      },
      "source": [
        "# Succeeds: falls back to 3-gram\n",
        "get_ngram_cond_dist_backoff(trie_4gram,  [\"<bos>\", \"new\", \"mexico\"])"
      ],
      "execution_count": null,
      "outputs": []
    },
    {
      "cell_type": "code",
      "metadata": {
        "id": "8wpkI5qxwKbx"
      },
      "source": [
        "# No such thing as \"New Canada\": Falls back to 2-gram\n",
        "get_ngram_cond_dist_backoff(trie_4gram,  [\"<bos>\", \"new\", \"canada\"])"
      ],
      "execution_count": null,
      "outputs": []
    },
    {
      "cell_type": "code",
      "metadata": {
        "id": "Ain-CACLwKko"
      },
      "source": [
        "# OOV: Falls back to 1-gram (sample from root-node)\n",
        "get_ngram_cond_dist_backoff(trie_4gram,  [\"<bos>\", \"new\", \"sdfklhkashdfkjasf\"])"
      ],
      "execution_count": null,
      "outputs": []
    },
    {
      "cell_type": "markdown",
      "metadata": {
        "id": "JXBRkd4X9oVl"
      },
      "source": [
        "### Add-1 smoothing\n",
        "\n",
        "Alternatively we may be interested in increasing the expressivity to our model, by assigning some probability mass to conditional distribution of the next token, even for N-grams that the model has never seen before. One simple approach to this is \"add-1 smoothing\", where we simply add 1 to the counts of each tokens for all tokens in the vocab, and then compute the conditional distribution. This is akin to imposing a prior that \"every possible N-gram appears at least once\".\n",
        "\n",
        "Importantly, all unseen N-grams will be assigned the same probability."
      ]
    },
    {
      "cell_type": "code",
      "metadata": {
        "id": "5K0Q1gZWpoWh"
      },
      "source": [
        "def get_ngram_cond_dist_add1_smoothing(trie, input_ngram):\n",
        "    current_node = trie.root_node\n",
        "    try:\n",
        "        # Traverse trie\n",
        "        for token in input_ngram:\n",
        "            current_node = current_node.get_child_node(token)\n",
        "        # Get count for each child node\n",
        "        child_counts = {}\n",
        "        for token, node in current_node.child_nodes.items():\n",
        "            child_counts[token] = node.count\n",
        "    except KeyError:\n",
        "        # Unseen N-gram\n",
        "        child_counts = {}\n",
        "\n",
        "    # ADD-1 SMOOTHING\n",
        "    for token in trie.vocab:\n",
        "        if token not in child_counts:\n",
        "            child_counts[token] = 0\n",
        "        child_counts[token] += 1\n",
        "\n",
        "    # Divide by total counts\n",
        "    total_count = sum(child_counts.values())\n",
        "    child_prob = {}\n",
        "    for token, count in child_counts.items():\n",
        "        child_prob[token] = count / total_count\n",
        "    return child_prob\n",
        "\n",
        "get_ngram_cond_dist_add1_smoothing(trie_4gram,  [\"<bos>\", \"on\", \"sunday\"])"
      ],
      "execution_count": null,
      "outputs": []
    },
    {
      "cell_type": "markdown",
      "metadata": {
        "id": "Bf7t1B73F5ZU"
      },
      "source": [
        "## Feedforward N-gram model"
      ]
    },
    {
      "cell_type": "code",
      "metadata": {
        "id": "oijLtph6F3mD"
      },
      "source": [
        "import numpy as np\n",
        "import torch\n",
        "import torch.nn as nn\n",
        "import torch.nn.functional as F\n",
        "from torch.utils.data import Dataset, DataLoader\n",
        "from tqdm.notebook import trange, tqdm"
      ],
      "execution_count": null,
      "outputs": []
    },
    {
      "cell_type": "code",
      "metadata": {
        "id": "itt7VnptGCQ_"
      },
      "source": [
        "TRAIN_PATH = \"ptb.train.nounk.txt\"\n",
        "VAL_PATH = \"ptb.valid.txt\"\n",
        "UNK = \"<unk>\"\n",
        "NGRAM_N = 4\n",
        "BATCH_SIZE = 8192\n",
        "DEVICE = torch.device(\"cuda:0\")\n",
        "# DEVICE = torch.device(\"cpu\")"
      ],
      "execution_count": null,
      "outputs": []
    },
    {
      "cell_type": "code",
      "metadata": {
        "id": "OaMkTK06Hdqc"
      },
      "source": [
        "def load_tokens(path):\n",
        "    with open(path, \"r\") as f:\n",
        "        tokens_list = []\n",
        "        for line in f:\n",
        "            line = line.strip()\n",
        "            if not line: \n",
        "                continue\n",
        "            tokens_list.append([\"<bos>\"] + line.split() + [\"<eos>\"])\n",
        "    return tokens_list\n",
        "\n",
        "def get_ngrams_arr(tokens_list, tok2idx, n):\n",
        "    ngram_rows = []\n",
        "    for tokens in tokens_list:\n",
        "        for i in range(len(tokens)-n+1):\n",
        "            ngram = tokens[i:i+n]\n",
        "            ngram_indices = [tok2idx.get(token, tok2idx[UNK]) for token in ngram]\n",
        "            ngram_rows.append(ngram_indices)\n",
        "    return np.array(ngram_rows)\n",
        "\n",
        "class NgramDataset(Dataset):\n",
        "   \n",
        "    def __init__(self, tokenized_arr):\n",
        "        self.tokenized_arr = tokenized_arr\n",
        "\n",
        "    def __len__(self):\n",
        "        return self.tokenized_arr.shape[0]\n",
        "        \n",
        "    def __getitem__(self, key):\n",
        "        return self.tokenized_arr[key, :-1], self.tokenized_arr[key, -1]"
      ],
      "execution_count": null,
      "outputs": []
    },
    {
      "cell_type": "code",
      "metadata": {
        "id": "d9dHqTHBGCsj"
      },
      "source": [
        "train_tokens = load_tokens(TRAIN_PATH)\n",
        "val_tokens = load_tokens(VAL_PATH)"
      ],
      "execution_count": null,
      "outputs": []
    },
    {
      "cell_type": "code",
      "metadata": {
        "id": "E7G6Y5p5GCxx"
      },
      "source": [
        "vocab = sorted(list({token for token_line in train_tokens for token in token_line})) + [UNK]\n",
        "tok2idx = {vocab: i for i, vocab in enumerate(vocab)}\n",
        "idx2tok = dict(enumerate(vocab))"
      ],
      "execution_count": null,
      "outputs": []
    },
    {
      "cell_type": "code",
      "metadata": {
        "id": "TJLEQ9jAIIWe"
      },
      "source": [
        "train_arr = get_ngrams_arr(train_tokens, tok2idx, n=NGRAM_N)\n",
        "val_arr = get_ngrams_arr(val_tokens, tok2idx, n=NGRAM_N)"
      ],
      "execution_count": null,
      "outputs": []
    },
    {
      "cell_type": "code",
      "metadata": {
        "id": "GdCUHTKaIIaV"
      },
      "source": [
        "train_dataset = NgramDataset(train_arr)\n",
        "val_dataset = NgramDataset(val_arr)\n",
        "\n",
        "train_dataloader = torch.utils.data.DataLoader(\n",
        "    dataset=train_dataset, \n",
        "    batch_size=BATCH_SIZE,\n",
        "    shuffle=True,\n",
        ")\n",
        "val_dataloader = torch.utils.data.DataLoader(\n",
        "    dataset=val_dataset, \n",
        "    batch_size=BATCH_SIZE,\n",
        ")"
      ],
      "execution_count": null,
      "outputs": []
    },
    {
      "cell_type": "code",
      "metadata": {
        "id": "qrxa1_n3K9B1"
      },
      "source": [
        "class NgramModel(nn.Module):\n",
        "    def __init__(self, vocab_size, ngram_n, emb_dim):\n",
        "        super().__init__()\n",
        "        self.emb_dim = emb_dim\n",
        "        self.in_embed = nn.Embedding(vocab_size, emb_dim)\n",
        "        self.linear = nn.Linear(emb_dim * (ngram_n - 1), emb_dim)\n",
        "        self.out_embed = nn.Linear(emb_dim, vocab_size)\n",
        "\n",
        "        # Share weights between embeddings\n",
        "        self.out_embed.weight = self.in_embed.weight\n",
        "    \n",
        "    def forward(self, x):\n",
        "        batch_size, seq_len = x.shape\n",
        "        out = self.in_embed(x)\n",
        "        out = out.reshape(batch_size, seq_len * self.emb_dim)\n",
        "        out = F.relu(self.linear(out))\n",
        "        out = self.out_embed(out)\n",
        "        return out"
      ],
      "execution_count": null,
      "outputs": []
    },
    {
      "cell_type": "code",
      "metadata": {
        "id": "m6tysKLyK9GM"
      },
      "source": [
        "model = NgramModel(vocab_size=len(vocab), ngram_n=NGRAM_N, emb_dim=200).to(DEVICE)\n",
        "optimizer = torch.optim.AdamW(model.parameters(), lr=0.001)"
      ],
      "execution_count": null,
      "outputs": []
    },
    {
      "cell_type": "code",
      "metadata": {
        "id": "6tDgejRMJ2X6"
      },
      "source": [
        "NUM_EPOCHS = 10\n",
        "for epoch in range(NUM_EPOCHS):\n",
        "    print(f\"Epoch {epoch}\")\n",
        "\n",
        "    # Train\n",
        "    train_loss_ls = []\n",
        "    for batch_x, batch_y in tqdm(train_dataloader):\n",
        "        batch_x, batch_y = batch_x.to(DEVICE), batch_y.to(DEVICE)\n",
        "        optimizer.zero_grad()\n",
        "        preds = model(batch_x)\n",
        "        loss = F.cross_entropy(preds, batch_y)\n",
        "        loss.backward()\n",
        "        optimizer.step()\n",
        "        train_loss_ls.append(loss.item())\n",
        "    train_loss = np.mean(train_loss_ls)\n",
        "\n",
        "    # Validation\n",
        "    with torch.no_grad():\n",
        "        loss_ls = []\n",
        "        acc_ls = []\n",
        "        for batch_x, batch_y in tqdm(val_dataloader):\n",
        "            batch_x, batch_y = batch_x.to(DEVICE), batch_y.to(DEVICE)\n",
        "            preds = model(batch_x)\n",
        "            loss = F.cross_entropy(preds, batch_y)\n",
        "            pred_indices = preds.max(dim=1).indices\n",
        "            acc = (pred_indices==batch_y).float().mean()\n",
        "            loss_ls.append(loss.item())\n",
        "            acc_ls.append(acc.item())\n",
        "        avg_loss = np.mean(loss_ls)\n",
        "        avg_acc = np.mean(acc_ls)\n",
        "        print(f\"Train loss: {train_loss},Val loss: {avg_loss}, Val acc: {avg_acc}\")"
      ],
      "execution_count": null,
      "outputs": []
    },
    {
      "cell_type": "code",
      "metadata": {
        "id": "rXsLB01kq9Vr"
      },
      "source": [
        ""
      ],
      "execution_count": null,
      "outputs": []
    },
    {
      "cell_type": "code",
      "metadata": {
        "id": "bQNYTg04GC5g"
      },
      "source": [
        " def cond_dist_with_model(model, input_ngram, tok2idx):\n",
        "    input_ngram_indices = [\n",
        "        tok2idx.get(token, tok2idx[UNK])\n",
        "        for token in input_ngram\n",
        "    ]\n",
        "    tensor = torch.from_numpy(np.array([input_ngram_indices])).to(DEVICE)\n",
        "    with torch.no_grad():\n",
        "        out = F.softmax(model(tensor), dim=-1)[0]\n",
        "    probs = out.cpu().numpy()\n",
        "    return {tok: prob for tok, prob in zip(tok2idx.keys(), probs)}"
      ],
      "execution_count": null,
      "outputs": []
    },
    {
      "cell_type": "code",
      "metadata": {
        "id": "IybWnf3iRO19"
      },
      "source": [
        "def sample_from_distribution(dist):\n",
        "    tokens, p = zip(*dist.items())\n",
        "    p = np.array(p)\n",
        "    p /= p.sum()\n",
        "    return np.random.choice(tokens, p=p)\n",
        "\n",
        "def sample_from_model(model, tok2idx, seed_tokens, max_length=20):\n",
        "    all_tokens = seed_tokens.copy()\n",
        "    for i in range(max_length):\n",
        "        input_tokens = all_tokens[-(NGRAM_N-1):]\n",
        "        dist = cond_dist_with_model(model, input_tokens, tok2idx)\n",
        "        new_token = sample_from_distribution(dist)\n",
        "        all_tokens.append(new_token)\n",
        "        if new_token == \"<eos>\":\n",
        "            break\n",
        "    return all_tokens"
      ],
      "execution_count": null,
      "outputs": []
    },
    {
      "cell_type": "code",
      "metadata": {
        "id": "47NjwjO2ROwW"
      },
      "source": [
        "generated_tokens = sample_from_model(\n",
        "    model=model, \n",
        "    tok2idx=tok2idx,\n",
        "    seed_tokens=[\"<bos>\", \"new\", \"york\"],\n",
        ")\n",
        "print(\"Generated: \" + \" \".join(generated_tokens))"
      ],
      "execution_count": null,
      "outputs": []
    },
    {
      "cell_type": "markdown",
      "metadata": {
        "id": "ogFkl6xQE1O4"
      },
      "source": [
        "## KenLM\n",
        "\n",
        "KenLM is a fast, off-the-shelf N-gram modeling package."
      ]
    },
    {
      "cell_type": "code",
      "metadata": {
        "id": "AivwtB_1sTzs"
      },
      "source": [
        "! wget -O - https://kheafield.com/code/kenlm.tar.gz |tar xz\n",
        "! mkdir /content/kenlm/build; cd /content/kenlm/build; cmake ..; make -j 4\n",
        "! pip install https://github.com/kpu/kenlm/archive/master.zip"
      ],
      "execution_count": null,
      "outputs": []
    },
    {
      "cell_type": "code",
      "metadata": {
        "id": "wM0vB7f_6BZ8"
      },
      "source": [
        "# bi-gram\n",
        "!./kenlm/build/bin/lmplz -o 2 < ptb.train.nounk.txt > ptb_lm_2gram.arpa"
      ],
      "execution_count": null,
      "outputs": []
    },
    {
      "cell_type": "code",
      "metadata": {
        "id": "Rk7kweD_pXVV"
      },
      "source": [
        "# 4-gram\n",
        "!./kenlm/build/bin/lmplz -o 4 < ptb.train.nounk.txt > ptb_lm_4gram.arpa"
      ],
      "execution_count": null,
      "outputs": []
    },
    {
      "cell_type": "code",
      "metadata": {
        "id": "OfRyPmW76LdI"
      },
      "source": [
        "import kenlm\n",
        "import os\n",
        "import random"
      ],
      "execution_count": null,
      "outputs": []
    },
    {
      "cell_type": "code",
      "metadata": {
        "id": "V1huDlL97Y3f"
      },
      "source": [
        "bigram_model = kenlm.LanguageModel('ptb_lm_2gram.arpa')\n",
        "fourgram_model = kenlm.LanguageModel('ptb_lm_4gram.arpa')"
      ],
      "execution_count": null,
      "outputs": []
    },
    {
      "cell_type": "code",
      "metadata": {
        "id": "fPt4_DBu8tBB"
      },
      "source": [
        "sentence = \"dividend yields have been bolstered by stock declines \""
      ],
      "execution_count": null,
      "outputs": []
    },
    {
      "cell_type": "code",
      "metadata": {
        "id": "MIRqVC4iA8bV"
      },
      "source": [
        "# bigram_model.score\n",
        "#   Return the log10 probability of a string.  By default, the string istreated as a sentence.  \n",
        "#  return log10 p(sentence </s> | <s>)\n",
        "bigram_model.score(sentence)"
      ],
      "execution_count": null,
      "outputs": []
    },
    {
      "cell_type": "code",
      "metadata": {
        "id": "rnQ4NyGE8tOT"
      },
      "source": [
        "def get_ppl(model, sent):\n",
        "    \"\"\"Calculate perplexity.\"\"\"\n",
        "    return 10 ** (-model.score(sent) / len(sent.split()))"
      ],
      "execution_count": null,
      "outputs": []
    },
    {
      "cell_type": "code",
      "metadata": {
        "id": "QQspOjji8s0G"
      },
      "source": [
        "print(get_ppl(bigram_model, sentence))\n",
        "print(get_ppl(fourgram_model, sentence))"
      ],
      "execution_count": null,
      "outputs": []
    },
    {
      "cell_type": "code",
      "metadata": {
        "id": "eBEBFNGW_Cf7"
      },
      "source": [
        "ood_sentence = 'artificial neural networks are computing systems vaguely inspired by the biological neural networks'\n",
        "print(get_ppl(bigram_model, ood_sentence))\n",
        "print(get_ppl(fourgram_model, ood_sentence))"
      ],
      "execution_count": null,
      "outputs": []
    },
    {
      "cell_type": "code",
      "metadata": {
        "id": "LTj_-11P_CmK"
      },
      "source": [
        "random.seed(555)\n",
        "tokens = sentence.split()\n",
        "random.shuffle(tokens)\n",
        "shuffled_sentence = ' '.join(tokens)\n",
        "print(shuffled_sentence)\n",
        "print(get_ppl(bigram_model, shuffled_sentence))\n",
        "print(get_ppl(fourgram_model, shuffled_sentence))"
      ],
      "execution_count": null,
      "outputs": []
    },
    {
      "cell_type": "code",
      "metadata": {
        "id": "PClWUIqyALuE"
      },
      "source": [
        "def is_ood(word, model):\n",
        "    return word not in bigram_model\n",
        "\n",
        "print(is_ood('wioruqoeruq4r', bigram_model))\n",
        "print(is_ood('computer', bigram_model))"
      ],
      "execution_count": null,
      "outputs": []
    },
    {
      "cell_type": "code",
      "metadata": {
        "id": "JHoFwpJVRNcY"
      },
      "source": [
        ""
      ],
      "execution_count": null,
      "outputs": []
    }
  ]
}