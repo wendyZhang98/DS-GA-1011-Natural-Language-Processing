{
  "nbformat": 4,
  "nbformat_minor": 0,
  "metadata": {
    "colab": {
      "name": "Lab8_NeuralMachineTranslation.ipynb",
      "provenance": [],
      "collapsed_sections": []
    },
    "kernelspec": {
      "name": "python3",
      "display_name": "Python 3"
    },
    "language_info": {
      "name": "python"
    },
    "accelerator": "GPU"
  },
  "cells": [
    {
      "cell_type": "code",
      "metadata": {
        "colab": {
          "base_uri": "https://localhost:8080/"
        },
        "id": "6nQdPV_TjUrz",
        "outputId": "5ff946f5-e8a0-4d63-ff41-27813a9769dd"
      },
      "source": [
        "! git clone https://github.com/joeynmt/joeynmt.git"
      ],
      "execution_count": null,
      "outputs": [
        {
          "output_type": "stream",
          "name": "stdout",
          "text": [
            "Cloning into 'joeynmt'...\n",
            "remote: Enumerating objects: 3224, done.\u001b[K\n",
            "remote: Counting objects: 100% (273/273), done.\u001b[K\n",
            "remote: Compressing objects: 100% (139/139), done.\u001b[K\n",
            "remote: Total 3224 (delta 157), reused 206 (delta 134), pack-reused 2951\u001b[K\n",
            "Receiving objects: 100% (3224/3224), 8.17 MiB | 16.70 MiB/s, done.\n",
            "Resolving deltas: 100% (2186/2186), done.\n"
          ]
        }
      ]
    },
    {
      "cell_type": "code",
      "metadata": {
        "colab": {
          "base_uri": "https://localhost:8080/"
        },
        "id": "c-nCKI55jeAh",
        "outputId": "d6b1f803-4464-43b0-ed77-9d4dbabcd8e3"
      },
      "source": [
        "%%shell\n",
        "\n",
        "# Some dependency errors are fine as long as joeynmt was installed\n",
        "\n",
        "cd joeynmt\n",
        "pip3 install . --user"
      ],
      "execution_count": null,
      "outputs": [
        {
          "output_type": "stream",
          "name": "stdout",
          "text": [
            "Processing /content/joeynmt\n",
            "\u001b[33m  DEPRECATION: A future pip version will change local packages to be built in-place without first copying to a temporary directory. We recommend you use --use-feature=in-tree-build to test your packages with this new behavior before it becomes the default.\n",
            "   pip 21.3 will remove support for this functionality. You can find discussion regarding this at https://github.com/pypa/pip/issues/7555.\u001b[0m\n",
            "Requirement already satisfied: future in /usr/local/lib/python3.7/dist-packages (from joeynmt==1.3) (0.16.0)\n",
            "Requirement already satisfied: pillow in /usr/local/lib/python3.7/dist-packages (from joeynmt==1.3) (7.1.2)\n",
            "Requirement already satisfied: numpy>=1.19.5 in /usr/local/lib/python3.7/dist-packages (from joeynmt==1.3) (1.19.5)\n",
            "Requirement already satisfied: setuptools>=41.0.0 in /usr/local/lib/python3.7/dist-packages (from joeynmt==1.3) (57.4.0)\n",
            "Requirement already satisfied: torch>=1.9.0 in /usr/local/lib/python3.7/dist-packages (from joeynmt==1.3) (1.9.0+cu111)\n",
            "Requirement already satisfied: tensorboard>=1.15 in /usr/local/lib/python3.7/dist-packages (from joeynmt==1.3) (2.6.0)\n",
            "Requirement already satisfied: torchtext>=0.10.0 in /usr/local/lib/python3.7/dist-packages (from joeynmt==1.3) (0.10.0)\n",
            "Collecting sacrebleu>=2.0.0\n",
            "  Downloading sacrebleu-2.0.0-py3-none-any.whl (90 kB)\n",
            "\u001b[K     |████████████████████████████████| 90 kB 4.4 MB/s \n",
            "\u001b[?25hCollecting subword-nmt\n",
            "  Downloading subword_nmt-0.3.7-py2.py3-none-any.whl (26 kB)\n",
            "Requirement already satisfied: matplotlib in /usr/local/lib/python3.7/dist-packages (from joeynmt==1.3) (3.2.2)\n",
            "Requirement already satisfied: seaborn in /usr/local/lib/python3.7/dist-packages (from joeynmt==1.3) (0.11.2)\n",
            "Collecting pyyaml>=5.1\n",
            "  Downloading PyYAML-6.0-cp37-cp37m-manylinux_2_5_x86_64.manylinux1_x86_64.manylinux_2_12_x86_64.manylinux2010_x86_64.whl (596 kB)\n",
            "\u001b[K     |████████████████████████████████| 596 kB 35.2 MB/s \n",
            "\u001b[?25hCollecting pylint>=2.9.6\n",
            "  Downloading pylint-2.11.1-py3-none-any.whl (392 kB)\n",
            "\u001b[K     |████████████████████████████████| 392 kB 43.4 MB/s \n",
            "\u001b[?25hCollecting six==1.12\n",
            "  Downloading six-1.12.0-py2.py3-none-any.whl (10 kB)\n",
            "Collecting wrapt==1.11.1\n",
            "  Downloading wrapt-1.11.1.tar.gz (27 kB)\n",
            "Collecting isort<6,>=4.2.5\n",
            "  Downloading isort-5.9.3-py3-none-any.whl (106 kB)\n",
            "\u001b[K     |████████████████████████████████| 106 kB 49.4 MB/s \n",
            "\u001b[?25hCollecting typing-extensions>=3.10.0\n",
            "  Downloading typing_extensions-3.10.0.2-py3-none-any.whl (26 kB)\n",
            "Collecting platformdirs>=2.2.0\n",
            "  Downloading platformdirs-2.4.0-py3-none-any.whl (14 kB)\n",
            "Collecting mccabe<0.7,>=0.6\n",
            "  Downloading mccabe-0.6.1-py2.py3-none-any.whl (8.6 kB)\n",
            "Requirement already satisfied: toml>=0.7.1 in /usr/local/lib/python3.7/dist-packages (from pylint>=2.9.6->joeynmt==1.3) (0.10.2)\n",
            "Collecting astroid<2.9,>=2.8.0\n",
            "  Downloading astroid-2.8.3-py3-none-any.whl (246 kB)\n",
            "\u001b[K     |████████████████████████████████| 246 kB 47.6 MB/s \n",
            "\u001b[?25hCollecting lazy-object-proxy>=1.4.0\n",
            "  Downloading lazy_object_proxy-1.6.0-cp37-cp37m-manylinux1_x86_64.whl (55 kB)\n",
            "\u001b[K     |████████████████████████████████| 55 kB 3.9 MB/s \n",
            "\u001b[?25hCollecting typed-ast<1.5,>=1.4.0\n",
            "  Downloading typed_ast-1.4.3-cp37-cp37m-manylinux1_x86_64.whl (743 kB)\n",
            "\u001b[K     |████████████████████████████████| 743 kB 37.6 MB/s \n",
            "\u001b[?25hCollecting colorama\n",
            "  Downloading colorama-0.4.4-py2.py3-none-any.whl (16 kB)\n",
            "Collecting portalocker\n",
            "  Downloading portalocker-2.3.2-py2.py3-none-any.whl (15 kB)\n",
            "Requirement already satisfied: tabulate>=0.8.9 in /usr/local/lib/python3.7/dist-packages (from sacrebleu>=2.0.0->joeynmt==1.3) (0.8.9)\n",
            "Requirement already satisfied: regex in /usr/local/lib/python3.7/dist-packages (from sacrebleu>=2.0.0->joeynmt==1.3) (2019.12.20)\n",
            "Requirement already satisfied: werkzeug>=0.11.15 in /usr/local/lib/python3.7/dist-packages (from tensorboard>=1.15->joeynmt==1.3) (1.0.1)\n",
            "Requirement already satisfied: google-auth<2,>=1.6.3 in /usr/local/lib/python3.7/dist-packages (from tensorboard>=1.15->joeynmt==1.3) (1.35.0)\n",
            "Requirement already satisfied: grpcio>=1.24.3 in /usr/local/lib/python3.7/dist-packages (from tensorboard>=1.15->joeynmt==1.3) (1.41.0)\n",
            "Requirement already satisfied: absl-py>=0.4 in /usr/local/lib/python3.7/dist-packages (from tensorboard>=1.15->joeynmt==1.3) (0.12.0)\n",
            "Requirement already satisfied: protobuf>=3.6.0 in /usr/local/lib/python3.7/dist-packages (from tensorboard>=1.15->joeynmt==1.3) (3.17.3)\n",
            "Requirement already satisfied: requests<3,>=2.21.0 in /usr/local/lib/python3.7/dist-packages (from tensorboard>=1.15->joeynmt==1.3) (2.23.0)\n",
            "Requirement already satisfied: tensorboard-data-server<0.7.0,>=0.6.0 in /usr/local/lib/python3.7/dist-packages (from tensorboard>=1.15->joeynmt==1.3) (0.6.1)\n",
            "Requirement already satisfied: wheel>=0.26 in /usr/local/lib/python3.7/dist-packages (from tensorboard>=1.15->joeynmt==1.3) (0.37.0)\n",
            "Requirement already satisfied: google-auth-oauthlib<0.5,>=0.4.1 in /usr/local/lib/python3.7/dist-packages (from tensorboard>=1.15->joeynmt==1.3) (0.4.6)\n",
            "Requirement already satisfied: tensorboard-plugin-wit>=1.6.0 in /usr/local/lib/python3.7/dist-packages (from tensorboard>=1.15->joeynmt==1.3) (1.8.0)\n",
            "Requirement already satisfied: markdown>=2.6.8 in /usr/local/lib/python3.7/dist-packages (from tensorboard>=1.15->joeynmt==1.3) (3.3.4)\n",
            "Requirement already satisfied: cachetools<5.0,>=2.0.0 in /usr/local/lib/python3.7/dist-packages (from google-auth<2,>=1.6.3->tensorboard>=1.15->joeynmt==1.3) (4.2.4)\n",
            "Requirement already satisfied: pyasn1-modules>=0.2.1 in /usr/local/lib/python3.7/dist-packages (from google-auth<2,>=1.6.3->tensorboard>=1.15->joeynmt==1.3) (0.2.8)\n",
            "Requirement already satisfied: rsa<5,>=3.1.4 in /usr/local/lib/python3.7/dist-packages (from google-auth<2,>=1.6.3->tensorboard>=1.15->joeynmt==1.3) (4.7.2)\n",
            "Requirement already satisfied: requests-oauthlib>=0.7.0 in /usr/local/lib/python3.7/dist-packages (from google-auth-oauthlib<0.5,>=0.4.1->tensorboard>=1.15->joeynmt==1.3) (1.3.0)\n",
            "Requirement already satisfied: importlib-metadata in /usr/local/lib/python3.7/dist-packages (from markdown>=2.6.8->tensorboard>=1.15->joeynmt==1.3) (4.8.1)\n",
            "Requirement already satisfied: pyasn1<0.5.0,>=0.4.6 in /usr/local/lib/python3.7/dist-packages (from pyasn1-modules>=0.2.1->google-auth<2,>=1.6.3->tensorboard>=1.15->joeynmt==1.3) (0.4.8)\n",
            "Requirement already satisfied: idna<3,>=2.5 in /usr/local/lib/python3.7/dist-packages (from requests<3,>=2.21.0->tensorboard>=1.15->joeynmt==1.3) (2.10)\n",
            "Requirement already satisfied: chardet<4,>=3.0.2 in /usr/local/lib/python3.7/dist-packages (from requests<3,>=2.21.0->tensorboard>=1.15->joeynmt==1.3) (3.0.4)\n",
            "Requirement already satisfied: certifi>=2017.4.17 in /usr/local/lib/python3.7/dist-packages (from requests<3,>=2.21.0->tensorboard>=1.15->joeynmt==1.3) (2021.5.30)\n",
            "Requirement already satisfied: urllib3!=1.25.0,!=1.25.1,<1.26,>=1.21.1 in /usr/local/lib/python3.7/dist-packages (from requests<3,>=2.21.0->tensorboard>=1.15->joeynmt==1.3) (1.24.3)\n",
            "Requirement already satisfied: oauthlib>=3.0.0 in /usr/local/lib/python3.7/dist-packages (from requests-oauthlib>=0.7.0->google-auth-oauthlib<0.5,>=0.4.1->tensorboard>=1.15->joeynmt==1.3) (3.1.1)\n",
            "Requirement already satisfied: tqdm in /usr/local/lib/python3.7/dist-packages (from torchtext>=0.10.0->joeynmt==1.3) (4.62.3)\n",
            "Requirement already satisfied: zipp>=0.5 in /usr/local/lib/python3.7/dist-packages (from importlib-metadata->markdown>=2.6.8->tensorboard>=1.15->joeynmt==1.3) (3.6.0)\n",
            "Requirement already satisfied: kiwisolver>=1.0.1 in /usr/local/lib/python3.7/dist-packages (from matplotlib->joeynmt==1.3) (1.3.2)\n",
            "Requirement already satisfied: cycler>=0.10 in /usr/local/lib/python3.7/dist-packages (from matplotlib->joeynmt==1.3) (0.10.0)\n",
            "Requirement already satisfied: python-dateutil>=2.1 in /usr/local/lib/python3.7/dist-packages (from matplotlib->joeynmt==1.3) (2.8.2)\n",
            "Requirement already satisfied: pyparsing!=2.0.4,!=2.1.2,!=2.1.6,>=2.0.1 in /usr/local/lib/python3.7/dist-packages (from matplotlib->joeynmt==1.3) (2.4.7)\n",
            "Requirement already satisfied: pandas>=0.23 in /usr/local/lib/python3.7/dist-packages (from seaborn->joeynmt==1.3) (1.1.5)\n",
            "Requirement already satisfied: scipy>=1.0 in /usr/local/lib/python3.7/dist-packages (from seaborn->joeynmt==1.3) (1.4.1)\n",
            "Requirement already satisfied: pytz>=2017.2 in /usr/local/lib/python3.7/dist-packages (from pandas>=0.23->seaborn->joeynmt==1.3) (2018.9)\n",
            "Building wheels for collected packages: joeynmt, wrapt\n",
            "  Building wheel for joeynmt (setup.py) ... \u001b[?25l\u001b[?25hdone\n",
            "  Created wheel for joeynmt: filename=joeynmt-1.3-py3-none-any.whl size=86029 sha256=a83a24256818049b92bf44666239c42e79da4ce144c835ba3d81c4af369aaf28\n",
            "  Stored in directory: /tmp/pip-ephem-wheel-cache-6gl2xjlh/wheels/0a/f4/bf/6c9d3b8efbfece6cd209f865be37382b02e7c3584df2e28ca4\n",
            "  Building wheel for wrapt (setup.py) ... \u001b[?25l\u001b[?25hdone\n",
            "  Created wheel for wrapt: filename=wrapt-1.11.1-cp37-cp37m-linux_x86_64.whl size=68437 sha256=6684b8e8a7a0df934ebebaf9637d69fb0819d10c63528617899c73cd029de6b2\n",
            "  Stored in directory: /root/.cache/pip/wheels/4e/58/9d/da8bad4545585ca52311498ff677647c95c7b690b3040171f8\n",
            "Successfully built joeynmt wrapt\n",
            "Installing collected packages: typing-extensions, six, wrapt, typed-ast, lazy-object-proxy, portalocker, platformdirs, mccabe, isort, colorama, astroid, subword-nmt, sacrebleu, pyyaml, pylint, joeynmt\n",
            "\u001b[33m  WARNING: The scripts isort and isort-identify-imports are installed in '/root/.local/bin' which is not on PATH.\n",
            "  Consider adding this directory to PATH or, if you prefer to suppress this warning, use --no-warn-script-location.\u001b[0m\n",
            "\u001b[33m  WARNING: The script subword-nmt is installed in '/root/.local/bin' which is not on PATH.\n",
            "  Consider adding this directory to PATH or, if you prefer to suppress this warning, use --no-warn-script-location.\u001b[0m\n",
            "\u001b[33m  WARNING: The script sacrebleu is installed in '/root/.local/bin' which is not on PATH.\n",
            "  Consider adding this directory to PATH or, if you prefer to suppress this warning, use --no-warn-script-location.\u001b[0m\n",
            "\u001b[33m  WARNING: The scripts epylint, pylint, pyreverse and symilar are installed in '/root/.local/bin' which is not on PATH.\n",
            "  Consider adding this directory to PATH or, if you prefer to suppress this warning, use --no-warn-script-location.\u001b[0m\n",
            "\u001b[31mERROR: pip's dependency resolver does not currently take into account all the packages that are installed. This behaviour is the source of the following dependency conflicts.\n",
            "tensorflow 2.6.0 requires six~=1.15.0, but you have six 1.12.0 which is incompatible.\n",
            "tensorflow 2.6.0 requires typing-extensions~=3.7.4, but you have typing-extensions 3.10.0.2 which is incompatible.\n",
            "tensorflow 2.6.0 requires wrapt~=1.12.1, but you have wrapt 1.11.1 which is incompatible.\n",
            "google-colab 1.0.0 requires six~=1.15.0, but you have six 1.12.0 which is incompatible.\n",
            "google-api-python-client 1.12.8 requires six<2dev,>=1.13.0, but you have six 1.12.0 which is incompatible.\n",
            "google-api-core 1.26.3 requires six>=1.13.0, but you have six 1.12.0 which is incompatible.\n",
            "datascience 0.10.6 requires folium==0.2.1, but you have folium 0.8.3 which is incompatible.\n",
            "albumentations 0.1.12 requires imgaug<0.2.7,>=0.2.5, but you have imgaug 0.2.9 which is incompatible.\u001b[0m\n",
            "Successfully installed astroid-2.8.3 colorama-0.4.4 isort-5.9.3 joeynmt-1.3 lazy-object-proxy-1.6.0 mccabe-0.6.1 platformdirs-2.4.0 portalocker-2.3.2 pylint-2.11.1 pyyaml-6.0 sacrebleu-2.0.0 six-1.12.0 subword-nmt-0.3.7 typed-ast-1.4.3 typing-extensions-3.10.0.2 wrapt-1.11.1\n"
          ]
        },
        {
          "output_type": "execute_result",
          "data": {
            "text/plain": [
              ""
            ]
          },
          "metadata": {},
          "execution_count": 2
        }
      ]
    },
    {
      "cell_type": "markdown",
      "metadata": {
        "id": "Rds9jXO0rS0a"
      },
      "source": [
        "## Data: WMT19 Russian - English\n",
        "\n",
        "Data sources:\n",
        "- commoncrawl.ru-en\n",
        "- news-commentary-v12.ru-en\n",
        "- news-commentary-v14.ru-en\n",
        "\n",
        "We will use the preprocessed data:\n",
        "- BPE dictionary of 24K tokens\n",
        "- Length cleaning: discard sentences with more than 1.5 length ratio\n",
        "- Length cleaning: discard sentences with length > 250 tokens"
      ]
    },
    {
      "cell_type": "code",
      "metadata": {
        "colab": {
          "base_uri": "https://localhost:8080/"
        },
        "id": "mX-earkXkjEs",
        "outputId": "5f535456-38ae-40df-e62d-0e41540b58a1"
      },
      "source": [
        "!gdown --id 1UOmzPnYpDRD19Y264DYvIOzGt2ApiqFq\n",
        "!gdown --id 1NZTfibntOCLYfoO8kWLiFPpI_0dpXLdX\n",
        "!gdown --id 1Ud_TigF0MD5txInFMBOEdMq8GNbylxMU\n",
        "!gdown --id 1JVUOimOq3qa4d4dzaOG6JgpYofe5Y5m-\n",
        "!gdown --id 17UKjXif0j1PvCVabShxJqijOmtN7NlM7\n",
        "!gdown --id 1qEu5f0CZM6WAwsThIQ52rkMzj9RbpofQ\n",
        "!gdown --id 1McF0JYgwI5g1McFzsOjBG9SlFdP0NhCY\n",
        "!gdown --id 1Y1XwBY_9-eKzyl98NTnr5YjVMv3JaGIX"
      ],
      "execution_count": null,
      "outputs": [
        {
          "output_type": "stream",
          "name": "stdout",
          "text": [
            "Downloading...\n",
            "From: https://drive.google.com/uc?id=1UOmzPnYpDRD19Y264DYvIOzGt2ApiqFq\n",
            "To: /content/valid.en\n",
            "100% 1.54M/1.54M [00:00<00:00, 49.5MB/s]\n",
            "Downloading...\n",
            "From: https://drive.google.com/uc?id=1NZTfibntOCLYfoO8kWLiFPpI_0dpXLdX\n",
            "To: /content/train.ru\n",
            "100% 280M/280M [00:01<00:00, 177MB/s]\n",
            "Downloading...\n",
            "From: https://drive.google.com/uc?id=1Ud_TigF0MD5txInFMBOEdMq8GNbylxMU\n",
            "To: /content/train.en\n",
            "100% 151M/151M [00:00<00:00, 183MB/s]\n",
            "Downloading...\n",
            "From: https://drive.google.com/uc?id=1JVUOimOq3qa4d4dzaOG6JgpYofe5Y5m-\n",
            "To: /content/test.ru\n",
            "100% 436k/436k [00:00<00:00, 57.3MB/s]\n",
            "Downloading...\n",
            "From: https://drive.google.com/uc?id=17UKjXif0j1PvCVabShxJqijOmtN7NlM7\n",
            "To: /content/test.en\n",
            "100% 256k/256k [00:00<00:00, 36.5MB/s]\n",
            "Downloading...\n",
            "From: https://drive.google.com/uc?id=1qEu5f0CZM6WAwsThIQ52rkMzj9RbpofQ\n",
            "To: /content/dict.ru.txt\n",
            "100% 516k/516k [00:00<00:00, 34.4MB/s]\n",
            "Downloading...\n",
            "From: https://drive.google.com/uc?id=1McF0JYgwI5g1McFzsOjBG9SlFdP0NhCY\n",
            "To: /content/valid.ru\n",
            "100% 2.85M/2.85M [00:00<00:00, 90.0MB/s]\n",
            "Downloading...\n",
            "From: https://drive.google.com/uc?id=1Y1XwBY_9-eKzyl98NTnr5YjVMv3JaGIX\n",
            "To: /content/dict.en.joey.txt\n",
            "100% 210k/210k [00:00<00:00, 30.9MB/s]\n"
          ]
        }
      ]
    },
    {
      "cell_type": "code",
      "metadata": {
        "colab": {
          "base_uri": "https://localhost:8080/"
        },
        "id": "17ma02zId-Ib",
        "outputId": "2bc1d271-f68e-4002-ea3e-4a53147231bd"
      },
      "source": [
        "! gdown --id 1EzCJB_JuTxKv4cAsZfA9gZX6RF4ckCqL"
      ],
      "execution_count": null,
      "outputs": [
        {
          "output_type": "stream",
          "name": "stdout",
          "text": [
            "Downloading...\n",
            "From: https://drive.google.com/uc?id=1EzCJB_JuTxKv4cAsZfA9gZX6RF4ckCqL\n",
            "To: /content/dict.ru.joey.txt\n",
            "\r  0% 0.00/365k [00:00<?, ?B/s]\r100% 365k/365k [00:00<00:00, 47.5MB/s]\n"
          ]
        }
      ]
    },
    {
      "cell_type": "markdown",
      "metadata": {
        "id": "_U_HR1VYp2Qk"
      },
      "source": [
        "## Printing some training data\n",
        "\n",
        "Here we deal with the so called parallel corpus: every input sentence has a known matching translation. \n",
        "\n",
        "This differs from self-supervised next word prediction where we do not need any specific annotation such as translation.\n",
        "\n",
        "Note that our data is:\n",
        "\n",
        "1. Tokenized: punctuation is separated etc.\n",
        "2. BPE processed: tokens are splitted using the BPE subword tokenization.\n"
      ]
    },
    {
      "cell_type": "code",
      "metadata": {
        "colab": {
          "base_uri": "https://localhost:8080/"
        },
        "id": "Ce4DZm8WqZhT",
        "outputId": "93d4606d-138d-4dc4-9e0e-acf6862b5b03"
      },
      "source": [
        "%%shell\n",
        "\n",
        "head -n 3 ./train.ru\n",
        "echo\n",
        "head -n 3 ./train.en"
      ],
      "execution_count": null,
      "outputs": [
        {
          "output_type": "stream",
          "name": "stdout",
          "text": [
            "ir@@ on c@@ ement - это гото@@ вая к использованию па@@ ста , которая на@@ носи@@ тся ш@@ па@@ телем или паль@@ цами в виде за@@ круг@@ ленного перехода в уг@@ лы ста@@ ле@@ ли@@ тей@@ ного ко@@ ки@@ ля .\n",
            "После отвер@@ ждения ir@@ on c@@ ement защи@@ щает ко@@ ки@@ ль от горя@@ чего аб@@ рази@@ вного ста@@ льного ли@@ тья .\n",
            "Перед каждой новой зали@@ вкой необходимо заново нанести ir@@ on c@@ ement сло@@ ем тол@@ щи@@ ной ~ 2 @-@ 3 мм .\n",
            "\n",
            "iron cement is a ready for use p@@ aste which is laid as a fil@@ let by put@@ ty knife or finger in the m@@ ould edges ( corners ) of the steel ing@@ ot m@@ ould .\n",
            "iron cement protects the ing@@ ot against the hot , ab@@ ra@@ sive steel casting process .\n",
            "iron cement is fre@@ shly applied after each steel pour in a co@@ ating th@@ ick@@ ness of appro@@ x . ~ 2 @-@ 3 mm .\n"
          ]
        },
        {
          "output_type": "execute_result",
          "data": {
            "text/plain": [
              ""
            ]
          },
          "metadata": {},
          "execution_count": 5
        }
      ]
    },
    {
      "cell_type": "markdown",
      "metadata": {
        "id": "dbpxhqZt5gkZ"
      },
      "source": [
        "### BPE: Byte-pair encoding\n",
        "\n",
        "Byte Pair Encoding (BPE) (Gage, 1994) is a simple data compression technique that iteratively replaces the most frequent pair of bytes in a sequence with a single, unused byte:\n",
        "\n",
        "![](https://drive.google.com/uc?export=view&id=1OmhcjMaG1Frtyh_x9BmwOcui-dovTKyY)\n",
        "ref: https://aclanthology.org/P16-1162.pdf\n",
        "\n",
        "### BPE merge table vs. final vocabulary\n",
        "\n",
        "After learning/training BPE merges we end up wuth the so-called merge list (number defines the priority of this merge) which looks like this in case of fastBPE implementation:\n",
        "\n",
        "```\n",
        "t h 813208255\n",
        "i n 595777764\n",
        "a n 473755026\n",
        "th e</w> 453078113\n",
        "r e 381306770\n",
        "e r 348447747\n",
        "p o 303854151\n",
        "e d</w> 302870348\n",
        "e n 292459577\n",
        "t i 290010185\n",
        "a r 289704821\n",
        "in g</w> 286152168\n",
        "e r</w> 285163016\n",
        "o u 276139145\n",
        "o n 274496732\n",
        "t o</w> 259597436\n",
        "o n</w> 258369586\n",
        "an d</w> 234359337\n",
        "o f</w> 225115691\n",
        "o r 217513055\n",
        "```\n",
        "\n",
        "note that some merges include `<w>` end of word special character. For example, `the` is produced by merging two subword units `th` and `e`.\n",
        "\n",
        "We specify maximum number of merge operations when we learn BPE codes. Thus the effective vocabulary size **will differ** from this number of merges since we expect single characters to appear as well which do not have any merge operations. In addition, a character may appear as ending the word token e.g. `e` or inter-word token `e@@` which gives us `2*num_characters`. \n",
        "\n",
        "What else can appear in the final vocabulary / dictionary after we apply BPE on the training data? Unique tokens which were not utilized by BPE algorithm e.g. some noise / foreign abbreviations in english data or so.\n",
        "\n",
        "As an informative example, our setup had max 24K BPE merges while our vocabulary reached ~32K tokens. You can check the dictionary as well as BPE codes as text files here in Colab.\n",
        "\n",
        "To wrap it up, the general pipeline is: \n",
        "\n",
        "1. Learn BPE from given corpus.\n",
        "2. Apply BPE on that corpus to create BPE-level variant.\n",
        "3. Create vocabulary based on BPE-level variant as we always do in this class.\n",
        "\n",
        "### Visualization of applying the BPE algorithm on a given word to tokenize it\n",
        "\n",
        "Visual example from https://lena-voita.github.io/nlp_course/seq2seq_and_attention.html#bpe\n",
        "\n",
        "![](https://lena-voita.github.io/resources/lectures/seq2seq/bpe/bpe_apply.gif)"
      ]
    },
    {
      "cell_type": "markdown",
      "metadata": {
        "id": "CoPtGYZLqxJs"
      },
      "source": [
        "## Training model from scratch\n",
        "\n",
        "Here we compose Joey-NMT config to train seq2seq transformer model from scratch.\n",
        "\n",
        "Training of such model takes a while, so we don't rely on training it during the lab but use the pre-trained model which we prepared for you beforehand."
      ]
    },
    {
      "cell_type": "code",
      "metadata": {
        "id": "-WD98k3_lvJ2"
      },
      "source": [
        "# This creates the config file for our JoeyNMT system. It might seem overwhelming so we've provided a couple of useful parameters you'll need to update\n",
        "# (You can of course play with all the parameters if you'd like!)\n",
        "\n",
        "source_language='ru'\n",
        "target_language='en'\n",
        "\n",
        "name = '%s%s' % (source_language, target_language)\n",
        "\n",
        "# Create the config\n",
        "config = \"\"\"\n",
        "name: \"{name}_transformer\"\n",
        "\n",
        "data:\n",
        "    src: \"{source_language}\"\n",
        "    trg: \"{target_language}\"\n",
        "    train: \"./train\"\n",
        "    dev:   \"./valid\"\n",
        "    test:  \"./test\"\n",
        "    level: \"bpe\"\n",
        "    lowercase: True\n",
        "    max_sent_length: 250\n",
        "    src_vocab: \"./dict.ru.joey.txt\"\n",
        "    trg_vocab: \"./dict.en.joey.txt\"\n",
        "\n",
        "testing:\n",
        "    beam_size: 1\n",
        "    alpha: 1.0\n",
        "    sacrebleu:                      # sacrebleu options\n",
        "        remove_whitespace: True     # `remove_whitespace` option in sacrebleu.corpus_chrf() function (defalut: True)\n",
        "        tokenize: \"none\"            # `tokenize` option in sacrebleu.corpus_bleu() function (options include: \"none\" (use for already tokenized test data), \"13a\" (default minimal tokenizer), \"intl\" which mostly does punctuation and unicode, etc) \n",
        "\n",
        "training:\n",
        "    random_seed: 42\n",
        "    optimizer: \"adam\"\n",
        "    normalization: \"tokens\"\n",
        "    adam_betas: [0.9, 0.999] \n",
        "    scheduling: \"plateau\"           # TODO: try switching from plateau to Noam scheduling\n",
        "    patience: 5                     # For plateau: decrease learning rate by decrease_factor if validation score has not improved for this many validation rounds.\n",
        "    learning_rate_factor: 0.5       # factor for Noam scheduler (used with Transformer)\n",
        "    learning_rate_warmup: 1000      # warmup steps for Noam scheduler (used with Transformer)\n",
        "    decrease_factor: 0.7\n",
        "    loss: \"crossentropy\"\n",
        "    learning_rate: 0.0003\n",
        "    learning_rate_min: 0.00000001\n",
        "    weight_decay: 0.0\n",
        "    label_smoothing: 0.1\n",
        "    batch_size: 4096\n",
        "    batch_type: \"token\"\n",
        "    eval_batch_size: 32\n",
        "    eval_batch_type: \"sentence\"\n",
        "    batch_multiplier: 1\n",
        "    early_stopping_metric: \"ppl\"\n",
        "    epochs: 30                     # TODO: Decrease for when playing around and checking of working. Around 30 is sufficient to check if its working at all\n",
        "    validation_freq: 5000          # TODO: Set to at least once per epoch.\n",
        "    logging_freq: 100\n",
        "    eval_metric: \"bleu\"\n",
        "    model_dir: \"models/nlp_lab_transformer_fromscratch\"\n",
        "    overwrite: True               # TODO: Set to True if you want to overwrite possibly existing models. \n",
        "    shuffle: True\n",
        "    use_cuda: True\n",
        "    max_output_length: 30\n",
        "    print_valid_sents: [0, 1, 2, 3]\n",
        "    keep_best_ckpts: 3\n",
        "\n",
        "model:\n",
        "    initializer: \"xavier\"\n",
        "    bias_initializer: \"zeros\"\n",
        "    init_gain: 1.0\n",
        "    embed_initializer: \"xavier\"\n",
        "    embed_init_gain: 1.0\n",
        "    tied_embeddings: False\n",
        "    tied_softmax: False\n",
        "    encoder:\n",
        "        type: \"transformer\"\n",
        "        num_layers: 6\n",
        "        num_heads: 4             # TODO: Increase to 8 for larger data.\n",
        "        embeddings:\n",
        "            embedding_dim: 256   # TODO: Increase to 512 for larger data.\n",
        "            scale: True\n",
        "            dropout: 0.2\n",
        "        # typically ff_size = 4 x hidden_size\n",
        "        hidden_size: 256         # TODO: Increase to 512 for larger data.\n",
        "        ff_size: 1024            # TODO: Increase to 2048 for larger data.\n",
        "        dropout: 0.3\n",
        "    decoder:\n",
        "        type: \"transformer\"\n",
        "        num_layers: 6\n",
        "        num_heads: 4              # TODO: Increase to 8 for larger data.\n",
        "        embeddings:\n",
        "            embedding_dim: 256    # TODO: Increase to 512 for larger data.\n",
        "            scale: True\n",
        "            dropout: 0.2\n",
        "        # typically ff_size = 4 x hidden_size\n",
        "        hidden_size: 256         # TODO: Increase to 512 for larger data.\n",
        "        ff_size: 1024            # TODO: Increase to 2048 for larger data.\n",
        "        dropout: 0.3\n",
        "\"\"\".format(name=name, source_language=source_language, target_language=target_language)\n",
        "with open(\"transformer_train_fromscratch.yaml\".format(name=name),'w') as f:\n",
        "    f.write(config)"
      ],
      "execution_count": null,
      "outputs": []
    },
    {
      "cell_type": "code",
      "metadata": {
        "id": "-W-kvmZxG-u6"
      },
      "source": [
        "from google.colab import drive\n",
        "drive.mount('/content/drive')"
      ],
      "execution_count": null,
      "outputs": []
    },
    {
      "cell_type": "code",
      "metadata": {
        "colab": {
          "base_uri": "https://localhost:8080/"
        },
        "id": "Ty5FaUgwmA8Q",
        "outputId": "f49fa0e5-0f5d-4017-b525-e7f0dadb62e6"
      },
      "source": [
        "!python3 -m joeynmt train ./transformer_train_fromscratch.yaml"
      ],
      "execution_count": null,
      "outputs": [
        {
          "output_type": "stream",
          "name": "stdout",
          "text": [
            "2021-10-19 18:59:25,981 - INFO - root - Hello! This is Joey-NMT (version 1.3).\n",
            "2021-10-19 18:59:26,045 - INFO - joeynmt.data - Loading training data...\n",
            "Traceback (most recent call last):\n",
            "  File \"/usr/lib/python3.7/runpy.py\", line 193, in _run_module_as_main\n",
            "    \"__main__\", mod_spec)\n",
            "  File \"/usr/lib/python3.7/runpy.py\", line 85, in _run_code\n",
            "    exec(code, run_globals)\n",
            "  File \"/root/.local/lib/python3.7/site-packages/joeynmt/__main__.py\", line 48, in <module>\n",
            "    main()\n",
            "  File \"/root/.local/lib/python3.7/site-packages/joeynmt/__main__.py\", line 35, in main\n",
            "    train(cfg_file=args.config_path, skip_test=args.skip_test)\n",
            "  File \"/root/.local/lib/python3.7/site-packages/joeynmt/training.py\", line 817, in train\n",
            "    data_cfg=cfg[\"data\"])\n",
            "  File \"/root/.local/lib/python3.7/site-packages/joeynmt/data.py\", line 81, in load_data\n",
            "    lambda x: len(vars(x)['src'])\n",
            "  File \"/usr/local/lib/python3.7/dist-packages/torchtext/legacy/datasets/translation.py\", line 43, in __init__\n",
            "  File \"/usr/local/lib/python3.7/dist-packages/torchtext/legacy/data/example.py\", line 84, in fromlist\n",
            "    setattr(ex, name, field.preprocess(val))\n",
            "  File \"/usr/local/lib/python3.7/dist-packages/torchtext/legacy/data/field.py\", line 211, in preprocess\n",
            "    x = Pipeline(str.lower)(x)\n",
            "  File \"/usr/local/lib/python3.7/dist-packages/torchtext/legacy/data/pipeline.py\", line 37, in __call__\n",
            "    x = pipe.call(x, *args)\n",
            "  File \"/usr/local/lib/python3.7/dist-packages/torchtext/legacy/data/pipeline.py\", line 51, in call\n",
            "    if isinstance(x, list):\n",
            "KeyboardInterrupt\n"
          ]
        }
      ]
    },
    {
      "cell_type": "markdown",
      "metadata": {
        "id": "VBSJGeHy2TaE"
      },
      "source": [
        "## Checking the model parameterization in the code\n",
        "\n",
        "1. We have an encoder-decoder type of model. Open `joeynmt/joeynmt/model.py`. Note how both RNN and Transformer based decoder/encoder are supported using base classes.\n",
        "\n",
        "2. Go to `decoders.py` and see that `encoder_hidden` and `unroll_steps` are not used in the case of transformer, but used with RNN/LSTM. **Why**? \n",
        "\n",
        "3. Go to `transformer_layers.py`. **Important!**: Decoder layer has 2 distinct attention components: source-target or encoder-decoder (not self) and causal target-target (self) attention (line 233-235). How are they combined then? (lines 260-272). More visual examples about encoder-decoder attention can be found here: https://jalammar.github.io/illustrated-transformer/\n",
        "\n",
        "Overall architecture looks like this on the high-level:\n",
        "\n",
        "![](https://drive.google.com/uc?export=view&id=17q7LuPPpCb7RyfGcfi3bofkvgRbKSYna)\n",
        "\n"
      ]
    },
    {
      "cell_type": "markdown",
      "metadata": {
        "id": "VF-LLEwGC8bH"
      },
      "source": [
        "## Downloading pre-trained model "
      ]
    },
    {
      "cell_type": "code",
      "metadata": {
        "id": "E-qp3AqqmiBR",
        "colab": {
          "base_uri": "https://localhost:8080/"
        },
        "outputId": "816d378f-cf9a-41f9-f38d-6c1529b3b8d9"
      },
      "source": [
        "%%shell\n",
        "\n",
        "gdown --id 1InJkMQiXaAxHnzbpedJST7ydxbdZZJfm"
      ],
      "execution_count": null,
      "outputs": [
        {
          "output_type": "stream",
          "name": "stdout",
          "text": [
            "Downloading...\n",
            "From: https://drive.google.com/uc?id=1InJkMQiXaAxHnzbpedJST7ydxbdZZJfm\n",
            "To: /content/pretrained_model.tar.gz\n",
            "100% 337M/337M [00:01<00:00, 171MB/s]\n"
          ]
        },
        {
          "output_type": "execute_result",
          "data": {
            "text/plain": [
              ""
            ]
          },
          "metadata": {},
          "execution_count": 7
        }
      ]
    },
    {
      "cell_type": "code",
      "metadata": {
        "id": "9Bw5u2wpdp9Q"
      },
      "source": [
        "! mkdir models"
      ],
      "execution_count": null,
      "outputs": []
    },
    {
      "cell_type": "code",
      "metadata": {
        "colab": {
          "base_uri": "https://localhost:8080/"
        },
        "id": "dh0gVf11zfwI",
        "outputId": "91110f7c-4dfc-4a7b-9bdd-c2d47b52e258"
      },
      "source": [
        "! tar xzvf pretrained_model.tar.gz --directory ./models/"
      ],
      "execution_count": null,
      "outputs": [
        {
          "output_type": "stream",
          "name": "stdout",
          "text": [
            "upload/\n",
            "upload/config.yaml\n",
            "upload/test.log\n",
            "upload/validations.txt\n",
            "upload/trg_vocab.txt\n",
            "upload/300000.ckpt\n",
            "upload/src_vocab.txt\n"
          ]
        }
      ]
    },
    {
      "cell_type": "code",
      "metadata": {
        "id": "CNwHluCrzx2r"
      },
      "source": [
        "# joeynmt can plot some statistic for us\n",
        "\n",
        "! python3 ./joeynmt/scripts/plot_validations.py ./models/upload/ --plot_values bleu PPL --output_path BLEU.png"
      ],
      "execution_count": null,
      "outputs": []
    },
    {
      "cell_type": "markdown",
      "metadata": {
        "id": "YsjMNFkw9wSD"
      },
      "source": [
        " ## NMT Evaluation: search / decoding / inference\n",
        "\n",
        " There exist many names under the procedure of finding the translation of a given unseen input using a model we have trained.\n",
        "\n",
        " Here we rely on the so called maximum of a posterior decision rule:\n",
        "\n",
        " $$\n",
        "\\hat{y} = \\arg_y \\max p(y|x;\\theta) \n",
        " $$\n",
        "\n",
        " where the posterior is a distribution over the unknown translation space which was trained using lots of translations from training data.\n",
        "\n",
        " **Very important:**\n",
        "\n",
        " $$\n",
        "\\max_y p(y|x;\\theta) = \\max_y \\prod_t p(y_t|y_{<t}, x; \\theta) \\neq \\prod_t \\max_y p(y_t|y_{<t}, x; \\theta).\n",
        " $$\n",
        "\n",
        " Here we are going to use beam search as an approximation algorithm to solve optimization problem above. We need to use an approximation since the variable length space of possible translation is extremely large.\n",
        "\n",
        "\n",
        "\n",
        " Due to time constraints we won't go deep in details about beam search, but we emphasize the most important hyper-parameter: **beam width / size**. Beam width determines the number of maintained hypotheses during the generation process to be considered at every time step. For example, beam size 1 means that only single hypothesis is being generated. This special case is often called greedy search. \n",
        " \n",
        " In contrast, beam width infinity will result in exact ebnumeration of all possible hypotheses thus it solves the optimization problem above exactly, however, it is infeasible to run this in practice."
      ]
    },
    {
      "cell_type": "code",
      "metadata": {
        "colab": {
          "base_uri": "https://localhost:8080/"
        },
        "id": "XR6QQPyNC72H",
        "outputId": "eb10900f-cdbe-41e2-bddb-fc12105510f5"
      },
      "source": [
        "# visual example of beam search from https://lena-voita.github.io/nlp_course/seq2seq_and_attention.html#seq2seq_inference\n",
        "! wget https://lena-voita.github.io/resources/lectures/seq2seq/general/beam_search.mp4"
      ],
      "execution_count": null,
      "outputs": [
        {
          "output_type": "stream",
          "name": "stdout",
          "text": [
            "--2021-10-19 21:35:50--  https://lena-voita.github.io/resources/lectures/seq2seq/general/beam_search.mp4\n",
            "Resolving lena-voita.github.io (lena-voita.github.io)... 185.199.108.153, 185.199.109.153, 185.199.110.153, ...\n",
            "Connecting to lena-voita.github.io (lena-voita.github.io)|185.199.108.153|:443... connected.\n",
            "HTTP request sent, awaiting response... 200 OK\n",
            "Length: 113260 (111K) [video/mp4]\n",
            "Saving to: ‘beam_search.mp4’\n",
            "\n",
            "\rbeam_search.mp4       0%[                    ]       0  --.-KB/s               \rbeam_search.mp4     100%[===================>] 110.61K  --.-KB/s    in 0.02s   \n",
            "\n",
            "2021-10-19 21:35:50 (5.34 MB/s) - ‘beam_search.mp4’ saved [113260/113260]\n",
            "\n"
          ]
        }
      ]
    },
    {
      "cell_type": "code",
      "metadata": {
        "colab": {
          "base_uri": "https://localhost:8080/",
          "height": 533
        },
        "id": "CVD-xbd3C2S9",
        "outputId": "ec242deb-9f66-4e1f-e058-b7fcbe22a9bb"
      },
      "source": [
        "from IPython.display import HTML\n",
        "from base64 import b64encode\n",
        "mp4 = open('beam_search.mp4','rb').read()\n",
        "data_url = \"data:video/mp4;base64,\" + b64encode(mp4).decode()\n",
        "HTML(\"\"\"\n",
        "<video width=1080 controls>\n",
        "      <source src=\"%s\" type=\"video/mp4\">\n",
        "</video>\n",
        "\"\"\" % data_url)"
      ],
      "execution_count": null,
      "outputs": [
        {
          "output_type": "execute_result",
          "data": {
            "text/html": [
              "\n",
              "<video width=1080 controls>\n",
              "      <source src=\"data:video/mp4;base64,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\" type=\"video/mp4\">\n",
              "</video>\n"
            ],
            "text/plain": [
              "<IPython.core.display.HTML object>"
            ]
          },
          "metadata": {},
          "execution_count": 12
        }
      ]
    },
    {
      "cell_type": "code",
      "metadata": {
        "id": "3HnP10RsEeAP"
      },
      "source": [
        "# removing validation data from the config so that we only generate on the test set\n",
        "with open('./models/upload/config.yaml', 'r') as f:\n",
        "    cfg = f.read()\n",
        "    cfg = cfg.replace('dev:   \"./valid\"', '')\n",
        "    new_cfg = open('./models/upload/config_testonly.yaml', 'w')\n",
        "    new_cfg.write(cfg)\n",
        "    new_cfg.close()"
      ],
      "execution_count": null,
      "outputs": []
    },
    {
      "cell_type": "code",
      "metadata": {
        "colab": {
          "base_uri": "https://localhost:8080/"
        },
        "id": "hOlyr36IIMfW",
        "outputId": "0d3ed2ab-de41-4dc2-e3d0-6b49cd7d7de7"
      },
      "source": [
        "! python3 -m joeynmt test ./models/upload/config_testonly.yaml"
      ],
      "execution_count": null,
      "outputs": [
        {
          "output_type": "stream",
          "name": "stdout",
          "text": [
            "2021-10-19 19:44:09,170 - INFO - root - Hello! This is Joey-NMT (version 1.3).\n",
            "2021-10-19 19:44:09,171 - INFO - joeynmt.data - Building vocabulary...\n",
            "2021-10-19 19:44:23,628 - INFO - joeynmt.data - Loading test data...\n",
            "2021-10-19 19:44:23,724 - INFO - joeynmt.data - Data loaded.\n",
            "2021-10-19 19:44:23,747 - INFO - joeynmt.prediction - Process device: cuda, n_gpu: 1, batch_size per device: 32\n",
            "2021-10-19 19:44:23,747 - INFO - joeynmt.prediction - Loading model from models/upload/300000.ckpt\n",
            "2021-10-19 19:44:26,388 - INFO - joeynmt.model - Building an encoder-decoder model...\n",
            "2021-10-19 19:44:26,996 - INFO - joeynmt.model - Enc-dec model built.\n",
            "2021-10-19 19:44:27,113 - INFO - joeynmt.prediction - Decoding on test set (./test.en)...\n",
            "2021-10-19 19:45:05,782 - WARNING - sacrebleu - That's 100 lines that end in a tokenized period ('.')\n",
            "2021-10-19 19:45:05,782 - WARNING - sacrebleu - It looks like you forgot to detokenize your test data, which may hurt your score.\n",
            "2021-10-19 19:45:05,782 - WARNING - sacrebleu - If you insist your data is detokenized, or don't care, you can suppress this message with the `force` parameter.\n",
            "2021-10-19 19:45:05,793 - INFO - joeynmt.prediction - test bleu[none]:  19.21 [Greedy decoding]\n"
          ]
        }
      ]
    },
    {
      "cell_type": "markdown",
      "metadata": {
        "id": "gICBX5BDIx2o"
      },
      "source": [
        "So, is this BLEU good? or bad? We will study the importance of a proper evaluation next week!"
      ]
    },
    {
      "cell_type": "markdown",
      "metadata": {
        "id": "hsAz1foIIFCR"
      },
      "source": [
        "## Interactive translation\n",
        "\n",
        "What do we need to perform live translation? **Pre-processing!**"
      ]
    },
    {
      "cell_type": "code",
      "metadata": {
        "colab": {
          "base_uri": "https://localhost:8080/"
        },
        "id": "piM6-jil9V6d",
        "outputId": "f86b5a4e-97ac-4c6d-b40e-46a4de491403"
      },
      "source": [
        "! pip install fastBPE"
      ],
      "execution_count": null,
      "outputs": [
        {
          "output_type": "stream",
          "name": "stdout",
          "text": [
            "Collecting fastBPE\n",
            "  Downloading fastBPE-0.1.0.tar.gz (35 kB)\n",
            "Building wheels for collected packages: fastBPE\n",
            "  Building wheel for fastBPE (setup.py) ... \u001b[?25l\u001b[?25hdone\n",
            "  Created wheel for fastBPE: filename=fastBPE-0.1.0-cp37-cp37m-linux_x86_64.whl size=483107 sha256=25209f370a46eb0ad148a9cdd59e4a4ca6f4f83606f01517cbfa3fa92cb890f5\n",
            "  Stored in directory: /root/.cache/pip/wheels/bd/d4/0e/0d317a65f77d3f8049fedd8a2ee0519164cf3e6bd77ef886f1\n",
            "Successfully built fastBPE\n",
            "Installing collected packages: fastBPE\n",
            "Successfully installed fastBPE-0.1.0\n"
          ]
        }
      ]
    },
    {
      "cell_type": "code",
      "metadata": {
        "colab": {
          "base_uri": "https://localhost:8080/"
        },
        "id": "ydQCtTVZCgzA",
        "outputId": "4861fe93-5b2f-4b90-c30d-7ed1a9093f73"
      },
      "source": [
        "! git clone https://github.com/glample/fastBPE.git"
      ],
      "execution_count": null,
      "outputs": [
        {
          "output_type": "stream",
          "name": "stdout",
          "text": [
            "Cloning into 'fastBPE'...\n",
            "remote: Enumerating objects: 59, done.\u001b[K\n",
            "remote: Total 59 (delta 0), reused 0 (delta 0), pack-reused 59\u001b[K\n",
            "Unpacking objects: 100% (59/59), done.\n"
          ]
        }
      ]
    },
    {
      "cell_type": "code",
      "metadata": {
        "id": "UnOz2UqRCwZ0"
      },
      "source": [
        "! g++ -std=c++11 -pthread -O3 fastBPE/fastBPE/main.cc -IfastBPE -o fast"
      ],
      "execution_count": null,
      "outputs": []
    },
    {
      "cell_type": "code",
      "metadata": {
        "colab": {
          "base_uri": "https://localhost:8080/"
        },
        "id": "0AysOC0ADQdE",
        "outputId": "6d9c21a4-6f9e-4b4b-f62d-cbb83f4f472c"
      },
      "source": [
        "! gdown --id 1BgT0l4vkZ7n_cXmBLMf4DL9NtdI60VAE\n",
        "! gdown --id 1Vw8QJfJ9bnmNZCXaT0HZWnttaYItMW9M "
      ],
      "execution_count": null,
      "outputs": [
        {
          "output_type": "stream",
          "name": "stdout",
          "text": [
            "Downloading...\n",
            "From: https://drive.google.com/uc?id=1BgT0l4vkZ7n_cXmBLMf4DL9NtdI60VAE\n",
            "To: /content/dict.ru.txt\n",
            "100% 516k/516k [00:00<00:00, 67.3MB/s]\n",
            "Downloading...\n",
            "From: https://drive.google.com/uc?id=1Vw8QJfJ9bnmNZCXaT0HZWnttaYItMW9M\n",
            "To: /content/ru24k.fastbpe.code\n",
            "100% 549k/549k [00:00<00:00, 34.9MB/s]\n"
          ]
        }
      ]
    },
    {
      "cell_type": "markdown",
      "metadata": {
        "id": "KwFhboSeEqEj"
      },
      "source": [
        "**Important!** \n",
        "\n",
        "You must use codes and vocab from the same pipeline which was used to train the model: vocabulary must match!"
      ]
    },
    {
      "cell_type": "code",
      "metadata": {
        "colab": {
          "base_uri": "https://localhost:8080/"
        },
        "id": "uVSmp-t5D0mU",
        "outputId": "2a637499-7757-4298-9926-379cc6576949"
      },
      "source": [
        "import fastBPE\n",
        "\n",
        "bpe = fastBPE.fastBPE('./ru24k.fastbpe.code', './dict.ru.txt')\n",
        "bpe.apply([\"Проверка кодирования входных строк , с шумной строкой : ствраовалпдвапваповалп .\"])"
      ],
      "execution_count": null,
      "outputs": [
        {
          "output_type": "execute_result",
          "data": {
            "text/plain": [
              "['Провер@@ ка коди@@ рования в@@ ход@@ ных стро@@ к , с ш@@ ум@@ ной стро@@ кой : ств@@ ра@@ о@@ ва@@ л@@ п@@ д@@ ва@@ п@@ ва@@ пова@@ л@@ п .']"
            ]
          },
          "metadata": {},
          "execution_count": 18
        }
      ]
    },
    {
      "cell_type": "code",
      "metadata": {
        "colab": {
          "base_uri": "https://localhost:8080/"
        },
        "id": "iYIK1kRpFbNp",
        "outputId": "3f83b45e-b04d-4094-c426-32a217f375f3"
      },
      "source": [
        "src = 'Дом и тогда был, как теперь, большой, с двумя воротами и четырьмя подъездами по улице, с тремя дворами в глубину.'\n",
        "ref = 'Then, as now, the house was large; it had two gates, four doorways onto the street, and three courtyards within.'\n",
        "\n",
        "bpe.apply([\"Дом и тогда был, как теперь, большой, с двумя воротами и четырьмя подъездами по улице, с тремя дворами в глубину.\".lower()])"
      ],
      "execution_count": null,
      "outputs": [
        {
          "output_type": "execute_result",
          "data": {
            "text/plain": [
              "['дом и тогда бы@@ л@@ , как те@@ пер@@ ь@@ , большо@@ й@@ , с двумя воро@@ тами и четы@@ рь@@ мя подъе@@ зда@@ ми по ули@@ це@@ , с тремя дво@@ рами в глубин@@ у@@ .']"
            ]
          },
          "metadata": {},
          "execution_count": 24
        }
      ]
    },
    {
      "cell_type": "code",
      "metadata": {
        "colab": {
          "base_uri": "https://localhost:8080/"
        },
        "id": "OClkLad3bw2X",
        "outputId": "d90f0090-7a4e-46d5-adfc-ef52ec46bab0"
      },
      "source": [
        "bpe.apply([\"В башкирском языке топоним «Урал» осознается как весьма древний , вероятно восходящий к пратюркскому состоянию .\".lower()])"
      ],
      "execution_count": null,
      "outputs": [
        {
          "output_type": "execute_result",
          "data": {
            "text/plain": [
              "['в баш@@ кир@@ ском языке топо@@ ним «@@ ура@@ л@@ » осозна@@ ется как весьма древ@@ ний , вероятно вос@@ ходя@@ щий к пра@@ тю@@ р@@ к@@ скому состоянию .']"
            ]
          },
          "metadata": {},
          "execution_count": 25
        }
      ]
    },
    {
      "cell_type": "code",
      "metadata": {
        "colab": {
          "base_uri": "https://localhost:8080/"
        },
        "id": "6sv_wcF0ENOD",
        "outputId": "d2ac220b-1e83-434c-fbaa-04b965b2022b"
      },
      "source": [
        "! python3 -m joeynmt translate ./models/upload/config.yaml"
      ],
      "execution_count": null,
      "outputs": [
        {
          "output_type": "stream",
          "name": "stdout",
          "text": [
            "2021-10-19 21:45:55,875 - INFO - root - Hello! This is Joey-NMT (version 1.3).\n",
            "2021-10-19 21:46:10,386 - INFO - joeynmt.prediction - Loading model from models/upload/300000.ckpt\n",
            "2021-10-19 21:46:25,125 - INFO - joeynmt.model - Building an encoder-decoder model...\n",
            "2021-10-19 21:46:25,850 - INFO - joeynmt.model - Enc-dec model built.\n",
            "\n",
            "Please enter a source sentence (pre-processed): \n",
            "дом и тогда бы@@ л@@ , как те@@ пер@@ ь@@ , большо@@ й@@ , с двумя воро@@ тами и четы@@ рь@@ мя подъе@@ зда@@ ми по ули@@ це@@ , с тремя дво@@ рами в глубин@@ у@@ .\n",
            "JoeyNMT: Hypotheses ranked by score\n",
            "JoeyNMT #1: house and then byl, as teperja , a big , with two gates and four rise on the street , with three courses in\n",
            "\n",
            "Please enter a source sentence (pre-processed): \n",
            "в баш@@ кир@@ ском языке топо@@ ним «@@ ура@@ л@@ » осозна@@ ется как весьма древ@@ ний , вероятно вос@@ ходя@@ щий к пра@@ тю@@ р@@ к@@ скому состоянию .\n",
            "JoeyNMT: Hypotheses ranked by score\n",
            "JoeyNMT #1: in bashkir language the topotopology of uralba is realized as a very ancient , probably rising to prürk\n",
            "\n",
            "Please enter a source sentence (pre-processed): \n",
            "\n",
            "Bye.\n",
            "Traceback (most recent call last):\n",
            "  File \"/usr/lib/python3.7/runpy.py\", line 193, in _run_module_as_main\n",
            "    \"__main__\", mod_spec)\n",
            "  File \"/usr/lib/python3.7/runpy.py\", line 85, in _run_code\n",
            "    exec(code, run_globals)\n",
            "  File \"/root/.local/lib/python3.7/site-packages/joeynmt/__main__.py\", line 48, in <module>\n",
            "    main()\n",
            "  File \"/root/.local/lib/python3.7/site-packages/joeynmt/__main__.py\", line 42, in main\n",
            "    n_best=args.nbest)\n",
            "KeyboardInterrupt\n"
          ]
        }
      ]
    },
    {
      "cell_type": "code",
      "metadata": {
        "id": "oXinJB55FJAZ"
      },
      "source": [
        "# increasing the beam size by changing the config file\n",
        "template_config = open('./models/upload/config.yaml', 'r').read()"
      ],
      "execution_count": null,
      "outputs": []
    },
    {
      "cell_type": "code",
      "metadata": {
        "id": "-jZPhtyOJbsi"
      },
      "source": [
        "beams = [5,10,20,50,100]\n",
        "\n",
        "for b in beams:\n",
        "    new_config = template_config.replace('beam_size: 1', f'beam_size: {b}').replace('dev:   \"./valid\"', '')\n",
        "    with open(f'./models/upload/config_beam_{b}.yaml', 'w') as f:\n",
        "        f.write(new_config)"
      ],
      "execution_count": null,
      "outputs": []
    },
    {
      "cell_type": "code",
      "metadata": {
        "colab": {
          "base_uri": "https://localhost:8080/"
        },
        "id": "oHZ1wd_wJc7p",
        "outputId": "9fc6529a-44c0-43cb-98f4-017dc0686a25"
      },
      "source": [
        "! python3 -m joeynmt translate ./models/upload/config_beam_100.yaml"
      ],
      "execution_count": null,
      "outputs": [
        {
          "output_type": "stream",
          "name": "stdout",
          "text": [
            "2021-10-19 21:52:01,113 - INFO - root - Hello! This is Joey-NMT (version 1.3).\n",
            "2021-10-19 21:52:15,298 - INFO - joeynmt.prediction - Loading model from models/upload/300000.ckpt\n",
            "2021-10-19 21:52:17,832 - INFO - joeynmt.model - Building an encoder-decoder model...\n",
            "2021-10-19 21:52:18,450 - INFO - joeynmt.model - Enc-dec model built.\n",
            "\n",
            "Please enter a source sentence (pre-processed): \n",
            "дом и тогда бы@@ л@@ , как те@@ пер@@ ь@@ , большо@@ й@@ , с двумя воро@@ тами и четы@@ рь@@ мя подъе@@ зда@@ ми по ули@@ це@@ , с тремя дво@@ рами в глубин@@ у@@ .\n",
            "JoeyNMT: Hypotheses ranked by score\n",
            "JoeyNMT #1: house and then bull as teperja , big , with two gates and four houses on the street , with three courtyards in depth .\n",
            "\n",
            "Please enter a source sentence (pre-processed): \n",
            "\n",
            "Bye.\n",
            "Traceback (most recent call last):\n",
            "  File \"/usr/lib/python3.7/runpy.py\", line 193, in _run_module_as_main\n",
            "    \"__main__\", mod_spec)\n",
            "  File \"/usr/lib/python3.7/runpy.py\", line 85, in _run_code\n",
            "    exec(code, run_globals)\n",
            "  File \"/root/.local/lib/python3.7/site-packages/joeynmt/__main__.py\", line 48, in <module>\n",
            "    main()\n",
            "  File \"/root/.local/lib/python3.7/site-packages/joeynmt/__main__.py\", line 42, in main\n",
            "    n_best=args.nbest)\n",
            "KeyboardInterrupt\n"
          ]
        }
      ]
    },
    {
      "cell_type": "markdown",
      "metadata": {
        "id": "wr7hfIZ6XB11"
      },
      "source": [
        "Analyzing the dependency between beam size and the length of generated translation"
      ]
    },
    {
      "cell_type": "code",
      "metadata": {
        "colab": {
          "base_uri": "https://localhost:8080/"
        },
        "id": "MV8WrTsuJ9iB",
        "outputId": "1a272f15-7781-4df3-daaf-e80ae9345273"
      },
      "source": [
        "! python3 -m joeynmt test ./models/upload/config_beam_5.yaml --output_path eval_out_5.txt"
      ],
      "execution_count": null,
      "outputs": [
        {
          "output_type": "stream",
          "name": "stdout",
          "text": [
            "2021-10-17 17:47:27,829 - INFO - root - Hello! This is Joey-NMT (version 1.3).\n",
            "2021-10-17 17:47:27,830 - INFO - joeynmt.data - Building vocabulary...\n",
            "2021-10-17 17:47:43,169 - INFO - joeynmt.data - Loading test data...\n",
            "2021-10-17 17:47:43,268 - INFO - joeynmt.data - Data loaded.\n",
            "2021-10-17 17:47:43,295 - INFO - joeynmt.prediction - Process device: cuda, n_gpu: 1, batch_size per device: 32\n",
            "2021-10-17 17:47:43,295 - INFO - joeynmt.prediction - Loading model from models/upload/300000.ckpt\n",
            "2021-10-17 17:47:45,986 - INFO - joeynmt.model - Building an encoder-decoder model...\n",
            "2021-10-17 17:47:46,603 - INFO - joeynmt.model - Enc-dec model built.\n",
            "2021-10-17 17:47:46,703 - INFO - joeynmt.prediction - Decoding on test set (./test.en)...\n",
            "2021-10-17 17:50:12,373 - WARNING - sacrebleu - That's 100 lines that end in a tokenized period ('.')\n",
            "2021-10-17 17:50:12,373 - WARNING - sacrebleu - It looks like you forgot to detokenize your test data, which may hurt your score.\n",
            "2021-10-17 17:50:12,373 - WARNING - sacrebleu - If you insist your data is detokenized, or don't care, you can suppress this message with the `force` parameter.\n",
            "2021-10-17 17:50:12,385 - INFO - joeynmt.prediction - test bleu[none]:  20.54 [Beam search decoding with beam size = 5 and alpha = 1.0]\n",
            "2021-10-17 17:50:12,387 - INFO - joeynmt.prediction - Translations saved to: eval_out_5.txt.test\n"
          ]
        }
      ]
    },
    {
      "cell_type": "code",
      "metadata": {
        "id": "YCQwgwLmbTh-",
        "colab": {
          "base_uri": "https://localhost:8080/"
        },
        "outputId": "d2e4ea5c-d416-4c8d-934a-ee1d403c2c58"
      },
      "source": [
        "! gdown --id 1GUCauFig_8iykf026IYbqn52HCf-e_EQ"
      ],
      "execution_count": null,
      "outputs": [
        {
          "output_type": "stream",
          "name": "stdout",
          "text": [
            "Downloading...\n",
            "From: https://drive.google.com/uc?id=1GUCauFig_8iykf026IYbqn52HCf-e_EQ\n",
            "To: /content/eval_out_5.txt.test\n",
            "\r  0% 0.00/202k [00:00<?, ?B/s]\r100% 202k/202k [00:00<00:00, 73.3MB/s]\n"
          ]
        }
      ]
    },
    {
      "cell_type": "code",
      "metadata": {
        "colab": {
          "base_uri": "https://localhost:8080/"
        },
        "id": "WvGLOKinXYy5",
        "outputId": "d5a707ec-ce3f-4cee-924d-29f1ced9e0ab"
      },
      "source": [
        "! python3 -m joeynmt test ./models/upload/config_beam_10.yaml --output_path eval_out_10.txt"
      ],
      "execution_count": null,
      "outputs": [
        {
          "output_type": "stream",
          "name": "stdout",
          "text": [
            "2021-10-17 17:50:45,911 - INFO - root - Hello! This is Joey-NMT (version 1.3).\n",
            "2021-10-17 17:50:45,912 - INFO - joeynmt.data - Building vocabulary...\n",
            "2021-10-17 17:51:01,139 - INFO - joeynmt.data - Loading test data...\n",
            "2021-10-17 17:51:01,237 - INFO - joeynmt.data - Data loaded.\n",
            "2021-10-17 17:51:01,261 - INFO - joeynmt.prediction - Process device: cuda, n_gpu: 1, batch_size per device: 32\n",
            "2021-10-17 17:51:01,262 - INFO - joeynmt.prediction - Loading model from models/upload/300000.ckpt\n",
            "2021-10-17 17:51:03,934 - INFO - joeynmt.model - Building an encoder-decoder model...\n",
            "2021-10-17 17:51:04,548 - INFO - joeynmt.model - Enc-dec model built.\n",
            "2021-10-17 17:51:04,649 - INFO - joeynmt.prediction - Decoding on test set (./test.en)...\n",
            "2021-10-17 17:55:52,742 - WARNING - sacrebleu - That's 100 lines that end in a tokenized period ('.')\n",
            "2021-10-17 17:55:52,742 - WARNING - sacrebleu - It looks like you forgot to detokenize your test data, which may hurt your score.\n",
            "2021-10-17 17:55:52,742 - WARNING - sacrebleu - If you insist your data is detokenized, or don't care, you can suppress this message with the `force` parameter.\n",
            "2021-10-17 17:55:52,754 - INFO - joeynmt.prediction - test bleu[none]:  20.52 [Beam search decoding with beam size = 10 and alpha = 1.0]\n",
            "2021-10-17 17:55:52,755 - INFO - joeynmt.prediction - Translations saved to: eval_out_10.txt.test\n"
          ]
        }
      ]
    },
    {
      "cell_type": "code",
      "metadata": {
        "id": "4myPEMR1bjWN",
        "colab": {
          "base_uri": "https://localhost:8080/"
        },
        "outputId": "664c37b0-acac-40e5-be3e-fb24274d8209"
      },
      "source": [
        "! gdown --id 1Z7iW2vb-krYlW3a9sNB7GRD_ujMGBaEM"
      ],
      "execution_count": null,
      "outputs": [
        {
          "output_type": "stream",
          "name": "stdout",
          "text": [
            "Downloading...\n",
            "From: https://drive.google.com/uc?id=1Z7iW2vb-krYlW3a9sNB7GRD_ujMGBaEM\n",
            "To: /content/eval_out_10.txt.test\n",
            "\r  0% 0.00/201k [00:00<?, ?B/s]\r100% 201k/201k [00:00<00:00, 28.1MB/s]\n"
          ]
        }
      ]
    },
    {
      "cell_type": "code",
      "metadata": {
        "colab": {
          "base_uri": "https://localhost:8080/"
        },
        "id": "cuYgwSdUXcGl",
        "outputId": "5f12192a-40ba-48e6-9542-62408b2d823b"
      },
      "source": [
        "! python3 -m joeynmt test ./models/upload/config_beam_20.yaml --output_path eval_out_20.txt"
      ],
      "execution_count": null,
      "outputs": [
        {
          "output_type": "stream",
          "name": "stdout",
          "text": [
            "2021-10-17 17:59:24,910 - INFO - root - Hello! This is Joey-NMT (version 1.3).\n",
            "2021-10-17 17:59:24,911 - INFO - joeynmt.data - Building vocabulary...\n",
            "2021-10-17 17:59:40,190 - INFO - joeynmt.data - Loading test data...\n",
            "2021-10-17 17:59:40,299 - INFO - joeynmt.data - Data loaded.\n",
            "2021-10-17 17:59:40,322 - INFO - joeynmt.prediction - Process device: cuda, n_gpu: 1, batch_size per device: 32\n",
            "2021-10-17 17:59:40,323 - INFO - joeynmt.prediction - Loading model from models/upload/300000.ckpt\n",
            "2021-10-17 17:59:43,033 - INFO - joeynmt.model - Building an encoder-decoder model...\n",
            "2021-10-17 17:59:43,647 - INFO - joeynmt.model - Enc-dec model built.\n",
            "2021-10-17 17:59:43,746 - INFO - joeynmt.prediction - Decoding on test set (./test.en)...\n",
            "2021-10-17 18:09:20,117 - WARNING - sacrebleu - That's 100 lines that end in a tokenized period ('.')\n",
            "2021-10-17 18:09:20,117 - WARNING - sacrebleu - It looks like you forgot to detokenize your test data, which may hurt your score.\n",
            "2021-10-17 18:09:20,117 - WARNING - sacrebleu - If you insist your data is detokenized, or don't care, you can suppress this message with the `force` parameter.\n",
            "2021-10-17 18:09:20,129 - INFO - joeynmt.prediction - test bleu[none]:  20.70 [Beam search decoding with beam size = 20 and alpha = 1.0]\n",
            "2021-10-17 18:09:20,131 - INFO - joeynmt.prediction - Translations saved to: eval_out_20.txt.test\n"
          ]
        }
      ]
    },
    {
      "cell_type": "code",
      "metadata": {
        "id": "X5V8Uz8wbbtl",
        "colab": {
          "base_uri": "https://localhost:8080/"
        },
        "outputId": "c7a1367f-e76e-40dd-ab7c-1d4f861fcef4"
      },
      "source": [
        "! gdown --id 1HFPFdgunachK29-NR3jjbg3h-2lEldxz"
      ],
      "execution_count": null,
      "outputs": [
        {
          "output_type": "stream",
          "name": "stdout",
          "text": [
            "Downloading...\n",
            "From: https://drive.google.com/uc?id=1HFPFdgunachK29-NR3jjbg3h-2lEldxz\n",
            "To: /content/eval_out_20.txt.test\n",
            "\r  0% 0.00/201k [00:00<?, ?B/s]\r100% 201k/201k [00:00<00:00, 76.0MB/s]\n"
          ]
        }
      ]
    },
    {
      "cell_type": "code",
      "metadata": {
        "colab": {
          "base_uri": "https://localhost:8080/"
        },
        "id": "OQUOJSHPZbsr",
        "outputId": "827a761a-60c8-45f3-de35-ef895e00868a"
      },
      "source": [
        "## analyzing the length distribution\n",
        "%pylab inline"
      ],
      "execution_count": null,
      "outputs": [
        {
          "output_type": "stream",
          "name": "stdout",
          "text": [
            "Populating the interactive namespace from numpy and matplotlib\n"
          ]
        },
        {
          "output_type": "stream",
          "name": "stderr",
          "text": [
            "/usr/local/lib/python3.7/dist-packages/IPython/core/magics/pylab.py:161: UserWarning: pylab import has clobbered these variables: ['f']\n",
            "`%matplotlib` prevents importing * from pylab and numpy\n",
            "  \"\\n`%matplotlib` prevents importing * from pylab and numpy\"\n"
          ]
        }
      ]
    },
    {
      "cell_type": "code",
      "metadata": {
        "colab": {
          "base_uri": "https://localhost:8080/",
          "height": 297
        },
        "id": "Sn2_G7KPaRru",
        "outputId": "ca10fed8-7783-45ab-f5d8-966129153b85"
      },
      "source": [
        "for b in [5,10,20]:\n",
        "\n",
        "    with open(f'./eval_out_{b}.txt.test', 'r') as f:\n",
        "        lines = f.readlines()\n",
        "        length = [len(l.split()) for l in lines]\n",
        "    plt.hist(length, bins=15, label=f'beam size {b}', alpha=.4)\n",
        "\n",
        "plt.legend()\n",
        "plt.xlabel('Generated sentence length')\n",
        "plt.ylabel('Count')"
      ],
      "execution_count": null,
      "outputs": [
        {
          "output_type": "execute_result",
          "data": {
            "text/plain": [
              "Text(0, 0.5, 'Count')"
            ]
          },
          "metadata": {},
          "execution_count": 33
        },
        {
          "output_type": "display_data",
          "data": {
            "image/png": "[encoded data removed]",
            "text/plain": [
              "<Figure size 432x288 with 1 Axes>"
            ]
          },
          "metadata": {
            "needs_background": "light"
          }
        }
      ]
    },
    {
      "cell_type": "code",
      "metadata": {
        "id": "-qm_qDE5avRy"
      },
      "source": [
        ""
      ],
      "execution_count": null,
      "outputs": []
    }
  ]
}